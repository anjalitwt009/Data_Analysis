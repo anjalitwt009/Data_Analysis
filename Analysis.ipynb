{
  "nbformat": 4,
  "nbformat_minor": 0,
  "metadata": {
    "colab": {
      "name": "Analysis.ipynb",
      "provenance": [],
      "collapsed_sections": []
    },
    "kernelspec": {
      "name": "python3",
      "display_name": "Python 3"
    }
  },
  "cells": [
    {
      "cell_type": "markdown",
      "metadata": {
        "id": "aAqdsjaj-Me2",
        "colab_type": "text"
      },
      "source": [
        "#**INTRODUCTION**"
      ]
    },
    {
      "cell_type": "markdown",
      "metadata": {
        "id": "r_yevZZG-X7J",
        "colab_type": "text"
      },
      "source": [
        " ## **1. DATA PREPARATION**\n",
        "\n",
        "\n",
        "\n"
      ]
    },
    {
      "cell_type": "code",
      "metadata": {
        "id": "SDz9ttWx98lu",
        "colab_type": "code",
        "colab": {}
      },
      "source": [
        "# Load libraries\n",
        "import pandas as pd\n",
        "from pandas.plotting import scatter_matrix\n",
        "import matplotlib.pyplot as plt\n",
        "import seaborn as sns\n",
        "import numpy as np\n",
        "from datetime import date \n",
        "from datetime import timedelta\n",
        "from dateutil import relativedelta\n",
        "\n",
        "from sklearn import model_selection\n",
        "from sklearn.metrics import classification_report\n",
        "from sklearn.metrics import confusion_matrix\n",
        "from sklearn.metrics import accuracy_score\n",
        "from sklearn.linear_model import LogisticRegression\n",
        "from sklearn.tree import DecisionTreeClassifier\n",
        "from sklearn.neighbors import KNeighborsClassifier\n",
        "from sklearn.discriminant_analysis import LinearDiscriminantAnalysis\n",
        "from sklearn.naive_bayes import GaussianNB\n",
        "from sklearn.svm import SVC\n",
        "from sklearn import *"
      ],
      "execution_count": 0,
      "outputs": []
    },
    {
      "cell_type": "code",
      "metadata": {
        "id": "qEI7fx7A_AYq",
        "colab_type": "code",
        "colab": {
          "base_uri": "https://localhost:8080/",
          "height": 319
        },
        "outputId": "1f62ecc6-9cd6-4354-9d54-4cfc287937e5"
      },
      "source": [
        "# Load dataset\n",
        "data_df =pd.read_csv(\"data.csv\")\n",
        "print(data_df.info())\n",
        "print(data_df.shape)"
      ],
      "execution_count": 2,
      "outputs": [
        {
          "output_type": "stream",
          "text": [
            "<class 'pandas.core.frame.DataFrame'>\n",
            "RangeIndex: 10220 entries, 0 to 10219\n",
            "Data columns (total 9 columns):\n",
            " #   Column           Non-Null Count  Dtype  \n",
            "---  ------           --------------  -----  \n",
            " 0   AccountingDate   10220 non-null  object \n",
            " 1   BirthDate        7439 non-null   object \n",
            " 2   DealNo           10220 non-null  int64  \n",
            " 3   DealType         10220 non-null  object \n",
            " 4   Email1Desc       4048 non-null   object \n",
            " 5   FIDealType       10220 non-null  object \n",
            " 6   FIIncome         10220 non-null  float64\n",
            " 7   FiWipStatusCode  10220 non-null  object \n",
            " 8   GrossProfit      10220 non-null  float64\n",
            "dtypes: float64(2), int64(1), object(6)\n",
            "memory usage: 718.7+ KB\n",
            "None\n",
            "(10220, 9)\n"
          ],
          "name": "stdout"
        }
      ]
    },
    {
      "cell_type": "code",
      "metadata": {
        "id": "sRqwkw1HCRcb",
        "colab_type": "code",
        "colab": {
          "base_uri": "https://localhost:8080/",
          "height": 151
        },
        "outputId": "88d41e9c-a317-4302-c2c3-98ff1c8bf267"
      },
      "source": [
        "print(data_df.head())"
      ],
      "execution_count": 3,
      "outputs": [
        {
          "output_type": "stream",
          "text": [
            "  AccountingDate   BirthDate  DealNo  ... FIIncome FiWipStatusCode GrossProfit\n",
            "0     17/03/2012  11/03/1941   64311  ...      0.0               F     1314.73\n",
            "1     30/10/2014  04/04/1953   87150  ...    250.0               F     1641.55\n",
            "2     07/06/2012  24/04/1948   66628  ...      0.0               F      425.66\n",
            "3     13/11/2009  24/05/1925   46106  ...      0.0               F     4032.21\n",
            "4     31/08/2006  12/06/1958   25584  ...      0.0               F     -369.10\n",
            "\n",
            "[5 rows x 9 columns]\n"
          ],
          "name": "stdout"
        }
      ]
    },
    {
      "cell_type": "code",
      "metadata": {
        "id": "M9rTmAuxVJjv",
        "colab_type": "code",
        "colab": {
          "base_uri": "https://localhost:8080/",
          "height": 185
        },
        "outputId": "1eadc742-d2d9-4c9c-f293-5a0e74fa0280"
      },
      "source": [
        "data_df.isnull().sum()"
      ],
      "execution_count": 45,
      "outputs": [
        {
          "output_type": "execute_result",
          "data": {
            "text/plain": [
              "AccountingDate        0\n",
              "BirthDate          2781\n",
              "DealNo                0\n",
              "DealType              0\n",
              "Email1Desc         6172\n",
              "FIDealType            0\n",
              "FIIncome              0\n",
              "FiWipStatusCode       0\n",
              "GrossProfit           0\n",
              "dtype: int64"
            ]
          },
          "metadata": {
            "tags": []
          },
          "execution_count": 45
        }
      ]
    },
    {
      "cell_type": "code",
      "metadata": {
        "id": "ZEDxz0TmBw6h",
        "colab_type": "code",
        "colab": {
          "base_uri": "https://localhost:8080/",
          "height": 218
        },
        "outputId": "df49dc29-b184-4419-d0d5-3c2ef9bea941"
      },
      "source": [
        "# Load dataset\n",
        "lookup_df =pd.read_csv(\"lookup.csv\")\n",
        "print(lookup_df.info())\n",
        "print(lookup_df.shape)"
      ],
      "execution_count": 6,
      "outputs": [
        {
          "output_type": "stream",
          "text": [
            "<class 'pandas.core.frame.DataFrame'>\n",
            "RangeIndex: 22 entries, 0 to 21\n",
            "Data columns (total 3 columns):\n",
            " #   Column      Non-Null Count  Dtype \n",
            "---  ------      --------------  ----- \n",
            " 0   DealType    21 non-null     object\n",
            " 1   FIDealType  20 non-null     object\n",
            " 2   Sale Type   22 non-null     object\n",
            "dtypes: object(3)\n",
            "memory usage: 656.0+ bytes\n",
            "None\n",
            "(22, 3)\n"
          ],
          "name": "stdout"
        }
      ]
    },
    {
      "cell_type": "code",
      "metadata": {
        "id": "0JrS-XAACs0K",
        "colab_type": "code",
        "colab": {
          "base_uri": "https://localhost:8080/",
          "height": 118
        },
        "outputId": "137e797d-3237-4f23-a684-3eb005ddaee8"
      },
      "source": [
        "print(lookup_df.head())"
      ],
      "execution_count": 5,
      "outputs": [
        {
          "output_type": "stream",
          "text": [
            "  DealType FIDealType Sale Type\n",
            "0     Demo       Demo       New\n",
            "1    Lease       Demo       New\n",
            "2    Lease        New       New\n",
            "3     Misc       Misc       New\n",
            "4      NaN        NaN       New\n"
          ],
          "name": "stdout"
        }
      ]
    },
    {
      "cell_type": "code",
      "metadata": {
        "id": "hguWsr6uGFWo",
        "colab_type": "code",
        "colab": {
          "base_uri": "https://localhost:8080/",
          "height": 67
        },
        "outputId": "457fadc0-e79d-49bb-fcea-66287a488a9b"
      },
      "source": [
        "print(data_df.columns)"
      ],
      "execution_count": 7,
      "outputs": [
        {
          "output_type": "stream",
          "text": [
            "Index(['AccountingDate', 'BirthDate', 'DealNo', 'DealType', 'Email1Desc',\n",
            "       'FIDealType', 'FIIncome', 'FiWipStatusCode', 'GrossProfit'],\n",
            "      dtype='object')\n"
          ],
          "name": "stdout"
        }
      ]
    },
    {
      "cell_type": "code",
      "metadata": {
        "id": "-zxMctRIJAkS",
        "colab_type": "code",
        "colab": {
          "base_uri": "https://localhost:8080/",
          "height": 34
        },
        "outputId": "4a2fe173-02e1-4d07-cdb8-53e2b298b7f5"
      },
      "source": [
        "# Drop duplicate rows\n",
        "data_df.drop_duplicates(keep ='last' )\n",
        "data_df.shape\n"
      ],
      "execution_count": 80,
      "outputs": [
        {
          "output_type": "execute_result",
          "data": {
            "text/plain": [
              "(10220, 9)"
            ]
          },
          "metadata": {
            "tags": []
          },
          "execution_count": 80
        }
      ]
    },
    {
      "cell_type": "code",
      "metadata": {
        "id": "Cb_bkbgVUQ6w",
        "colab_type": "code",
        "colab": {
          "base_uri": "https://localhost:8080/",
          "height": 50
        },
        "outputId": "c66f7367-9999-419f-ab32-b906b2cf0f54"
      },
      "source": [
        "data_df['FIDealType'].unique()"
      ],
      "execution_count": 43,
      "outputs": [
        {
          "output_type": "execute_result",
          "data": {
            "text/plain": [
              "array(['New', 'Used', 'Misc', 'Demo', 'Special Order', 'Rental'],\n",
              "      dtype=object)"
            ]
          },
          "metadata": {
            "tags": []
          },
          "execution_count": 43
        }
      ]
    },
    {
      "cell_type": "markdown",
      "metadata": {
        "id": "bgEmcsJZJN-U",
        "colab_type": "text"
      },
      "source": [
        "# Since after removing duplicates the size remains the same hence there are no duplicates."
      ]
    },
    {
      "cell_type": "markdown",
      "metadata": {
        "id": "RdNyuWuNJcSj",
        "colab_type": "text"
      },
      "source": [
        "a. The date a sale (deal) was made : 'AccountingDate', 'DealNo'\n",
        "\n",
        "b. A unique identifier representing the deal :'DealNo'\n",
        "\n",
        "c. The buyer’s date of birth :'BirthDate'\n",
        "\n",
        "d. The type of vehicle sold :'DealType'\n",
        "\n",
        "e. Profit made on the deal : 'GrossProfit','DealType'"
      ]
    },
    {
      "cell_type": "code",
      "metadata": {
        "id": "9lCmIXNPXdxe",
        "colab_type": "code",
        "colab": {
          "base_uri": "https://localhost:8080/",
          "height": 354
        },
        "outputId": "c0706026-72f7-498e-8575-f41006203270"
      },
      "source": [
        "data_df.groupby('DealType')['GrossProfit'].mean().plot(kind='bar', label =\"popularity\")"
      ],
      "execution_count": 53,
      "outputs": [
        {
          "output_type": "execute_result",
          "data": {
            "text/plain": [
              "<matplotlib.axes._subplots.AxesSubplot at 0x7f69102076d8>"
            ]
          },
          "metadata": {
            "tags": []
          },
          "execution_count": 53
        },
        {
          "output_type": "display_data",
          "data": {
            "image/png": "[encoded data removed]",
            "text/plain": [
              "<Figure size 432x288 with 1 Axes>"
            ]
          },
          "metadata": {
            "tags": [],
            "needs_background": "light"
          }
        }
      ]
    },
    {
      "cell_type": "code",
      "metadata": {
        "id": "YeXzcyNiJPpD",
        "colab_type": "code",
        "colab": {}
      },
      "source": [
        "categorical=['AccountingDate', 'BirthDate', 'DealNo', 'DealType', 'Email1Desc',\n",
        "       'FIDealType', 'FiWipStatusCode']\n",
        "numerical=['FIIncome', 'GrossProfit']"
      ],
      "execution_count": 0,
      "outputs": []
    },
    {
      "cell_type": "markdown",
      "metadata": {
        "id": "27XqMvo1JUoJ",
        "colab_type": "text"
      },
      "source": [
        "# The FIIncome column has a lot of negative values which makes no sense lets see how many positive values are there."
      ]
    },
    {
      "cell_type": "code",
      "metadata": {
        "id": "bnj8U2oPUyXc",
        "colab_type": "code",
        "colab": {
          "base_uri": "https://localhost:8080/",
          "height": 402
        },
        "outputId": "fa557c6c-3288-4ab1-ebcc-d4b875d49abe"
      },
      "source": [
        "data_df[data_df['FIIncome']>0]"
      ],
      "execution_count": 44,
      "outputs": [
        {
          "output_type": "execute_result",
          "data": {
            "text/html": [
              "<div>\n",
              "<style scoped>\n",
              "    .dataframe tbody tr th:only-of-type {\n",
              "        vertical-align: middle;\n",
              "    }\n",
              "\n",
              "    .dataframe tbody tr th {\n",
              "        vertical-align: top;\n",
              "    }\n",
              "\n",
              "    .dataframe thead th {\n",
              "        text-align: right;\n",
              "    }\n",
              "</style>\n",
              "<table border=\"1\" class=\"dataframe\">\n",
              "  <thead>\n",
              "    <tr style=\"text-align: right;\">\n",
              "      <th></th>\n",
              "      <th>AccountingDate</th>\n",
              "      <th>BirthDate</th>\n",
              "      <th>DealNo</th>\n",
              "      <th>DealType</th>\n",
              "      <th>Email1Desc</th>\n",
              "      <th>FIDealType</th>\n",
              "      <th>FIIncome</th>\n",
              "      <th>FiWipStatusCode</th>\n",
              "      <th>GrossProfit</th>\n",
              "    </tr>\n",
              "  </thead>\n",
              "  <tbody>\n",
              "    <tr>\n",
              "      <th>1</th>\n",
              "      <td>30/10/2014</td>\n",
              "      <td>04/04/1953</td>\n",
              "      <td>87150</td>\n",
              "      <td>New</td>\n",
              "      <td>HOME</td>\n",
              "      <td>New</td>\n",
              "      <td>250.00</td>\n",
              "      <td>F</td>\n",
              "      <td>1641.55</td>\n",
              "    </tr>\n",
              "    <tr>\n",
              "      <th>5</th>\n",
              "      <td>09/06/2015</td>\n",
              "      <td>07/10/1967</td>\n",
              "      <td>91784</td>\n",
              "      <td>Used</td>\n",
              "      <td>NaN</td>\n",
              "      <td>Used</td>\n",
              "      <td>622.85</td>\n",
              "      <td>F</td>\n",
              "      <td>0.25</td>\n",
              "    </tr>\n",
              "    <tr>\n",
              "      <th>7</th>\n",
              "      <td>14/09/2015</td>\n",
              "      <td>NaN</td>\n",
              "      <td>94101</td>\n",
              "      <td>Used</td>\n",
              "      <td>NaN</td>\n",
              "      <td>Used</td>\n",
              "      <td>656.63</td>\n",
              "      <td>F</td>\n",
              "      <td>759.66</td>\n",
              "    </tr>\n",
              "    <tr>\n",
              "      <th>8</th>\n",
              "      <td>01/04/2013</td>\n",
              "      <td>07/10/1949</td>\n",
              "      <td>73579</td>\n",
              "      <td>Lease</td>\n",
              "      <td>HOME</td>\n",
              "      <td>New</td>\n",
              "      <td>100.00</td>\n",
              "      <td>F</td>\n",
              "      <td>469.61</td>\n",
              "    </tr>\n",
              "    <tr>\n",
              "      <th>11</th>\n",
              "      <td>21/04/2016</td>\n",
              "      <td>10/05/1977</td>\n",
              "      <td>98735</td>\n",
              "      <td>New</td>\n",
              "      <td>HOME</td>\n",
              "      <td>New</td>\n",
              "      <td>200.00</td>\n",
              "      <td>F</td>\n",
              "      <td>94.81</td>\n",
              "    </tr>\n",
              "    <tr>\n",
              "      <th>...</th>\n",
              "      <td>...</td>\n",
              "      <td>...</td>\n",
              "      <td>...</td>\n",
              "      <td>...</td>\n",
              "      <td>...</td>\n",
              "      <td>...</td>\n",
              "      <td>...</td>\n",
              "      <td>...</td>\n",
              "      <td>...</td>\n",
              "    </tr>\n",
              "    <tr>\n",
              "      <th>10213</th>\n",
              "      <td>30/04/2008</td>\n",
              "      <td>17/09/1956</td>\n",
              "      <td>37296</td>\n",
              "      <td>Used</td>\n",
              "      <td>NaN</td>\n",
              "      <td>Used</td>\n",
              "      <td>666.66</td>\n",
              "      <td>F</td>\n",
              "      <td>-609.67</td>\n",
              "    </tr>\n",
              "    <tr>\n",
              "      <th>10216</th>\n",
              "      <td>26/12/2011</td>\n",
              "      <td>09/04/1985</td>\n",
              "      <td>62452</td>\n",
              "      <td>New</td>\n",
              "      <td>HOME</td>\n",
              "      <td>New</td>\n",
              "      <td>200.00</td>\n",
              "      <td>F</td>\n",
              "      <td>1158.69</td>\n",
              "    </tr>\n",
              "    <tr>\n",
              "      <th>10217</th>\n",
              "      <td>08/05/2017</td>\n",
              "      <td>25/09/1962</td>\n",
              "      <td>107300</td>\n",
              "      <td>Lease</td>\n",
              "      <td>HOME</td>\n",
              "      <td>New</td>\n",
              "      <td>100.00</td>\n",
              "      <td>F</td>\n",
              "      <td>296.69</td>\n",
              "    </tr>\n",
              "    <tr>\n",
              "      <th>10218</th>\n",
              "      <td>31/05/2006</td>\n",
              "      <td>09/10/1985</td>\n",
              "      <td>23725</td>\n",
              "      <td>Used</td>\n",
              "      <td>NaN</td>\n",
              "      <td>Used</td>\n",
              "      <td>885.86</td>\n",
              "      <td>F</td>\n",
              "      <td>2640.45</td>\n",
              "    </tr>\n",
              "    <tr>\n",
              "      <th>10219</th>\n",
              "      <td>11/10/2006</td>\n",
              "      <td>25/10/1965</td>\n",
              "      <td>26042</td>\n",
              "      <td>New</td>\n",
              "      <td>NaN</td>\n",
              "      <td>New</td>\n",
              "      <td>1662.87</td>\n",
              "      <td>F</td>\n",
              "      <td>2354.55</td>\n",
              "    </tr>\n",
              "  </tbody>\n",
              "</table>\n",
              "<p>4651 rows × 9 columns</p>\n",
              "</div>"
            ],
            "text/plain": [
              "      AccountingDate   BirthDate  DealNo  ... FIIncome FiWipStatusCode GrossProfit\n",
              "1         30/10/2014  04/04/1953   87150  ...   250.00               F     1641.55\n",
              "5         09/06/2015  07/10/1967   91784  ...   622.85               F        0.25\n",
              "7         14/09/2015         NaN   94101  ...   656.63               F      759.66\n",
              "8         01/04/2013  07/10/1949   73579  ...   100.00               F      469.61\n",
              "11        21/04/2016  10/05/1977   98735  ...   200.00               F       94.81\n",
              "...              ...         ...     ...  ...      ...             ...         ...\n",
              "10213     30/04/2008  17/09/1956   37296  ...   666.66               F     -609.67\n",
              "10216     26/12/2011  09/04/1985   62452  ...   200.00               F     1158.69\n",
              "10217     08/05/2017  25/09/1962  107300  ...   100.00               F      296.69\n",
              "10218     31/05/2006  09/10/1985   23725  ...   885.86               F     2640.45\n",
              "10219     11/10/2006  25/10/1965   26042  ...  1662.87               F     2354.55\n",
              "\n",
              "[4651 rows x 9 columns]"
            ]
          },
          "metadata": {
            "tags": []
          },
          "execution_count": 44
        }
      ]
    },
    {
      "cell_type": "code",
      "metadata": {
        "id": "lyjCmllFkRE2",
        "colab_type": "code",
        "colab": {}
      },
      "source": [
        "data_df[data_df['FIIncome'] < 0] = 0"
      ],
      "execution_count": 0,
      "outputs": []
    },
    {
      "cell_type": "code",
      "metadata": {
        "id": "cje8NQa9ki8Y",
        "colab_type": "code",
        "colab": {
          "base_uri": "https://localhost:8080/",
          "height": 34
        },
        "outputId": "9e00a77d-d886-488d-fa36-91e4c092b434"
      },
      "source": [
        "(data_df['FIIncome']>-1).sum()"
      ],
      "execution_count": 98,
      "outputs": [
        {
          "output_type": "execute_result",
          "data": {
            "text/plain": [
              "10220"
            ]
          },
          "metadata": {
            "tags": []
          },
          "execution_count": 98
        }
      ]
    },
    {
      "cell_type": "markdown",
      "metadata": {
        "id": "LlWbX7PoJ7L4",
        "colab_type": "text"
      },
      "source": [
        "# Looking into the box plot we can say there are outliers in the gross profit column and the median value lies in between 0 and 2500"
      ]
    },
    {
      "cell_type": "code",
      "metadata": {
        "id": "2sw73QRXU6uS",
        "colab_type": "code",
        "colab": {
          "base_uri": "https://localhost:8080/",
          "height": 296
        },
        "outputId": "2b5fec5e-efe7-4c56-ae6e-ae8706464e81"
      },
      "source": [
        "#outliers in GrossProfit\n",
        "sns.boxplot(x='GrossProfit', data=data_df)"
      ],
      "execution_count": 68,
      "outputs": [
        {
          "output_type": "execute_result",
          "data": {
            "text/plain": [
              "<matplotlib.axes._subplots.AxesSubplot at 0x7f690fdd0080>"
            ]
          },
          "metadata": {
            "tags": []
          },
          "execution_count": 68
        },
        {
          "output_type": "display_data",
          "data": {
            "image/png": "[encoded data removed]",
            "text/plain": [
              "<Figure size 432x288 with 1 Axes>"
            ]
          },
          "metadata": {
            "tags": [],
            "needs_background": "light"
          }
        }
      ]
    },
    {
      "cell_type": "code",
      "metadata": {
        "id": "FFISsEqfbHvB",
        "colab_type": "code",
        "colab": {
          "base_uri": "https://localhost:8080/",
          "height": 296
        },
        "outputId": "4f6dd981-ed2a-4b7e-8ee5-1238d91d1daa"
      },
      "source": [
        "#outliers in FIIncome\n",
        "sns.boxplot(x='FIIncome', data=data_df)"
      ],
      "execution_count": 99,
      "outputs": [
        {
          "output_type": "execute_result",
          "data": {
            "text/plain": [
              "<matplotlib.axes._subplots.AxesSubplot at 0x7f690fdc8dd8>"
            ]
          },
          "metadata": {
            "tags": []
          },
          "execution_count": 99
        },
        {
          "output_type": "display_data",
          "data": {
            "image/png": "[encoded data removed]",
            "text/plain": [
              "<Figure size 432x288 with 1 Axes>"
            ]
          },
          "metadata": {
            "tags": [],
            "needs_background": "light"
          }
        }
      ]
    },
    {
      "cell_type": "code",
      "metadata": {
        "id": "YYPDa2iqMuUD",
        "colab_type": "code",
        "colab": {
          "base_uri": "https://localhost:8080/",
          "height": 458
        },
        "outputId": "5e34f975-b654-4fff-845c-6644a04e90f1"
      },
      "source": [
        "ax = sns.jointplot(x='FIIncome', y='GrossProfit', data=data_df[numerical])\n",
        "plt.title('Correlation between Financial Income and Gross Profit')\n",
        "# Set x-axis label\n",
        "plt.xlabel('Financial Income')\n",
        "# Set y-axis label\n",
        "plt.ylabel('Gross Profit')"
      ],
      "execution_count": 30,
      "outputs": [
        {
          "output_type": "execute_result",
          "data": {
            "text/plain": [
              "Text(336.9714285714286, 0.5, 'Gross Profit')"
            ]
          },
          "metadata": {
            "tags": []
          },
          "execution_count": 30
        },
        {
          "output_type": "display_data",
          "data": {
            "image/png": "[encoded data removed]",
            "text/plain": [
              "<Figure size 432x432 with 3 Axes>"
            ]
          },
          "metadata": {
            "tags": [],
            "needs_background": "light"
          }
        }
      ]
    },
    {
      "cell_type": "code",
      "metadata": {
        "id": "yOO1SbpuRP0f",
        "colab_type": "code",
        "colab": {
          "base_uri": "https://localhost:8080/",
          "height": 279
        },
        "outputId": "23d31f69-90b5-4e2f-e310-a21153d26b1f"
      },
      "source": [
        "#PDF\n",
        "data_df.plot(y='FIIncome', kind='hist',legend='True', bins=30,density=True)\n",
        "plt.xlabel('Financial Income')\n",
        "plt.show()"
      ],
      "execution_count": 38,
      "outputs": [
        {
          "output_type": "display_data",
          "data": {
            "image/png": "[encoded data removed]",
            "text/plain": [
              "<Figure size 432x288 with 1 Axes>"
            ]
          },
          "metadata": {
            "tags": [],
            "needs_background": "light"
          }
        }
      ]
    },
    {
      "cell_type": "code",
      "metadata": {
        "id": "DVseWTZiSP3y",
        "colab_type": "code",
        "colab": {
          "base_uri": "https://localhost:8080/",
          "height": 279
        },
        "outputId": "b16ff7b9-6d5d-43a7-8101-21ca78cf6cb7"
      },
      "source": [
        "#PDF\n",
        "data_df.plot(y='GrossProfit', kind='hist',legend='True', bins=30,density=True)\n",
        "plt.xlabel('Gross Profit')\n",
        "plt.show()"
      ],
      "execution_count": 39,
      "outputs": [
        {
          "output_type": "display_data",
          "data": {
            "image/png": "[encoded data removed]",
            "text/plain": [
              "<Figure size 432x288 with 1 Axes>"
            ]
          },
          "metadata": {
            "tags": [],
            "needs_background": "light"
          }
        }
      ]
    },
    {
      "cell_type": "markdown",
      "metadata": {
        "id": "041323D3KFkY",
        "colab_type": "text"
      },
      "source": [
        "# The overall gross profit lies between -2500 to 5000"
      ]
    },
    {
      "cell_type": "code",
      "metadata": {
        "id": "_EftdbDFZELL",
        "colab_type": "code",
        "colab": {
          "base_uri": "https://localhost:8080/",
          "height": 298
        },
        "outputId": "c38a3d37-db6d-4a3f-ccd9-988e6cebfb66"
      },
      "source": [
        "data_df[numerical].hist(figsize=(10, 4))\n",
        "plt.xlim(-5000,10000)"
      ],
      "execution_count": 63,
      "outputs": [
        {
          "output_type": "execute_result",
          "data": {
            "text/plain": [
              "(-5000.0, 10000.0)"
            ]
          },
          "metadata": {
            "tags": []
          },
          "execution_count": 63
        },
        {
          "output_type": "display_data",
          "data": {
            "image/png": "[encoded data removed]",
            "text/plain": [
              "<Figure size 720x288 with 2 Axes>"
            ]
          },
          "metadata": {
            "tags": [],
            "needs_background": "light"
          }
        }
      ]
    },
    {
      "cell_type": "code",
      "metadata": {
        "id": "MF2GwrzeZux4",
        "colab_type": "code",
        "colab": {
          "base_uri": "https://localhost:8080/",
          "height": 282
        },
        "outputId": "54d52f52-ca9a-4b46-dc0f-f595ddac0375"
      },
      "source": [
        "data_df[numerical].plot(kind='density', subplots=True, layout=(1, 2), \n",
        "                  sharex=False, figsize=(10, 4), legend=True)\n",
        "plt.xlim(-5000,10000)"
      ],
      "execution_count": 65,
      "outputs": [
        {
          "output_type": "execute_result",
          "data": {
            "text/plain": [
              "(-5000.0, 10000.0)"
            ]
          },
          "metadata": {
            "tags": []
          },
          "execution_count": 65
        },
        {
          "output_type": "display_data",
          "data": {
            "image/png": "[encoded data removed]",
            "text/plain": [
              "<Figure size 720x288 with 2 Axes>"
            ]
          },
          "metadata": {
            "tags": [],
            "needs_background": "light"
          }
        }
      ]
    },
    {
      "cell_type": "code",
      "metadata": {
        "id": "gz_ETmwnTpKj",
        "colab_type": "code",
        "colab": {
          "base_uri": "https://localhost:8080/",
          "height": 296
        },
        "outputId": "6859cb75-ddd6-4460-e50d-3f0dfefb3eb8"
      },
      "source": [
        "#zooming the plot to have a clearer view\n",
        "sns.distplot(data_df['GrossProfit'],10)\n",
        "plt.xlim(-5000,5000)"
      ],
      "execution_count": 42,
      "outputs": [
        {
          "output_type": "execute_result",
          "data": {
            "text/plain": [
              "(-5000.0, 5000.0)"
            ]
          },
          "metadata": {
            "tags": []
          },
          "execution_count": 42
        },
        {
          "output_type": "display_data",
          "data": {
            "image/png": "[encoded data removed]",
            "text/plain": [
              "<Figure size 432x288 with 1 Axes>"
            ]
          },
          "metadata": {
            "tags": [],
            "needs_background": "light"
          }
        }
      ]
    },
    {
      "cell_type": "code",
      "metadata": {
        "id": "qibyHsbUYJhP",
        "colab_type": "code",
        "colab": {
          "base_uri": "https://localhost:8080/",
          "height": 284
        },
        "outputId": "42fd4896-5e11-48a6-b0b0-92fd2505a5ac"
      },
      "source": [
        "#Summarizing the numerical values in the dataset\n",
        "data_df1=data_df.drop(['DealNo'],axis=1)\n",
        "data_df1.describe()"
      ],
      "execution_count": 56,
      "outputs": [
        {
          "output_type": "execute_result",
          "data": {
            "text/html": [
              "<div>\n",
              "<style scoped>\n",
              "    .dataframe tbody tr th:only-of-type {\n",
              "        vertical-align: middle;\n",
              "    }\n",
              "\n",
              "    .dataframe tbody tr th {\n",
              "        vertical-align: top;\n",
              "    }\n",
              "\n",
              "    .dataframe thead th {\n",
              "        text-align: right;\n",
              "    }\n",
              "</style>\n",
              "<table border=\"1\" class=\"dataframe\">\n",
              "  <thead>\n",
              "    <tr style=\"text-align: right;\">\n",
              "      <th></th>\n",
              "      <th>FIIncome</th>\n",
              "      <th>GrossProfit</th>\n",
              "    </tr>\n",
              "  </thead>\n",
              "  <tbody>\n",
              "    <tr>\n",
              "      <th>count</th>\n",
              "      <td>10220.000000</td>\n",
              "      <td>10220.000000</td>\n",
              "    </tr>\n",
              "    <tr>\n",
              "      <th>mean</th>\n",
              "      <td>166.044552</td>\n",
              "      <td>947.109361</td>\n",
              "    </tr>\n",
              "    <tr>\n",
              "      <th>std</th>\n",
              "      <td>397.545455</td>\n",
              "      <td>1152.284860</td>\n",
              "    </tr>\n",
              "    <tr>\n",
              "      <th>min</th>\n",
              "      <td>-4563.020000</td>\n",
              "      <td>-8923.310000</td>\n",
              "    </tr>\n",
              "    <tr>\n",
              "      <th>25%</th>\n",
              "      <td>0.000000</td>\n",
              "      <td>0.000000</td>\n",
              "    </tr>\n",
              "    <tr>\n",
              "      <th>50%</th>\n",
              "      <td>0.000000</td>\n",
              "      <td>728.360000</td>\n",
              "    </tr>\n",
              "    <tr>\n",
              "      <th>75%</th>\n",
              "      <td>200.000000</td>\n",
              "      <td>1614.982500</td>\n",
              "    </tr>\n",
              "    <tr>\n",
              "      <th>max</th>\n",
              "      <td>24768.680000</td>\n",
              "      <td>18805.000000</td>\n",
              "    </tr>\n",
              "  </tbody>\n",
              "</table>\n",
              "</div>"
            ],
            "text/plain": [
              "           FIIncome   GrossProfit\n",
              "count  10220.000000  10220.000000\n",
              "mean     166.044552    947.109361\n",
              "std      397.545455   1152.284860\n",
              "min    -4563.020000  -8923.310000\n",
              "25%        0.000000      0.000000\n",
              "50%        0.000000    728.360000\n",
              "75%      200.000000   1614.982500\n",
              "max    24768.680000  18805.000000"
            ]
          },
          "metadata": {
            "tags": []
          },
          "execution_count": 56
        }
      ]
    },
    {
      "cell_type": "markdown",
      "metadata": {
        "id": "Is2n4RtrKgCc",
        "colab_type": "text"
      },
      "source": [
        "#The highest profit achieved is 18805. We can say that the company is not having more Gross profits as the mean lies near to 947. \n"
      ]
    },
    {
      "cell_type": "markdown",
      "metadata": {
        "id": "DTjB2Fb7YAoc",
        "colab_type": "text"
      },
      "source": [
        "# Categorical statistics:"
      ]
    },
    {
      "cell_type": "code",
      "metadata": {
        "id": "G8FQyGcEVkWk",
        "colab_type": "code",
        "outputId": "dcc0e2e2-73aa-4194-fc01-3559763500cc",
        "colab": {
          "base_uri": "https://localhost:8080/",
          "height": 168
        }
      },
      "source": [
        "# Counting it by its category\n",
        "deals_type = data_df.groupby('DealType').size()\n",
        "deals_type"
      ],
      "execution_count": 0,
      "outputs": [
        {
          "output_type": "execute_result",
          "data": {
            "text/plain": [
              "DealType\n",
              "Demo               16\n",
              "Lease             921\n",
              "Misc              569\n",
              "New              4089\n",
              "Special Order       3\n",
              "Used             2645\n",
              "Wholesale        1977\n",
              "dtype: int64"
            ]
          },
          "metadata": {
            "tags": []
          },
          "execution_count": 47
        }
      ]
    },
    {
      "cell_type": "code",
      "metadata": {
        "id": "GoQ8zOUbV50b",
        "colab_type": "code",
        "outputId": "7038645f-de0c-4667-e842-cfe64de7a928",
        "colab": {
          "base_uri": "https://localhost:8080/",
          "height": 312
        }
      },
      "source": [
        "deals_type.plot(title = 'Deal Type vs Count')\n",
        "plt.ylabel('Number of vehicles dealed')"
      ],
      "execution_count": 0,
      "outputs": [
        {
          "output_type": "execute_result",
          "data": {
            "text/plain": [
              "Text(0, 0.5, 'Number of vehicles dealed')"
            ]
          },
          "metadata": {
            "tags": []
          },
          "execution_count": 49
        },
        {
          "output_type": "display_data",
          "data": {
            "image/png": "[encoded data removed]",
            "text/plain": [
              "<Figure size 432x288 with 1 Axes>"
            ]
          },
          "metadata": {
            "tags": [],
            "needs_background": "light"
          }
        }
      ]
    },
    {
      "cell_type": "code",
      "metadata": {
        "id": "jmC8WosQcZO0",
        "colab_type": "code",
        "colab": {
          "base_uri": "https://localhost:8080/",
          "height": 50
        },
        "outputId": "a9fdab23-c02c-4825-fe6d-bd489e8cb211"
      },
      "source": [
        "data_df['FIDealType'].unique()"
      ],
      "execution_count": 75,
      "outputs": [
        {
          "output_type": "execute_result",
          "data": {
            "text/plain": [
              "array(['New', 'Used', 'Misc', 'Demo', 'Special Order', 'Rental'],\n",
              "      dtype=object)"
            ]
          },
          "metadata": {
            "tags": []
          },
          "execution_count": 75
        }
      ]
    },
    {
      "cell_type": "code",
      "metadata": {
        "id": "tKNX5EcvdWdd",
        "colab_type": "code",
        "colab": {
          "base_uri": "https://localhost:8080/",
          "height": 151
        },
        "outputId": "4ec2767d-faed-4424-93a6-6404fd0c8bde"
      },
      "source": [
        "FIdeals_type = data_df.groupby('FIDealType').size()\n",
        "FIdeals_type"
      ],
      "execution_count": 76,
      "outputs": [
        {
          "output_type": "execute_result",
          "data": {
            "text/plain": [
              "FIDealType\n",
              "Demo               16\n",
              "Misc             1569\n",
              "New              5411\n",
              "Rental              2\n",
              "Special Order       4\n",
              "Used             3218\n",
              "dtype: int64"
            ]
          },
          "metadata": {
            "tags": []
          },
          "execution_count": 76
        }
      ]
    },
    {
      "cell_type": "code",
      "metadata": {
        "id": "DfIRAwnSdvoO",
        "colab_type": "code",
        "colab": {
          "base_uri": "https://localhost:8080/",
          "height": 279
        },
        "outputId": "bddafe01-fae7-40e2-983e-84720eeca69d"
      },
      "source": [
        "_, axes = plt.subplots(nrows=1, ncols=2, figsize=(12, 4))\n",
        "\n",
        "sns.countplot(x='DealType', data=data_df, ax=axes[0]);\n",
        "sns.countplot(x='FIDealType', data=data_df, ax=axes[1])"
      ],
      "execution_count": 77,
      "outputs": [
        {
          "output_type": "display_data",
          "data": {
            "image/png": "[encoded data removed]",
            "text/plain": [
              "<Figure size 864x288 with 2 Axes>"
            ]
          },
          "metadata": {
            "tags": [],
            "needs_background": "light"
          }
        }
      ]
    },
    {
      "cell_type": "code",
      "metadata": {
        "id": "kH-PsmXtgHaj",
        "colab_type": "code",
        "colab": {
          "base_uri": "https://localhost:8080/",
          "height": 34
        },
        "outputId": "1dcec71a-1ec6-435b-e253-615a7755d709"
      },
      "source": [
        "data_df['Email1Desc'].unique()"
      ],
      "execution_count": 81,
      "outputs": [
        {
          "output_type": "execute_result",
          "data": {
            "text/plain": [
              "array([nan, 'HOME', 'WORK', 'OTHER'], dtype=object)"
            ]
          },
          "metadata": {
            "tags": []
          },
          "execution_count": 81
        }
      ]
    },
    {
      "cell_type": "code",
      "metadata": {
        "id": "M2_hAig1hUKa",
        "colab_type": "code",
        "colab": {
          "base_uri": "https://localhost:8080/",
          "height": 34
        },
        "outputId": "ebe7f57e-fb27-481f-87bb-82dbab2c331d"
      },
      "source": [
        "data_df['Email1Desc'].isnull().sum()\n",
        "#This has a lot of null values but it wont help in prediction and so can be neglected"
      ],
      "execution_count": 84,
      "outputs": [
        {
          "output_type": "execute_result",
          "data": {
            "text/plain": [
              "6172"
            ]
          },
          "metadata": {
            "tags": []
          },
          "execution_count": 84
        }
      ]
    },
    {
      "cell_type": "code",
      "metadata": {
        "id": "rUwNk2Zjha_3",
        "colab_type": "code",
        "colab": {}
      },
      "source": [
        "#cat value can be replaced with frequently occuring value,i.e. mode\n",
        "data_df['Email1Desc'].fillna(data_df['Email1Desc'].mode()[0],inplace=True)"
      ],
      "execution_count": 0,
      "outputs": []
    },
    {
      "cell_type": "code",
      "metadata": {
        "id": "-cqCo427jmOQ",
        "colab_type": "code",
        "colab": {
          "base_uri": "https://localhost:8080/",
          "height": 34
        },
        "outputId": "dc4afe6a-14af-413d-8c46-bb638632494c"
      },
      "source": [
        "data_df['Email1Desc'].isnull().sum()"
      ],
      "execution_count": 95,
      "outputs": [
        {
          "output_type": "execute_result",
          "data": {
            "text/plain": [
              "0"
            ]
          },
          "metadata": {
            "tags": []
          },
          "execution_count": 95
        }
      ]
    },
    {
      "cell_type": "code",
      "metadata": {
        "id": "hNbaVG_VgUPN",
        "colab_type": "code",
        "colab": {
          "base_uri": "https://localhost:8080/",
          "height": 50
        },
        "outputId": "614dbee6-49d5-4cdd-e3bc-f356e4113e76"
      },
      "source": [
        "data_df['BirthDate'].unique()"
      ],
      "execution_count": 82,
      "outputs": [
        {
          "output_type": "execute_result",
          "data": {
            "text/plain": [
              "array(['11/03/1941', '04/04/1953', '24/04/1948', ..., '09/04/1985',\n",
              "       '25/09/1962', '25/10/1965'], dtype=object)"
            ]
          },
          "metadata": {
            "tags": []
          },
          "execution_count": 82
        }
      ]
    },
    {
      "cell_type": "code",
      "metadata": {
        "id": "5UFhEaVBedgy",
        "colab_type": "code",
        "colab": {
          "base_uri": "https://localhost:8080/",
          "height": 34
        },
        "outputId": "9fe7deb0-07cb-48ae-a478-92f53af3e071"
      },
      "source": [
        "# Drop duplicate \n",
        "data_df.drop_duplicates(keep ='last')\n",
        "data_df.shape\n"
      ],
      "execution_count": 78,
      "outputs": [
        {
          "output_type": "execute_result",
          "data": {
            "text/plain": [
              "(10220, 9)"
            ]
          },
          "metadata": {
            "tags": []
          },
          "execution_count": 78
        }
      ]
    },
    {
      "cell_type": "code",
      "metadata": {
        "id": "kFE4OGligttE",
        "colab_type": "code",
        "colab": {
          "base_uri": "https://localhost:8080/",
          "height": 34
        },
        "outputId": "02f2663c-7def-4d35-c51e-2a74c867ef2a"
      },
      "source": [
        "# Drop duplicate \n",
        "data_df['AccountingDate'].drop_duplicates(keep ='last')\n",
        "data_df.shape\n"
      ],
      "execution_count": 83,
      "outputs": [
        {
          "output_type": "execute_result",
          "data": {
            "text/plain": [
              "(10220, 9)"
            ]
          },
          "metadata": {
            "tags": []
          },
          "execution_count": 83
        }
      ]
    },
    {
      "cell_type": "code",
      "metadata": {
        "id": "yfJPMZeifjSg",
        "colab_type": "code",
        "colab": {}
      },
      "source": [
        "# Drop columns not used ot not useful\n",
        "# DOB can be used if we want to find age group buying vehicles\n",
        "\n",
        "data_df2=data_df.drop(['Email1Desc','FIIncome', 'FiWipStatusCode'],axis=1)"
      ],
      "execution_count": 0,
      "outputs": []
    },
    {
      "cell_type": "markdown",
      "metadata": {
        "id": "3yoxuDB0ma4J",
        "colab_type": "text"
      },
      "source": [
        "# Using the lookup_df and Merging it to the existing dataset"
      ]
    },
    {
      "cell_type": "code",
      "metadata": {
        "id": "n0CuLcLzo4hR",
        "colab_type": "code",
        "colab": {
          "base_uri": "https://localhost:8080/",
          "height": 34
        },
        "outputId": "4ccba7b0-078a-4043-fd58-7f81df17f8a4"
      },
      "source": [
        "lookup_df.columns\n"
      ],
      "execution_count": 161,
      "outputs": [
        {
          "output_type": "execute_result",
          "data": {
            "text/plain": [
              "Index(['DealType', 'FIDealType', 'Sale Type'], dtype='object')"
            ]
          },
          "metadata": {
            "tags": []
          },
          "execution_count": 161
        }
      ]
    },
    {
      "cell_type": "code",
      "metadata": {
        "id": "0hMGIN38vUKf",
        "colab_type": "code",
        "colab": {
          "base_uri": "https://localhost:8080/",
          "height": 402
        },
        "outputId": "89cb5f98-6c45-4139-bef2-5e6167200ad3"
      },
      "source": [
        "data_df2=data_df2.merge(lookup_df,how='left')\n",
        "data_df2 = data_df2.rename({'Sale Type': 'SaleType_Clean'}, axis=1)  \n",
        "data_df2"
      ],
      "execution_count": 162,
      "outputs": [
        {
          "output_type": "execute_result",
          "data": {
            "text/html": [
              "<div>\n",
              "<style scoped>\n",
              "    .dataframe tbody tr th:only-of-type {\n",
              "        vertical-align: middle;\n",
              "    }\n",
              "\n",
              "    .dataframe tbody tr th {\n",
              "        vertical-align: top;\n",
              "    }\n",
              "\n",
              "    .dataframe thead th {\n",
              "        text-align: right;\n",
              "    }\n",
              "</style>\n",
              "<table border=\"1\" class=\"dataframe\">\n",
              "  <thead>\n",
              "    <tr style=\"text-align: right;\">\n",
              "      <th></th>\n",
              "      <th>AccountingDate</th>\n",
              "      <th>BirthDate</th>\n",
              "      <th>DealNo</th>\n",
              "      <th>DealType</th>\n",
              "      <th>FIDealType</th>\n",
              "      <th>GrossProfit</th>\n",
              "      <th>SaleType_Clean</th>\n",
              "    </tr>\n",
              "  </thead>\n",
              "  <tbody>\n",
              "    <tr>\n",
              "      <th>0</th>\n",
              "      <td>17/03/2012</td>\n",
              "      <td>11/03/1941</td>\n",
              "      <td>64311</td>\n",
              "      <td>New</td>\n",
              "      <td>New</td>\n",
              "      <td>1314.73</td>\n",
              "      <td>New</td>\n",
              "    </tr>\n",
              "    <tr>\n",
              "      <th>1</th>\n",
              "      <td>30/10/2014</td>\n",
              "      <td>04/04/1953</td>\n",
              "      <td>87150</td>\n",
              "      <td>New</td>\n",
              "      <td>New</td>\n",
              "      <td>1641.55</td>\n",
              "      <td>New</td>\n",
              "    </tr>\n",
              "    <tr>\n",
              "      <th>2</th>\n",
              "      <td>07/06/2012</td>\n",
              "      <td>24/04/1948</td>\n",
              "      <td>66628</td>\n",
              "      <td>New</td>\n",
              "      <td>New</td>\n",
              "      <td>425.66</td>\n",
              "      <td>New</td>\n",
              "    </tr>\n",
              "    <tr>\n",
              "      <th>3</th>\n",
              "      <td>13/11/2009</td>\n",
              "      <td>24/05/1925</td>\n",
              "      <td>46106</td>\n",
              "      <td>New</td>\n",
              "      <td>New</td>\n",
              "      <td>4032.21</td>\n",
              "      <td>New</td>\n",
              "    </tr>\n",
              "    <tr>\n",
              "      <th>4</th>\n",
              "      <td>31/08/2006</td>\n",
              "      <td>12/06/1958</td>\n",
              "      <td>25584</td>\n",
              "      <td>Used</td>\n",
              "      <td>Used</td>\n",
              "      <td>-369.10</td>\n",
              "      <td>Used</td>\n",
              "    </tr>\n",
              "    <tr>\n",
              "      <th>...</th>\n",
              "      <td>...</td>\n",
              "      <td>...</td>\n",
              "      <td>...</td>\n",
              "      <td>...</td>\n",
              "      <td>...</td>\n",
              "      <td>...</td>\n",
              "      <td>...</td>\n",
              "    </tr>\n",
              "    <tr>\n",
              "      <th>10215</th>\n",
              "      <td>05/05/2014</td>\n",
              "      <td>NaN</td>\n",
              "      <td>82974</td>\n",
              "      <td>Wholesale</td>\n",
              "      <td>New</td>\n",
              "      <td>0.00</td>\n",
              "      <td>Wholesale</td>\n",
              "    </tr>\n",
              "    <tr>\n",
              "      <th>10216</th>\n",
              "      <td>26/12/2011</td>\n",
              "      <td>09/04/1985</td>\n",
              "      <td>62452</td>\n",
              "      <td>New</td>\n",
              "      <td>New</td>\n",
              "      <td>1158.69</td>\n",
              "      <td>New</td>\n",
              "    </tr>\n",
              "    <tr>\n",
              "      <th>10217</th>\n",
              "      <td>08/05/2017</td>\n",
              "      <td>25/09/1962</td>\n",
              "      <td>107300</td>\n",
              "      <td>Lease</td>\n",
              "      <td>New</td>\n",
              "      <td>296.69</td>\n",
              "      <td>New</td>\n",
              "    </tr>\n",
              "    <tr>\n",
              "      <th>10218</th>\n",
              "      <td>31/05/2006</td>\n",
              "      <td>09/10/1985</td>\n",
              "      <td>23725</td>\n",
              "      <td>Used</td>\n",
              "      <td>Used</td>\n",
              "      <td>2640.45</td>\n",
              "      <td>Used</td>\n",
              "    </tr>\n",
              "    <tr>\n",
              "      <th>10219</th>\n",
              "      <td>11/10/2006</td>\n",
              "      <td>25/10/1965</td>\n",
              "      <td>26042</td>\n",
              "      <td>New</td>\n",
              "      <td>New</td>\n",
              "      <td>2354.55</td>\n",
              "      <td>New</td>\n",
              "    </tr>\n",
              "  </tbody>\n",
              "</table>\n",
              "<p>10220 rows × 7 columns</p>\n",
              "</div>"
            ],
            "text/plain": [
              "      AccountingDate   BirthDate  DealNo  ... FIDealType GrossProfit  SaleType_Clean\n",
              "0         17/03/2012  11/03/1941   64311  ...        New     1314.73             New\n",
              "1         30/10/2014  04/04/1953   87150  ...        New     1641.55             New\n",
              "2         07/06/2012  24/04/1948   66628  ...        New      425.66             New\n",
              "3         13/11/2009  24/05/1925   46106  ...        New     4032.21             New\n",
              "4         31/08/2006  12/06/1958   25584  ...       Used     -369.10            Used\n",
              "...              ...         ...     ...  ...        ...         ...             ...\n",
              "10215     05/05/2014         NaN   82974  ...        New        0.00       Wholesale\n",
              "10216     26/12/2011  09/04/1985   62452  ...        New     1158.69             New\n",
              "10217     08/05/2017  25/09/1962  107300  ...        New      296.69             New\n",
              "10218     31/05/2006  09/10/1985   23725  ...       Used     2640.45            Used\n",
              "10219     11/10/2006  25/10/1965   26042  ...        New     2354.55             New\n",
              "\n",
              "[10220 rows x 7 columns]"
            ]
          },
          "metadata": {
            "tags": []
          },
          "execution_count": 162
        }
      ]
    },
    {
      "cell_type": "code",
      "metadata": {
        "id": "IEhPKWp7xZKO",
        "colab_type": "code",
        "colab": {
          "base_uri": "https://localhost:8080/",
          "height": 402
        },
        "outputId": "2db78fed-cbf2-4392-f909-9416dc8a5c28"
      },
      "source": [
        "#categorising by age by creating one more column.\n",
        "today = date.today() \n",
        "today = pd.Timestamp(today)\n",
        "data_df2['BirthDate'] = pd.to_datetime(data_df2['BirthDate'])\n",
        "data_df2['Aging'] = (data_df2['BirthDate'].rsub(today, axis=0).dt.days)\n",
        "data_df2"
      ],
      "execution_count": 163,
      "outputs": [
        {
          "output_type": "execute_result",
          "data": {
            "text/html": [
              "<div>\n",
              "<style scoped>\n",
              "    .dataframe tbody tr th:only-of-type {\n",
              "        vertical-align: middle;\n",
              "    }\n",
              "\n",
              "    .dataframe tbody tr th {\n",
              "        vertical-align: top;\n",
              "    }\n",
              "\n",
              "    .dataframe thead th {\n",
              "        text-align: right;\n",
              "    }\n",
              "</style>\n",
              "<table border=\"1\" class=\"dataframe\">\n",
              "  <thead>\n",
              "    <tr style=\"text-align: right;\">\n",
              "      <th></th>\n",
              "      <th>AccountingDate</th>\n",
              "      <th>BirthDate</th>\n",
              "      <th>DealNo</th>\n",
              "      <th>DealType</th>\n",
              "      <th>FIDealType</th>\n",
              "      <th>GrossProfit</th>\n",
              "      <th>SaleType_Clean</th>\n",
              "      <th>Aging</th>\n",
              "    </tr>\n",
              "  </thead>\n",
              "  <tbody>\n",
              "    <tr>\n",
              "      <th>0</th>\n",
              "      <td>17/03/2012</td>\n",
              "      <td>1941-11-03</td>\n",
              "      <td>64311</td>\n",
              "      <td>New</td>\n",
              "      <td>New</td>\n",
              "      <td>1314.73</td>\n",
              "      <td>New</td>\n",
              "      <td>28689.0</td>\n",
              "    </tr>\n",
              "    <tr>\n",
              "      <th>1</th>\n",
              "      <td>30/10/2014</td>\n",
              "      <td>1953-04-04</td>\n",
              "      <td>87150</td>\n",
              "      <td>New</td>\n",
              "      <td>New</td>\n",
              "      <td>1641.55</td>\n",
              "      <td>New</td>\n",
              "      <td>24519.0</td>\n",
              "    </tr>\n",
              "    <tr>\n",
              "      <th>2</th>\n",
              "      <td>07/06/2012</td>\n",
              "      <td>1948-04-24</td>\n",
              "      <td>66628</td>\n",
              "      <td>New</td>\n",
              "      <td>New</td>\n",
              "      <td>425.66</td>\n",
              "      <td>New</td>\n",
              "      <td>26325.0</td>\n",
              "    </tr>\n",
              "    <tr>\n",
              "      <th>3</th>\n",
              "      <td>13/11/2009</td>\n",
              "      <td>1925-05-24</td>\n",
              "      <td>46106</td>\n",
              "      <td>New</td>\n",
              "      <td>New</td>\n",
              "      <td>4032.21</td>\n",
              "      <td>New</td>\n",
              "      <td>34696.0</td>\n",
              "    </tr>\n",
              "    <tr>\n",
              "      <th>4</th>\n",
              "      <td>31/08/2006</td>\n",
              "      <td>1958-12-06</td>\n",
              "      <td>25584</td>\n",
              "      <td>Used</td>\n",
              "      <td>Used</td>\n",
              "      <td>-369.10</td>\n",
              "      <td>Used</td>\n",
              "      <td>22447.0</td>\n",
              "    </tr>\n",
              "    <tr>\n",
              "      <th>...</th>\n",
              "      <td>...</td>\n",
              "      <td>...</td>\n",
              "      <td>...</td>\n",
              "      <td>...</td>\n",
              "      <td>...</td>\n",
              "      <td>...</td>\n",
              "      <td>...</td>\n",
              "      <td>...</td>\n",
              "    </tr>\n",
              "    <tr>\n",
              "      <th>10215</th>\n",
              "      <td>05/05/2014</td>\n",
              "      <td>NaT</td>\n",
              "      <td>82974</td>\n",
              "      <td>Wholesale</td>\n",
              "      <td>New</td>\n",
              "      <td>0.00</td>\n",
              "      <td>Wholesale</td>\n",
              "      <td>NaN</td>\n",
              "    </tr>\n",
              "    <tr>\n",
              "      <th>10216</th>\n",
              "      <td>26/12/2011</td>\n",
              "      <td>1985-09-04</td>\n",
              "      <td>62452</td>\n",
              "      <td>New</td>\n",
              "      <td>New</td>\n",
              "      <td>1158.69</td>\n",
              "      <td>New</td>\n",
              "      <td>12678.0</td>\n",
              "    </tr>\n",
              "    <tr>\n",
              "      <th>10217</th>\n",
              "      <td>08/05/2017</td>\n",
              "      <td>1962-09-25</td>\n",
              "      <td>107300</td>\n",
              "      <td>Lease</td>\n",
              "      <td>New</td>\n",
              "      <td>296.69</td>\n",
              "      <td>New</td>\n",
              "      <td>21058.0</td>\n",
              "    </tr>\n",
              "    <tr>\n",
              "      <th>10218</th>\n",
              "      <td>31/05/2006</td>\n",
              "      <td>1985-09-10</td>\n",
              "      <td>23725</td>\n",
              "      <td>Used</td>\n",
              "      <td>Used</td>\n",
              "      <td>2640.45</td>\n",
              "      <td>Used</td>\n",
              "      <td>12672.0</td>\n",
              "    </tr>\n",
              "    <tr>\n",
              "      <th>10219</th>\n",
              "      <td>11/10/2006</td>\n",
              "      <td>1965-10-25</td>\n",
              "      <td>26042</td>\n",
              "      <td>New</td>\n",
              "      <td>New</td>\n",
              "      <td>2354.55</td>\n",
              "      <td>New</td>\n",
              "      <td>19932.0</td>\n",
              "    </tr>\n",
              "  </tbody>\n",
              "</table>\n",
              "<p>10220 rows × 8 columns</p>\n",
              "</div>"
            ],
            "text/plain": [
              "      AccountingDate  BirthDate  DealNo  ... GrossProfit SaleType_Clean    Aging\n",
              "0         17/03/2012 1941-11-03   64311  ...     1314.73            New  28689.0\n",
              "1         30/10/2014 1953-04-04   87150  ...     1641.55            New  24519.0\n",
              "2         07/06/2012 1948-04-24   66628  ...      425.66            New  26325.0\n",
              "3         13/11/2009 1925-05-24   46106  ...     4032.21            New  34696.0\n",
              "4         31/08/2006 1958-12-06   25584  ...     -369.10           Used  22447.0\n",
              "...              ...        ...     ...  ...         ...            ...      ...\n",
              "10215     05/05/2014        NaT   82974  ...        0.00      Wholesale      NaN\n",
              "10216     26/12/2011 1985-09-04   62452  ...     1158.69            New  12678.0\n",
              "10217     08/05/2017 1962-09-25  107300  ...      296.69            New  21058.0\n",
              "10218     31/05/2006 1985-09-10   23725  ...     2640.45           Used  12672.0\n",
              "10219     11/10/2006 1965-10-25   26042  ...     2354.55            New  19932.0\n",
              "\n",
              "[10220 rows x 8 columns]"
            ]
          },
          "metadata": {
            "tags": []
          },
          "execution_count": 163
        }
      ]
    },
    {
      "cell_type": "code",
      "metadata": {
        "id": "6XxJJxEE32Km",
        "colab_type": "code",
        "colab": {}
      },
      "source": [
        "data_df2['Aging']=data_df2['Aging'].div(365)"
      ],
      "execution_count": 0,
      "outputs": []
    },
    {
      "cell_type": "code",
      "metadata": {
        "id": "GN_N6zyI0ulw",
        "colab_type": "code",
        "colab": {}
      },
      "source": [
        "\n",
        "cat1= data_df2[data_df2['Aging']<25]\n",
        "cat2= data_df2[(data_df2['Aging']<34) & (data_df2['Aging']>25)]\n",
        "cat3= data_df2[(data_df2['Aging']<50) & (data_df2['Aging']>50)]\n",
        "cat4= data_df2[data_df2['Aging']>50]\n"
      ],
      "execution_count": 0,
      "outputs": []
    },
    {
      "cell_type": "code",
      "metadata": {
        "id": "D-fDTpj73TKC",
        "colab_type": "code",
        "colab": {
          "base_uri": "https://localhost:8080/",
          "height": 343
        },
        "outputId": "52773ace-4c74-4e72-84ad-a0e26b93b900"
      },
      "source": [
        "data_df2[(data_df2['Aging'] < 25)].sort_values('Aging', ascending = False).head(10)"
      ],
      "execution_count": 166,
      "outputs": [
        {
          "output_type": "execute_result",
          "data": {
            "text/html": [
              "<div>\n",
              "<style scoped>\n",
              "    .dataframe tbody tr th:only-of-type {\n",
              "        vertical-align: middle;\n",
              "    }\n",
              "\n",
              "    .dataframe tbody tr th {\n",
              "        vertical-align: top;\n",
              "    }\n",
              "\n",
              "    .dataframe thead th {\n",
              "        text-align: right;\n",
              "    }\n",
              "</style>\n",
              "<table border=\"1\" class=\"dataframe\">\n",
              "  <thead>\n",
              "    <tr style=\"text-align: right;\">\n",
              "      <th></th>\n",
              "      <th>AccountingDate</th>\n",
              "      <th>BirthDate</th>\n",
              "      <th>DealNo</th>\n",
              "      <th>DealType</th>\n",
              "      <th>FIDealType</th>\n",
              "      <th>GrossProfit</th>\n",
              "      <th>SaleType_Clean</th>\n",
              "      <th>Aging</th>\n",
              "    </tr>\n",
              "  </thead>\n",
              "  <tbody>\n",
              "    <tr>\n",
              "      <th>4506</th>\n",
              "      <td>15/05/2015</td>\n",
              "      <td>1995-06-19</td>\n",
              "      <td>91152</td>\n",
              "      <td>Used</td>\n",
              "      <td>Used</td>\n",
              "      <td>439.03</td>\n",
              "      <td>Used</td>\n",
              "      <td>24.939726</td>\n",
              "    </tr>\n",
              "    <tr>\n",
              "      <th>1036</th>\n",
              "      <td>31/01/2017</td>\n",
              "      <td>1995-07-09</td>\n",
              "      <td>105194</td>\n",
              "      <td>Used</td>\n",
              "      <td>Used</td>\n",
              "      <td>277.08</td>\n",
              "      <td>Used</td>\n",
              "      <td>24.884932</td>\n",
              "    </tr>\n",
              "    <tr>\n",
              "      <th>2734</th>\n",
              "      <td>23/08/2016</td>\n",
              "      <td>1995-08-06</td>\n",
              "      <td>101564</td>\n",
              "      <td>Used</td>\n",
              "      <td>Used</td>\n",
              "      <td>2278.28</td>\n",
              "      <td>Used</td>\n",
              "      <td>24.808219</td>\n",
              "    </tr>\n",
              "    <tr>\n",
              "      <th>8037</th>\n",
              "      <td>12/07/2014</td>\n",
              "      <td>1995-08-21</td>\n",
              "      <td>84556</td>\n",
              "      <td>Lease</td>\n",
              "      <td>New</td>\n",
              "      <td>149.55</td>\n",
              "      <td>New</td>\n",
              "      <td>24.767123</td>\n",
              "    </tr>\n",
              "    <tr>\n",
              "      <th>5449</th>\n",
              "      <td>23/07/2014</td>\n",
              "      <td>1995-08-25</td>\n",
              "      <td>84870</td>\n",
              "      <td>Lease</td>\n",
              "      <td>New</td>\n",
              "      <td>126.90</td>\n",
              "      <td>New</td>\n",
              "      <td>24.756164</td>\n",
              "    </tr>\n",
              "    <tr>\n",
              "      <th>2674</th>\n",
              "      <td>31/01/2014</td>\n",
              "      <td>1995-09-06</td>\n",
              "      <td>80879</td>\n",
              "      <td>Used</td>\n",
              "      <td>Used</td>\n",
              "      <td>500.00</td>\n",
              "      <td>Used</td>\n",
              "      <td>24.723288</td>\n",
              "    </tr>\n",
              "    <tr>\n",
              "      <th>1210</th>\n",
              "      <td>30/05/2017</td>\n",
              "      <td>1995-09-17</td>\n",
              "      <td>107843</td>\n",
              "      <td>Used</td>\n",
              "      <td>Used</td>\n",
              "      <td>736.27</td>\n",
              "      <td>Used</td>\n",
              "      <td>24.693151</td>\n",
              "    </tr>\n",
              "    <tr>\n",
              "      <th>3599</th>\n",
              "      <td>22/08/2016</td>\n",
              "      <td>1995-12-19</td>\n",
              "      <td>101570</td>\n",
              "      <td>Used</td>\n",
              "      <td>Used</td>\n",
              "      <td>2136.74</td>\n",
              "      <td>Used</td>\n",
              "      <td>24.438356</td>\n",
              "    </tr>\n",
              "    <tr>\n",
              "      <th>8242</th>\n",
              "      <td>04/06/2015</td>\n",
              "      <td>1996-02-01</td>\n",
              "      <td>91566</td>\n",
              "      <td>New</td>\n",
              "      <td>New</td>\n",
              "      <td>2130.01</td>\n",
              "      <td>New</td>\n",
              "      <td>24.317808</td>\n",
              "    </tr>\n",
              "    <tr>\n",
              "      <th>1135</th>\n",
              "      <td>22/12/2015</td>\n",
              "      <td>1996-02-18</td>\n",
              "      <td>96094</td>\n",
              "      <td>Lease</td>\n",
              "      <td>New</td>\n",
              "      <td>-175.76</td>\n",
              "      <td>New</td>\n",
              "      <td>24.271233</td>\n",
              "    </tr>\n",
              "  </tbody>\n",
              "</table>\n",
              "</div>"
            ],
            "text/plain": [
              "     AccountingDate  BirthDate  DealNo  ... GrossProfit SaleType_Clean      Aging\n",
              "4506     15/05/2015 1995-06-19   91152  ...      439.03           Used  24.939726\n",
              "1036     31/01/2017 1995-07-09  105194  ...      277.08           Used  24.884932\n",
              "2734     23/08/2016 1995-08-06  101564  ...     2278.28           Used  24.808219\n",
              "8037     12/07/2014 1995-08-21   84556  ...      149.55            New  24.767123\n",
              "5449     23/07/2014 1995-08-25   84870  ...      126.90            New  24.756164\n",
              "2674     31/01/2014 1995-09-06   80879  ...      500.00           Used  24.723288\n",
              "1210     30/05/2017 1995-09-17  107843  ...      736.27           Used  24.693151\n",
              "3599     22/08/2016 1995-12-19  101570  ...     2136.74           Used  24.438356\n",
              "8242     04/06/2015 1996-02-01   91566  ...     2130.01            New  24.317808\n",
              "1135     22/12/2015 1996-02-18   96094  ...     -175.76            New  24.271233\n",
              "\n",
              "[10 rows x 8 columns]"
            ]
          },
          "metadata": {
            "tags": []
          },
          "execution_count": 166
        }
      ]
    },
    {
      "cell_type": "code",
      "metadata": {
        "id": "Z_u7369R7_GF",
        "colab_type": "code",
        "colab": {}
      },
      "source": [
        "data_df2['AccountingDate'] = pd.to_datetime(data_df2['AccountingDate'])\n",
        "t1=today- relativedelta.relativedelta(months=6)"
      ],
      "execution_count": 0,
      "outputs": []
    },
    {
      "cell_type": "code",
      "metadata": {
        "id": "TzjcnJvv4fI-",
        "colab_type": "code",
        "colab": {
          "base_uri": "https://localhost:8080/",
          "height": 34
        },
        "outputId": "e0fa70af-a00d-4612-d12a-706038c5b37a"
      },
      "source": [
        "data_df2.index=data_df2['AccountingDate']\n",
        "data_df2['AccountingDate'].max()"
      ],
      "execution_count": 196,
      "outputs": [
        {
          "output_type": "execute_result",
          "data": {
            "text/plain": [
              "Timestamp('2017-12-10 00:00:00')"
            ]
          },
          "metadata": {
            "tags": []
          },
          "execution_count": 196
        }
      ]
    },
    {
      "cell_type": "code",
      "metadata": {
        "id": "0-MQu3ZnDtSi",
        "colab_type": "code",
        "colab": {
          "base_uri": "https://localhost:8080/",
          "height": 289
        },
        "outputId": "52f20c22-582d-4cba-d6e5-11eacfe17ee7"
      },
      "source": [
        "data_df2.loc['2017-12-10':'2017-06-10','GrossProfit'].plot()"
      ],
      "execution_count": 200,
      "outputs": [
        {
          "output_type": "execute_result",
          "data": {
            "text/plain": [
              "<matplotlib.axes._subplots.AxesSubplot at 0x7f690e24b278>"
            ]
          },
          "metadata": {
            "tags": []
          },
          "execution_count": 200
        },
        {
          "output_type": "display_data",
          "data": {
            "image/png": "[encoded data removed]",
            "text/plain": [
              "<Figure size 432x288 with 1 Axes>"
            ]
          },
          "metadata": {
            "tags": [],
            "needs_background": "light"
          }
        }
      ]
    },
    {
      "cell_type": "code",
      "metadata": {
        "id": "dHJkgP__FztO",
        "colab_type": "code",
        "colab": {}
      },
      "source": [
        "data_df4=data_df2.loc['2017-12-10':'2017-06-10']\n",
        "sns.countplot(x='GrossProfit', hue='SaleType_Clean', data=data_df4)"
      ],
      "execution_count": 0,
      "outputs": []
    },
    {
      "cell_type": "code",
      "metadata": {
        "id": "Qxvj_pJ6FO_6",
        "colab_type": "code",
        "colab": {
          "base_uri": "https://localhost:8080/",
          "height": 690
        },
        "outputId": "fc8bd3c7-044c-46fe-ea31-e7d2742e8ada"
      },
      "source": [
        "from sklearn.model_selection import train_test_split\n",
        "X=data_df2['AccountingDate'\t,'BirthDate'\t,'DealNo'\t,'DealType',\t'FIDealType',\t'GrossProfit','Aging']\n",
        "y=data_df2['SaleType_Clean']\n",
        "X_train, X_test, y_train, y_test = train_test_split( X, y, test_size=0.33, random_state=42)"
      ],
      "execution_count": 212,
      "outputs": [
        {
          "output_type": "error",
          "ename": "KeyError",
          "evalue": "ignored",
          "traceback": [
            "\u001b[0;31m---------------------------------------------------------------------------\u001b[0m",
            "\u001b[0;31mKeyError\u001b[0m                                  Traceback (most recent call last)",
            "\u001b[0;32m/usr/local/lib/python3.6/dist-packages/pandas/core/indexes/base.py\u001b[0m in \u001b[0;36mget_loc\u001b[0;34m(self, key, method, tolerance)\u001b[0m\n\u001b[1;32m   2645\u001b[0m             \u001b[0;32mtry\u001b[0m\u001b[0;34m:\u001b[0m\u001b[0;34m\u001b[0m\u001b[0;34m\u001b[0m\u001b[0m\n\u001b[0;32m-> 2646\u001b[0;31m                 \u001b[0;32mreturn\u001b[0m \u001b[0mself\u001b[0m\u001b[0;34m.\u001b[0m\u001b[0m_engine\u001b[0m\u001b[0;34m.\u001b[0m\u001b[0mget_loc\u001b[0m\u001b[0;34m(\u001b[0m\u001b[0mkey\u001b[0m\u001b[0;34m)\u001b[0m\u001b[0;34m\u001b[0m\u001b[0;34m\u001b[0m\u001b[0m\n\u001b[0m\u001b[1;32m   2647\u001b[0m             \u001b[0;32mexcept\u001b[0m \u001b[0mKeyError\u001b[0m\u001b[0;34m:\u001b[0m\u001b[0;34m\u001b[0m\u001b[0;34m\u001b[0m\u001b[0m\n",
            "\u001b[0;32mpandas/_libs/index.pyx\u001b[0m in \u001b[0;36mpandas._libs.index.IndexEngine.get_loc\u001b[0;34m()\u001b[0m\n",
            "\u001b[0;32mpandas/_libs/index.pyx\u001b[0m in \u001b[0;36mpandas._libs.index.IndexEngine.get_loc\u001b[0;34m()\u001b[0m\n",
            "\u001b[0;32mpandas/_libs/hashtable_class_helper.pxi\u001b[0m in \u001b[0;36mpandas._libs.hashtable.PyObjectHashTable.get_item\u001b[0;34m()\u001b[0m\n",
            "\u001b[0;32mpandas/_libs/hashtable_class_helper.pxi\u001b[0m in \u001b[0;36mpandas._libs.hashtable.PyObjectHashTable.get_item\u001b[0;34m()\u001b[0m\n",
            "\u001b[0;31mKeyError\u001b[0m: ('AccountingDate', 'BirthDate', 'DealNo', 'DealType', 'FIDealType', 'GrossProfit', 'Aging')",
            "\nDuring handling of the above exception, another exception occurred:\n",
            "\u001b[0;31mKeyError\u001b[0m                                  Traceback (most recent call last)",
            "\u001b[0;32m<ipython-input-212-446b88f88f4a>\u001b[0m in \u001b[0;36m<module>\u001b[0;34m()\u001b[0m\n\u001b[1;32m      1\u001b[0m \u001b[0;32mfrom\u001b[0m \u001b[0msklearn\u001b[0m\u001b[0;34m.\u001b[0m\u001b[0mmodel_selection\u001b[0m \u001b[0;32mimport\u001b[0m \u001b[0mtrain_test_split\u001b[0m\u001b[0;34m\u001b[0m\u001b[0;34m\u001b[0m\u001b[0m\n\u001b[0;32m----> 2\u001b[0;31m \u001b[0mX\u001b[0m\u001b[0;34m=\u001b[0m\u001b[0mdata_df2\u001b[0m\u001b[0;34m[\u001b[0m\u001b[0;34m'AccountingDate'\u001b[0m\u001b[0;34m,\u001b[0m    \u001b[0;34m'BirthDate'\u001b[0m     \u001b[0;34m,\u001b[0m\u001b[0;34m'DealNo'\u001b[0m       \u001b[0;34m,\u001b[0m\u001b[0;34m'DealType'\u001b[0m\u001b[0;34m,\u001b[0m    \u001b[0;34m'FIDealType'\u001b[0m\u001b[0;34m,\u001b[0m   \u001b[0;34m'GrossProfit'\u001b[0m\u001b[0;34m,\u001b[0m\u001b[0;34m'Aging'\u001b[0m\u001b[0;34m]\u001b[0m\u001b[0;34m\u001b[0m\u001b[0;34m\u001b[0m\u001b[0m\n\u001b[0m\u001b[1;32m      3\u001b[0m \u001b[0my\u001b[0m\u001b[0;34m=\u001b[0m\u001b[0mdata_df2\u001b[0m\u001b[0;34m[\u001b[0m\u001b[0;34m'SaleType_Clean'\u001b[0m\u001b[0;34m]\u001b[0m\u001b[0;34m\u001b[0m\u001b[0;34m\u001b[0m\u001b[0m\n\u001b[1;32m      4\u001b[0m \u001b[0mX_train\u001b[0m\u001b[0;34m,\u001b[0m \u001b[0mX_test\u001b[0m\u001b[0;34m,\u001b[0m \u001b[0my_train\u001b[0m\u001b[0;34m,\u001b[0m \u001b[0my_test\u001b[0m \u001b[0;34m=\u001b[0m \u001b[0mtrain_test_split\u001b[0m\u001b[0;34m(\u001b[0m \u001b[0mX\u001b[0m\u001b[0;34m,\u001b[0m \u001b[0my\u001b[0m\u001b[0;34m,\u001b[0m \u001b[0mtest_size\u001b[0m\u001b[0;34m=\u001b[0m\u001b[0;36m0.33\u001b[0m\u001b[0;34m,\u001b[0m \u001b[0mrandom_state\u001b[0m\u001b[0;34m=\u001b[0m\u001b[0;36m42\u001b[0m\u001b[0;34m)\u001b[0m\u001b[0;34m\u001b[0m\u001b[0;34m\u001b[0m\u001b[0m\n",
            "\u001b[0;32m/usr/local/lib/python3.6/dist-packages/pandas/core/frame.py\u001b[0m in \u001b[0;36m__getitem__\u001b[0;34m(self, key)\u001b[0m\n\u001b[1;32m   2798\u001b[0m             \u001b[0;32mif\u001b[0m \u001b[0mself\u001b[0m\u001b[0;34m.\u001b[0m\u001b[0mcolumns\u001b[0m\u001b[0;34m.\u001b[0m\u001b[0mnlevels\u001b[0m \u001b[0;34m>\u001b[0m \u001b[0;36m1\u001b[0m\u001b[0;34m:\u001b[0m\u001b[0;34m\u001b[0m\u001b[0;34m\u001b[0m\u001b[0m\n\u001b[1;32m   2799\u001b[0m                 \u001b[0;32mreturn\u001b[0m \u001b[0mself\u001b[0m\u001b[0;34m.\u001b[0m\u001b[0m_getitem_multilevel\u001b[0m\u001b[0;34m(\u001b[0m\u001b[0mkey\u001b[0m\u001b[0;34m)\u001b[0m\u001b[0;34m\u001b[0m\u001b[0;34m\u001b[0m\u001b[0m\n\u001b[0;32m-> 2800\u001b[0;31m             \u001b[0mindexer\u001b[0m \u001b[0;34m=\u001b[0m \u001b[0mself\u001b[0m\u001b[0;34m.\u001b[0m\u001b[0mcolumns\u001b[0m\u001b[0;34m.\u001b[0m\u001b[0mget_loc\u001b[0m\u001b[0;34m(\u001b[0m\u001b[0mkey\u001b[0m\u001b[0;34m)\u001b[0m\u001b[0;34m\u001b[0m\u001b[0;34m\u001b[0m\u001b[0m\n\u001b[0m\u001b[1;32m   2801\u001b[0m             \u001b[0;32mif\u001b[0m \u001b[0mis_integer\u001b[0m\u001b[0;34m(\u001b[0m\u001b[0mindexer\u001b[0m\u001b[0;34m)\u001b[0m\u001b[0;34m:\u001b[0m\u001b[0;34m\u001b[0m\u001b[0;34m\u001b[0m\u001b[0m\n\u001b[1;32m   2802\u001b[0m                 \u001b[0mindexer\u001b[0m \u001b[0;34m=\u001b[0m \u001b[0;34m[\u001b[0m\u001b[0mindexer\u001b[0m\u001b[0;34m]\u001b[0m\u001b[0;34m\u001b[0m\u001b[0;34m\u001b[0m\u001b[0m\n",
            "\u001b[0;32m/usr/local/lib/python3.6/dist-packages/pandas/core/indexes/base.py\u001b[0m in \u001b[0;36mget_loc\u001b[0;34m(self, key, method, tolerance)\u001b[0m\n\u001b[1;32m   2646\u001b[0m                 \u001b[0;32mreturn\u001b[0m \u001b[0mself\u001b[0m\u001b[0;34m.\u001b[0m\u001b[0m_engine\u001b[0m\u001b[0;34m.\u001b[0m\u001b[0mget_loc\u001b[0m\u001b[0;34m(\u001b[0m\u001b[0mkey\u001b[0m\u001b[0;34m)\u001b[0m\u001b[0;34m\u001b[0m\u001b[0;34m\u001b[0m\u001b[0m\n\u001b[1;32m   2647\u001b[0m             \u001b[0;32mexcept\u001b[0m \u001b[0mKeyError\u001b[0m\u001b[0;34m:\u001b[0m\u001b[0;34m\u001b[0m\u001b[0;34m\u001b[0m\u001b[0m\n\u001b[0;32m-> 2648\u001b[0;31m                 \u001b[0;32mreturn\u001b[0m \u001b[0mself\u001b[0m\u001b[0;34m.\u001b[0m\u001b[0m_engine\u001b[0m\u001b[0;34m.\u001b[0m\u001b[0mget_loc\u001b[0m\u001b[0;34m(\u001b[0m\u001b[0mself\u001b[0m\u001b[0;34m.\u001b[0m\u001b[0m_maybe_cast_indexer\u001b[0m\u001b[0;34m(\u001b[0m\u001b[0mkey\u001b[0m\u001b[0;34m)\u001b[0m\u001b[0;34m)\u001b[0m\u001b[0;34m\u001b[0m\u001b[0;34m\u001b[0m\u001b[0m\n\u001b[0m\u001b[1;32m   2649\u001b[0m         \u001b[0mindexer\u001b[0m \u001b[0;34m=\u001b[0m \u001b[0mself\u001b[0m\u001b[0;34m.\u001b[0m\u001b[0mget_indexer\u001b[0m\u001b[0;34m(\u001b[0m\u001b[0;34m[\u001b[0m\u001b[0mkey\u001b[0m\u001b[0;34m]\u001b[0m\u001b[0;34m,\u001b[0m \u001b[0mmethod\u001b[0m\u001b[0;34m=\u001b[0m\u001b[0mmethod\u001b[0m\u001b[0;34m,\u001b[0m \u001b[0mtolerance\u001b[0m\u001b[0;34m=\u001b[0m\u001b[0mtolerance\u001b[0m\u001b[0;34m)\u001b[0m\u001b[0;34m\u001b[0m\u001b[0;34m\u001b[0m\u001b[0m\n\u001b[1;32m   2650\u001b[0m         \u001b[0;32mif\u001b[0m \u001b[0mindexer\u001b[0m\u001b[0;34m.\u001b[0m\u001b[0mndim\u001b[0m \u001b[0;34m>\u001b[0m \u001b[0;36m1\u001b[0m \u001b[0;32mor\u001b[0m \u001b[0mindexer\u001b[0m\u001b[0;34m.\u001b[0m\u001b[0msize\u001b[0m \u001b[0;34m>\u001b[0m \u001b[0;36m1\u001b[0m\u001b[0;34m:\u001b[0m\u001b[0;34m\u001b[0m\u001b[0;34m\u001b[0m\u001b[0m\n",
            "\u001b[0;32mpandas/_libs/index.pyx\u001b[0m in \u001b[0;36mpandas._libs.index.IndexEngine.get_loc\u001b[0;34m()\u001b[0m\n",
            "\u001b[0;32mpandas/_libs/index.pyx\u001b[0m in \u001b[0;36mpandas._libs.index.IndexEngine.get_loc\u001b[0;34m()\u001b[0m\n",
            "\u001b[0;32mpandas/_libs/hashtable_class_helper.pxi\u001b[0m in \u001b[0;36mpandas._libs.hashtable.PyObjectHashTable.get_item\u001b[0;34m()\u001b[0m\n",
            "\u001b[0;32mpandas/_libs/hashtable_class_helper.pxi\u001b[0m in \u001b[0;36mpandas._libs.hashtable.PyObjectHashTable.get_item\u001b[0;34m()\u001b[0m\n",
            "\u001b[0;31mKeyError\u001b[0m: ('AccountingDate', 'BirthDate', 'DealNo', 'DealType', 'FIDealType', 'GrossProfit', 'Aging')"
          ]
        }
      ]
    }
  ]
}