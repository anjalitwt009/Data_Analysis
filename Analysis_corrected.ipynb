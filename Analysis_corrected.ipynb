{
 "cells": [
  {
   "cell_type": "markdown",
   "metadata": {
    "colab_type": "text",
    "id": "r_yevZZG-X7J"
   },
   "source": [
    "## 1. Read the two sheets of the Excel file into separate pandas dataframes (data_df, lookup_df). You are allowed to manually copy the data into new csv files and them read them if you wish ."
   ]
  },
  {
   "cell_type": "code",
   "execution_count": 0,
   "metadata": {
    "colab": {
     "base_uri": "https://localhost:8080/",
     "height": 70
    },
    "colab_type": "code",
    "id": "SDz9ttWx98lu",
    "outputId": "0fccaddc-3eee-4250-f244-a3fb02f23c5e"
   },
   "outputs": [
    {
     "name": "stderr",
     "output_type": "stream",
     "text": [
      "/usr/local/lib/python3.6/dist-packages/statsmodels/tools/_testing.py:19: FutureWarning: pandas.util.testing is deprecated. Use the functions in the public API at pandas.testing instead.\n",
      "  import pandas.util.testing as tm\n"
     ]
    }
   ],
   "source": [
    "# Load libraries\n",
    "import pandas as pd\n",
    "from pandas.plotting import scatter_matrix\n",
    "import matplotlib.pyplot as plt\n",
    "import seaborn as sns\n",
    "import numpy as np\n",
    "from datetime import date \n",
    "from datetime import timedelta\n",
    "from dateutil import relativedelta\n",
    "\n",
    "from sklearn import model_selection\n",
    "from sklearn.metrics import classification_report\n",
    "from sklearn.metrics import confusion_matrix\n",
    "from sklearn.metrics import accuracy_score\n",
    "from sklearn.linear_model import LogisticRegression\n",
    "from sklearn.tree import DecisionTreeClassifier\n",
    "from sklearn.neighbors import KNeighborsClassifier\n",
    "from sklearn.discriminant_analysis import LinearDiscriminantAnalysis\n",
    "from sklearn.naive_bayes import GaussianNB\n",
    "from sklearn.svm import SVC\n",
    "from sklearn import *"
   ]
  },
  {
   "cell_type": "code",
   "execution_count": 0,
   "metadata": {
    "colab": {
     "base_uri": "https://localhost:8080/",
     "height": 319
    },
    "colab_type": "code",
    "id": "qEI7fx7A_AYq",
    "outputId": "21fe9e01-9783-413b-a39d-090e6bd3f635"
   },
   "outputs": [
    {
     "name": "stdout",
     "output_type": "stream",
     "text": [
      "<class 'pandas.core.frame.DataFrame'>\n",
      "RangeIndex: 10220 entries, 0 to 10219\n",
      "Data columns (total 9 columns):\n",
      " #   Column           Non-Null Count  Dtype  \n",
      "---  ------           --------------  -----  \n",
      " 0   AccountingDate   10220 non-null  object \n",
      " 1   BirthDate        7439 non-null   object \n",
      " 2   DealNo           10220 non-null  int64  \n",
      " 3   DealType         10220 non-null  object \n",
      " 4   Email1Desc       4048 non-null   object \n",
      " 5   FIDealType       10220 non-null  object \n",
      " 6   FIIncome         10220 non-null  float64\n",
      " 7   FiWipStatusCode  10220 non-null  object \n",
      " 8   GrossProfit      10220 non-null  float64\n",
      "dtypes: float64(2), int64(1), object(6)\n",
      "memory usage: 718.7+ KB\n",
      "None\n",
      "(10220, 9)\n"
     ]
    }
   ],
   "source": [
    "# Load dataset\n",
    "data_df =pd.read_csv(\"data.csv\")\n",
    "print(data_df.info())\n",
    "print(data_df.shape)"
   ]
  },
  {
   "cell_type": "code",
   "execution_count": 0,
   "metadata": {
    "colab": {
     "base_uri": "https://localhost:8080/",
     "height": 151
    },
    "colab_type": "code",
    "id": "sRqwkw1HCRcb",
    "outputId": "b9e5a5aa-27e3-4f55-94c5-fe3cfb296aad"
   },
   "outputs": [
    {
     "name": "stdout",
     "output_type": "stream",
     "text": [
      "  AccountingDate   BirthDate  DealNo  ... FIIncome FiWipStatusCode GrossProfit\n",
      "0     17/03/2012  11/03/1941   64311  ...      0.0               F     1314.73\n",
      "1     30/10/2014  04/04/1953   87150  ...    250.0               F     1641.55\n",
      "2     07/06/2012  24/04/1948   66628  ...      0.0               F      425.66\n",
      "3     13/11/2009  24/05/1925   46106  ...      0.0               F     4032.21\n",
      "4     31/08/2006  12/06/1958   25584  ...      0.0               F     -369.10\n",
      "\n",
      "[5 rows x 9 columns]\n"
     ]
    }
   ],
   "source": [
    "print(data_df.head())"
   ]
  },
  {
   "cell_type": "code",
   "execution_count": 0,
   "metadata": {
    "colab": {
     "base_uri": "https://localhost:8080/",
     "height": 185
    },
    "colab_type": "code",
    "id": "M9rTmAuxVJjv",
    "outputId": "816c5ea0-9f30-4768-95b3-e418af77a83e"
   },
   "outputs": [
    {
     "data": {
      "text/plain": [
       "AccountingDate        0\n",
       "BirthDate          2781\n",
       "DealNo                0\n",
       "DealType              0\n",
       "Email1Desc         6172\n",
       "FIDealType            0\n",
       "FIIncome              0\n",
       "FiWipStatusCode       0\n",
       "GrossProfit           0\n",
       "dtype: int64"
      ]
     },
     "execution_count": 4,
     "metadata": {
      "tags": []
     },
     "output_type": "execute_result"
    }
   ],
   "source": [
    "data_df.isnull().sum()"
   ]
  },
  {
   "cell_type": "code",
   "execution_count": 0,
   "metadata": {
    "colab": {
     "base_uri": "https://localhost:8080/",
     "height": 218
    },
    "colab_type": "code",
    "id": "ZEDxz0TmBw6h",
    "outputId": "42662193-f837-4b7d-c0fe-710f50a19d02"
   },
   "outputs": [
    {
     "name": "stdout",
     "output_type": "stream",
     "text": [
      "<class 'pandas.core.frame.DataFrame'>\n",
      "RangeIndex: 22 entries, 0 to 21\n",
      "Data columns (total 3 columns):\n",
      " #   Column      Non-Null Count  Dtype \n",
      "---  ------      --------------  ----- \n",
      " 0   DealType    21 non-null     object\n",
      " 1   FIDealType  20 non-null     object\n",
      " 2   Sale Type   22 non-null     object\n",
      "dtypes: object(3)\n",
      "memory usage: 656.0+ bytes\n",
      "None\n",
      "(22, 3)\n"
     ]
    }
   ],
   "source": [
    "# Load dataset\n",
    "lookup_df =pd.read_csv(\"lookup.csv\")\n",
    "print(lookup_df.info())\n",
    "print(lookup_df.shape)"
   ]
  },
  {
   "cell_type": "code",
   "execution_count": 0,
   "metadata": {
    "colab": {
     "base_uri": "https://localhost:8080/",
     "height": 118
    },
    "colab_type": "code",
    "id": "0JrS-XAACs0K",
    "outputId": "ec42e1e2-e5dc-4157-e51d-04eb1b5c3379"
   },
   "outputs": [
    {
     "name": "stdout",
     "output_type": "stream",
     "text": [
      "  DealType FIDealType Sale Type\n",
      "0     Demo       Demo       New\n",
      "1    Lease       Demo       New\n",
      "2    Lease        New       New\n",
      "3     Misc       Misc       New\n",
      "4      NaN        NaN       New\n"
     ]
    }
   ],
   "source": [
    "print(lookup_df.head())"
   ]
  },
  {
   "cell_type": "code",
   "execution_count": 0,
   "metadata": {
    "colab": {
     "base_uri": "https://localhost:8080/",
     "height": 67
    },
    "colab_type": "code",
    "id": "hguWsr6uGFWo",
    "outputId": "5af782b1-3aac-44a8-fba4-a113e11cda13"
   },
   "outputs": [
    {
     "name": "stdout",
     "output_type": "stream",
     "text": [
      "Index(['AccountingDate', 'BirthDate', 'DealNo', 'DealType', 'Email1Desc',\n",
      "       'FIDealType', 'FIIncome', 'FiWipStatusCode', 'GrossProfit'],\n",
      "      dtype='object')\n"
     ]
    }
   ],
   "source": [
    "print(data_df.columns)"
   ]
  },
  {
   "cell_type": "code",
   "execution_count": 0,
   "metadata": {
    "colab": {
     "base_uri": "https://localhost:8080/",
     "height": 34
    },
    "colab_type": "code",
    "id": "-zxMctRIJAkS",
    "outputId": "599dc6a2-04e4-4992-89ad-21e58c58ca25"
   },
   "outputs": [
    {
     "data": {
      "text/plain": [
       "(10220, 9)"
      ]
     },
     "execution_count": 8,
     "metadata": {
      "tags": []
     },
     "output_type": "execute_result"
    }
   ],
   "source": [
    "# Drop duplicate rows\n",
    "data_df.drop_duplicates(keep ='last' )\n",
    "data_df.shape\n"
   ]
  },
  {
   "cell_type": "code",
   "execution_count": 0,
   "metadata": {
    "colab": {
     "base_uri": "https://localhost:8080/",
     "height": 50
    },
    "colab_type": "code",
    "id": "Cb_bkbgVUQ6w",
    "outputId": "5cbe114e-567d-4d63-80c4-83067255e8e7"
   },
   "outputs": [
    {
     "data": {
      "text/plain": [
       "array(['New', 'Used', 'Misc', 'Demo', 'Special Order', 'Rental'],\n",
       "      dtype=object)"
      ]
     },
     "execution_count": 9,
     "metadata": {
      "tags": []
     },
     "output_type": "execute_result"
    }
   ],
   "source": [
    "data_df['FIDealType'].unique()"
   ]
  },
  {
   "cell_type": "markdown",
   "metadata": {
    "colab_type": "text",
    "id": "bgEmcsJZJN-U"
   },
   "source": [
    "# Since after removing duplicates the size remains the same hence there are no duplicates."
   ]
  },
  {
   "cell_type": "markdown",
   "metadata": {
    "colab_type": "text",
    "id": "Tw1aHKelxlmc"
   },
   "source": [
    "## 2. Make your best guess about which column(s) in data_df represent the following ideas. There may be multiple columns representing an idea or its variations: \n",
    "* The date a sale (deal) was made \n",
    "* A unique identifier representing the deal \n",
    "* The buyer’s date of birth \n",
    "* The type of vehicle sold \n",
    "* Profit made on the deal "
   ]
  },
  {
   "cell_type": "markdown",
   "metadata": {
    "colab_type": "text",
    "id": "RdNyuWuNJcSj"
   },
   "source": [
    "## Answers\n",
    "a. The date a sale (deal) was made : 'AccountingDate', 'DealNo'\n",
    "\n",
    "b. A unique identifier representing the deal :'DealNo'\n",
    "\n",
    "c. The buyer’s date of birth :'BirthDate'\n",
    "\n",
    "d. The type of vehicle sold :'DealType'\n",
    "\n",
    "e. Profit made on the deal : 'GrossProfit','DealType'"
   ]
  },
  {
   "cell_type": "code",
   "execution_count": 0,
   "metadata": {
    "colab": {
     "base_uri": "https://localhost:8080/",
     "height": 354
    },
    "colab_type": "code",
    "id": "9lCmIXNPXdxe",
    "outputId": "81628560-f100-4b04-d268-1e46e10de938"
   },
   "outputs": [
    {
     "data": {
      "text/plain": [
       "<matplotlib.axes._subplots.AxesSubplot at 0x7f78a1d1abe0>"
      ]
     },
     "execution_count": 10,
     "metadata": {
      "tags": []
     },
     "output_type": "execute_result"
    },
    {
     "data": {
      "image/png": "[encoded data removed]",
      "text/plain": [
       "<Figure size 432x288 with 1 Axes>"
      ]
     },
     "metadata": {
      "needs_background": "light",
      "tags": []
     },
     "output_type": "display_data"
    }
   ],
   "source": [
    "data_df.groupby('DealType')['GrossProfit'].mean().plot(kind='bar', label =\"popularity\")"
   ]
  },
  {
   "cell_type": "markdown",
   "metadata": {
    "colab_type": "text",
    "id": "IzlctFOqyGL-"
   },
   "source": [
    "## 3. Determine which of these represent categorical vs continuous numerical data."
   ]
  },
  {
   "cell_type": "code",
   "execution_count": 0,
   "metadata": {
    "colab": {
     "base_uri": "https://localhost:8080/",
     "height": 286
    },
    "colab_type": "code",
    "id": "i8Ykl1AfyUnW",
    "outputId": "0dfd43a0-21f4-49ff-8c89-95e66fa490b3"
   },
   "outputs": [
    {
     "name": "stdout",
     "output_type": "stream",
     "text": [
      "<class 'pandas.core.frame.DataFrame'>\n",
      "RangeIndex: 10220 entries, 0 to 10219\n",
      "Data columns (total 9 columns):\n",
      " #   Column           Non-Null Count  Dtype  \n",
      "---  ------           --------------  -----  \n",
      " 0   AccountingDate   10220 non-null  object \n",
      " 1   BirthDate        7439 non-null   object \n",
      " 2   DealNo           10220 non-null  int64  \n",
      " 3   DealType         10220 non-null  object \n",
      " 4   Email1Desc       10220 non-null  object \n",
      " 5   FIDealType       10220 non-null  object \n",
      " 6   FIIncome         10220 non-null  float64\n",
      " 7   FiWipStatusCode  10220 non-null  object \n",
      " 8   GrossProfit      10220 non-null  float64\n",
      "dtypes: float64(2), int64(1), object(6)\n",
      "memory usage: 718.7+ KB\n"
     ]
    }
   ],
   "source": [
    "data_df.info()"
   ]
  },
  {
   "cell_type": "code",
   "execution_count": 0,
   "metadata": {
    "colab": {},
    "colab_type": "code",
    "id": "YeXzcyNiJPpD"
   },
   "outputs": [],
   "source": [
    "categorical=['AccountingDate', 'BirthDate', 'DealType', 'Email1Desc',\n",
    "       'FIDealType', 'FiWipStatusCode']\n",
    "numerical=['FIIncome', 'DealNo','GrossProfit']"
   ]
  },
  {
   "cell_type": "markdown",
   "metadata": {
    "colab_type": "text",
    "id": "FDx2O1bQy3c5"
   },
   "source": [
    "## 4. Generate summary statistics and charts to understand statistical properties of numerical columns."
   ]
  },
  {
   "cell_type": "markdown",
   "metadata": {
    "colab_type": "text",
    "id": "27XqMvo1JUoJ"
   },
   "source": [
    "The FIIncome column has a lot of negative values which makes no sense since its the income lets see how many positive values are there."
   ]
  },
  {
   "cell_type": "code",
   "execution_count": 0,
   "metadata": {
    "colab": {
     "base_uri": "https://localhost:8080/",
     "height": 402
    },
    "colab_type": "code",
    "id": "bnj8U2oPUyXc",
    "outputId": "32c6200e-f46c-433d-b979-c67093827906"
   },
   "outputs": [
    {
     "data": {
      "text/html": [
       "<div>\n",
       "<style scoped>\n",
       "    .dataframe tbody tr th:only-of-type {\n",
       "        vertical-align: middle;\n",
       "    }\n",
       "\n",
       "    .dataframe tbody tr th {\n",
       "        vertical-align: top;\n",
       "    }\n",
       "\n",
       "    .dataframe thead th {\n",
       "        text-align: right;\n",
       "    }\n",
       "</style>\n",
       "<table border=\"1\" class=\"dataframe\">\n",
       "  <thead>\n",
       "    <tr style=\"text-align: right;\">\n",
       "      <th></th>\n",
       "      <th>AccountingDate</th>\n",
       "      <th>BirthDate</th>\n",
       "      <th>DealNo</th>\n",
       "      <th>DealType</th>\n",
       "      <th>Email1Desc</th>\n",
       "      <th>FIDealType</th>\n",
       "      <th>FIIncome</th>\n",
       "      <th>FiWipStatusCode</th>\n",
       "      <th>GrossProfit</th>\n",
       "    </tr>\n",
       "  </thead>\n",
       "  <tbody>\n",
       "    <tr>\n",
       "      <th>1</th>\n",
       "      <td>30/10/2014</td>\n",
       "      <td>04/04/1953</td>\n",
       "      <td>87150</td>\n",
       "      <td>New</td>\n",
       "      <td>HOME</td>\n",
       "      <td>New</td>\n",
       "      <td>250.00</td>\n",
       "      <td>F</td>\n",
       "      <td>1641.55</td>\n",
       "    </tr>\n",
       "    <tr>\n",
       "      <th>5</th>\n",
       "      <td>09/06/2015</td>\n",
       "      <td>07/10/1967</td>\n",
       "      <td>91784</td>\n",
       "      <td>Used</td>\n",
       "      <td>NaN</td>\n",
       "      <td>Used</td>\n",
       "      <td>622.85</td>\n",
       "      <td>F</td>\n",
       "      <td>0.25</td>\n",
       "    </tr>\n",
       "    <tr>\n",
       "      <th>7</th>\n",
       "      <td>14/09/2015</td>\n",
       "      <td>NaN</td>\n",
       "      <td>94101</td>\n",
       "      <td>Used</td>\n",
       "      <td>NaN</td>\n",
       "      <td>Used</td>\n",
       "      <td>656.63</td>\n",
       "      <td>F</td>\n",
       "      <td>759.66</td>\n",
       "    </tr>\n",
       "    <tr>\n",
       "      <th>8</th>\n",
       "      <td>01/04/2013</td>\n",
       "      <td>07/10/1949</td>\n",
       "      <td>73579</td>\n",
       "      <td>Lease</td>\n",
       "      <td>HOME</td>\n",
       "      <td>New</td>\n",
       "      <td>100.00</td>\n",
       "      <td>F</td>\n",
       "      <td>469.61</td>\n",
       "    </tr>\n",
       "    <tr>\n",
       "      <th>11</th>\n",
       "      <td>21/04/2016</td>\n",
       "      <td>10/05/1977</td>\n",
       "      <td>98735</td>\n",
       "      <td>New</td>\n",
       "      <td>HOME</td>\n",
       "      <td>New</td>\n",
       "      <td>200.00</td>\n",
       "      <td>F</td>\n",
       "      <td>94.81</td>\n",
       "    </tr>\n",
       "    <tr>\n",
       "      <th>...</th>\n",
       "      <td>...</td>\n",
       "      <td>...</td>\n",
       "      <td>...</td>\n",
       "      <td>...</td>\n",
       "      <td>...</td>\n",
       "      <td>...</td>\n",
       "      <td>...</td>\n",
       "      <td>...</td>\n",
       "      <td>...</td>\n",
       "    </tr>\n",
       "    <tr>\n",
       "      <th>10213</th>\n",
       "      <td>30/04/2008</td>\n",
       "      <td>17/09/1956</td>\n",
       "      <td>37296</td>\n",
       "      <td>Used</td>\n",
       "      <td>NaN</td>\n",
       "      <td>Used</td>\n",
       "      <td>666.66</td>\n",
       "      <td>F</td>\n",
       "      <td>-609.67</td>\n",
       "    </tr>\n",
       "    <tr>\n",
       "      <th>10216</th>\n",
       "      <td>26/12/2011</td>\n",
       "      <td>09/04/1985</td>\n",
       "      <td>62452</td>\n",
       "      <td>New</td>\n",
       "      <td>HOME</td>\n",
       "      <td>New</td>\n",
       "      <td>200.00</td>\n",
       "      <td>F</td>\n",
       "      <td>1158.69</td>\n",
       "    </tr>\n",
       "    <tr>\n",
       "      <th>10217</th>\n",
       "      <td>08/05/2017</td>\n",
       "      <td>25/09/1962</td>\n",
       "      <td>107300</td>\n",
       "      <td>Lease</td>\n",
       "      <td>HOME</td>\n",
       "      <td>New</td>\n",
       "      <td>100.00</td>\n",
       "      <td>F</td>\n",
       "      <td>296.69</td>\n",
       "    </tr>\n",
       "    <tr>\n",
       "      <th>10218</th>\n",
       "      <td>31/05/2006</td>\n",
       "      <td>09/10/1985</td>\n",
       "      <td>23725</td>\n",
       "      <td>Used</td>\n",
       "      <td>NaN</td>\n",
       "      <td>Used</td>\n",
       "      <td>885.86</td>\n",
       "      <td>F</td>\n",
       "      <td>2640.45</td>\n",
       "    </tr>\n",
       "    <tr>\n",
       "      <th>10219</th>\n",
       "      <td>11/10/2006</td>\n",
       "      <td>25/10/1965</td>\n",
       "      <td>26042</td>\n",
       "      <td>New</td>\n",
       "      <td>NaN</td>\n",
       "      <td>New</td>\n",
       "      <td>1662.87</td>\n",
       "      <td>F</td>\n",
       "      <td>2354.55</td>\n",
       "    </tr>\n",
       "  </tbody>\n",
       "</table>\n",
       "<p>4651 rows × 9 columns</p>\n",
       "</div>"
      ],
      "text/plain": [
       "      AccountingDate   BirthDate  DealNo  ... FIIncome FiWipStatusCode GrossProfit\n",
       "1         30/10/2014  04/04/1953   87150  ...   250.00               F     1641.55\n",
       "5         09/06/2015  07/10/1967   91784  ...   622.85               F        0.25\n",
       "7         14/09/2015         NaN   94101  ...   656.63               F      759.66\n",
       "8         01/04/2013  07/10/1949   73579  ...   100.00               F      469.61\n",
       "11        21/04/2016  10/05/1977   98735  ...   200.00               F       94.81\n",
       "...              ...         ...     ...  ...      ...             ...         ...\n",
       "10213     30/04/2008  17/09/1956   37296  ...   666.66               F     -609.67\n",
       "10216     26/12/2011  09/04/1985   62452  ...   200.00               F     1158.69\n",
       "10217     08/05/2017  25/09/1962  107300  ...   100.00               F      296.69\n",
       "10218     31/05/2006  09/10/1985   23725  ...   885.86               F     2640.45\n",
       "10219     11/10/2006  25/10/1965   26042  ...  1662.87               F     2354.55\n",
       "\n",
       "[4651 rows x 9 columns]"
      ]
     },
     "execution_count": 12,
     "metadata": {
      "tags": []
     },
     "output_type": "execute_result"
    }
   ],
   "source": [
    "data_df[data_df['FIIncome']>0]"
   ]
  },
  {
   "cell_type": "code",
   "execution_count": 0,
   "metadata": {
    "colab": {},
    "colab_type": "code",
    "id": "lyjCmllFkRE2"
   },
   "outputs": [],
   "source": [
    "data_df[data_df['FIIncome'] < 0] = 0"
   ]
  },
  {
   "cell_type": "code",
   "execution_count": 0,
   "metadata": {
    "colab": {
     "base_uri": "https://localhost:8080/",
     "height": 34
    },
    "colab_type": "code",
    "id": "cje8NQa9ki8Y",
    "outputId": "935f515f-d28a-4289-c694-0c4d41f28c5b"
   },
   "outputs": [
    {
     "data": {
      "text/plain": [
       "10220"
      ]
     },
     "execution_count": 14,
     "metadata": {
      "tags": []
     },
     "output_type": "execute_result"
    }
   ],
   "source": [
    "(data_df['FIIncome']>-1).sum()"
   ]
  },
  {
   "cell_type": "markdown",
   "metadata": {
    "colab_type": "text",
    "id": "LlWbX7PoJ7L4"
   },
   "source": [
    "***VISUAL EDA***\n",
    "\n",
    "Looking into the box plot it can be observed there are outliers in the gross profit column and the median value lies in between 0 and 2500."
   ]
  },
  {
   "cell_type": "code",
   "execution_count": 0,
   "metadata": {
    "colab": {
     "base_uri": "https://localhost:8080/",
     "height": 296
    },
    "colab_type": "code",
    "id": "2sw73QRXU6uS",
    "outputId": "068661b7-5524-4ee8-921b-0768849dad2e"
   },
   "outputs": [
    {
     "data": {
      "text/plain": [
       "<matplotlib.axes._subplots.AxesSubplot at 0x7f78a1d9bc50>"
      ]
     },
     "execution_count": 15,
     "metadata": {
      "tags": []
     },
     "output_type": "execute_result"
    },
    {
     "data": {
      "image/png": "[encoded data removed]",
      "text/plain": [
       "<Figure size 432x288 with 1 Axes>"
      ]
     },
     "metadata": {
      "needs_background": "light",
      "tags": []
     },
     "output_type": "display_data"
    }
   ],
   "source": [
    "#outliers in GrossProfit\n",
    "sns.boxplot(x='GrossProfit', data=data_df)"
   ]
  },
  {
   "cell_type": "code",
   "execution_count": 0,
   "metadata": {
    "colab": {
     "base_uri": "https://localhost:8080/",
     "height": 296
    },
    "colab_type": "code",
    "id": "FFISsEqfbHvB",
    "outputId": "ef256ea8-f3dc-4d40-dc89-ce01fcfec614"
   },
   "outputs": [
    {
     "data": {
      "text/plain": [
       "<matplotlib.axes._subplots.AxesSubplot at 0x7f78a174c320>"
      ]
     },
     "execution_count": 16,
     "metadata": {
      "tags": []
     },
     "output_type": "execute_result"
    },
    {
     "data": {
      "image/png": "[encoded data removed]",
      "text/plain": [
       "<Figure size 432x288 with 1 Axes>"
      ]
     },
     "metadata": {
      "needs_background": "light",
      "tags": []
     },
     "output_type": "display_data"
    }
   ],
   "source": [
    "#outliers in FIIncome\n",
    "sns.boxplot(x='FIIncome', data=data_df)"
   ]
  },
  {
   "cell_type": "code",
   "execution_count": 0,
   "metadata": {
    "colab": {
     "base_uri": "https://localhost:8080/",
     "height": 458
    },
    "colab_type": "code",
    "id": "YYPDa2iqMuUD",
    "outputId": "8c95e4b2-38b7-46f1-818d-5d60dc5da7a3"
   },
   "outputs": [
    {
     "data": {
      "text/plain": [
       "Text(336.9714285714286, 0.5, 'Gross Profit')"
      ]
     },
     "execution_count": 17,
     "metadata": {
      "tags": []
     },
     "output_type": "execute_result"
    },
    {
     "data": {
      "image/png": "[encoded data removed]",
      "text/plain": [
       "<Figure size 432x432 with 3 Axes>"
      ]
     },
     "metadata": {
      "needs_background": "light",
      "tags": []
     },
     "output_type": "display_data"
    }
   ],
   "source": [
    "#plotting the correlation between the numerical features\n",
    "ax = sns.jointplot(x='FIIncome', y='GrossProfit', data=data_df[numerical])\n",
    "plt.title('Correlation between Financial Income and Gross Profit')\n",
    "# Set x-axis label\n",
    "plt.xlabel('Financial Income')\n",
    "# Set y-axis label\n",
    "plt.ylabel('Gross Profit')"
   ]
  },
  {
   "cell_type": "code",
   "execution_count": 0,
   "metadata": {
    "colab": {
     "base_uri": "https://localhost:8080/",
     "height": 281
    },
    "colab_type": "code",
    "id": "yOO1SbpuRP0f",
    "outputId": "62d5a7ba-018c-44e6-b6d5-c08afc122a43"
   },
   "outputs": [
    {
     "data": {
      "image/png": "[encoded data removed]",
      "text/plain": [
       "<Figure size 432x288 with 1 Axes>"
      ]
     },
     "metadata": {
      "needs_background": "light",
      "tags": []
     },
     "output_type": "display_data"
    }
   ],
   "source": [
    "#PDF of FIIncome\n",
    "#Although FIIncome wont be helping in prediction and therefore can be ignored.\n",
    "data_df.plot(y='FIIncome', kind='hist',legend='True', bins=30,density=True)\n",
    "plt.xlabel('Financial Income')\n",
    "plt.show()"
   ]
  },
  {
   "cell_type": "code",
   "execution_count": 0,
   "metadata": {
    "colab": {
     "base_uri": "https://localhost:8080/",
     "height": 279
    },
    "colab_type": "code",
    "id": "DVseWTZiSP3y",
    "outputId": "ee168ad4-eb41-44fd-c43c-f60d5724f607"
   },
   "outputs": [
    {
     "data": {
      "image/png": "[encoded data removed]",
      "text/plain": [
       "<Figure size 432x288 with 1 Axes>"
      ]
     },
     "metadata": {
      "needs_background": "light",
      "tags": []
     },
     "output_type": "display_data"
    }
   ],
   "source": [
    "#PDF of FIIncome\n",
    "data_df.plot(y='GrossProfit', kind='hist',legend='True', bins=30,density=True)\n",
    "plt.xlabel('Gross Profit')\n",
    "plt.show()"
   ]
  },
  {
   "cell_type": "markdown",
   "metadata": {
    "colab_type": "text",
    "id": "041323D3KFkY"
   },
   "source": [
    "The overall gross profit lies between -2500 to 5000 with a peak gross profit near to 2500."
   ]
  },
  {
   "cell_type": "code",
   "execution_count": 0,
   "metadata": {
    "colab": {
     "base_uri": "https://localhost:8080/",
     "height": 298
    },
    "colab_type": "code",
    "id": "_EftdbDFZELL",
    "outputId": "b43d28d5-8630-47c9-899a-ff70a97f8622"
   },
   "outputs": [
    {
     "data": {
      "text/plain": [
       "(-5000.0, 10000.0)"
      ]
     },
     "execution_count": 20,
     "metadata": {
      "tags": []
     },
     "output_type": "execute_result"
    },
    {
     "data": {
      "image/png": "[encoded data removed]",
      "text/plain": [
       "<Figure size 720x288 with 2 Axes>"
      ]
     },
     "metadata": {
      "needs_background": "light",
      "tags": []
     },
     "output_type": "display_data"
    }
   ],
   "source": [
    "data_df[numerical].hist(figsize=(10, 4))\n",
    "plt.xlim(-5000,10000)"
   ]
  },
  {
   "cell_type": "code",
   "execution_count": 0,
   "metadata": {
    "colab": {
     "base_uri": "https://localhost:8080/",
     "height": 282
    },
    "colab_type": "code",
    "id": "MF2GwrzeZux4",
    "outputId": "97daf6c9-712a-4f0d-8680-cfd81ad3728d"
   },
   "outputs": [
    {
     "data": {
      "text/plain": [
       "(-5000.0, 10000.0)"
      ]
     },
     "execution_count": 21,
     "metadata": {
      "tags": []
     },
     "output_type": "execute_result"
    },
    {
     "data": {
      "image/png": "[encoded data removed]",
      "text/plain": [
       "<Figure size 720x288 with 2 Axes>"
      ]
     },
     "metadata": {
      "needs_background": "light",
      "tags": []
     },
     "output_type": "display_data"
    }
   ],
   "source": [
    "#Looking into the desity plot for a clearer understanding\n",
    "data_df[numerical].plot(kind='density', subplots=True, layout=(1, 2), \n",
    "                  sharex=False, figsize=(10, 4), legend=True)\n",
    "plt.xlim(-5000,10000)"
   ]
  },
  {
   "cell_type": "code",
   "execution_count": 0,
   "metadata": {
    "colab": {
     "base_uri": "https://localhost:8080/",
     "height": 296
    },
    "colab_type": "code",
    "id": "gz_ETmwnTpKj",
    "outputId": "c822b219-1e7c-467c-82a4-326910dcf6e8"
   },
   "outputs": [
    {
     "data": {
      "text/plain": [
       "(-5000.0, 5000.0)"
      ]
     },
     "execution_count": 22,
     "metadata": {
      "tags": []
     },
     "output_type": "execute_result"
    },
    {
     "data": {
      "image/png": "[encoded data removed]",
      "text/plain": [
       "<Figure size 432x288 with 1 Axes>"
      ]
     },
     "metadata": {
      "needs_background": "light",
      "tags": []
     },
     "output_type": "display_data"
    }
   ],
   "source": [
    "#zooming the plot to have a clearer view\n",
    "#The mean profit range is in between 0 to 2000\n",
    "sns.distplot(data_df['GrossProfit'],10)\n",
    "plt.xlim(-5000,5000)"
   ]
  },
  {
   "cell_type": "markdown",
   "metadata": {
    "colab_type": "text",
    "id": "yQHtyvwE1IAf"
   },
   "source": [
    "***STATISTICAL EDA***"
   ]
  },
  {
   "cell_type": "code",
   "execution_count": 0,
   "metadata": {
    "colab": {
     "base_uri": "https://localhost:8080/",
     "height": 284
    },
    "colab_type": "code",
    "id": "qibyHsbUYJhP",
    "outputId": "3efdddce-8115-49dc-8a95-45aef0d2a187"
   },
   "outputs": [
    {
     "data": {
      "text/html": [
       "<div>\n",
       "<style scoped>\n",
       "    .dataframe tbody tr th:only-of-type {\n",
       "        vertical-align: middle;\n",
       "    }\n",
       "\n",
       "    .dataframe tbody tr th {\n",
       "        vertical-align: top;\n",
       "    }\n",
       "\n",
       "    .dataframe thead th {\n",
       "        text-align: right;\n",
       "    }\n",
       "</style>\n",
       "<table border=\"1\" class=\"dataframe\">\n",
       "  <thead>\n",
       "    <tr style=\"text-align: right;\">\n",
       "      <th></th>\n",
       "      <th>FIIncome</th>\n",
       "      <th>GrossProfit</th>\n",
       "    </tr>\n",
       "  </thead>\n",
       "  <tbody>\n",
       "    <tr>\n",
       "      <th>count</th>\n",
       "      <td>10220.000000</td>\n",
       "      <td>10220.000000</td>\n",
       "    </tr>\n",
       "    <tr>\n",
       "      <th>mean</th>\n",
       "      <td>168.398405</td>\n",
       "      <td>944.330480</td>\n",
       "    </tr>\n",
       "    <tr>\n",
       "      <th>std</th>\n",
       "      <td>387.303131</td>\n",
       "      <td>1151.401907</td>\n",
       "    </tr>\n",
       "    <tr>\n",
       "      <th>min</th>\n",
       "      <td>0.000000</td>\n",
       "      <td>-8923.310000</td>\n",
       "    </tr>\n",
       "    <tr>\n",
       "      <th>25%</th>\n",
       "      <td>0.000000</td>\n",
       "      <td>0.000000</td>\n",
       "    </tr>\n",
       "    <tr>\n",
       "      <th>50%</th>\n",
       "      <td>0.000000</td>\n",
       "      <td>723.620000</td>\n",
       "    </tr>\n",
       "    <tr>\n",
       "      <th>75%</th>\n",
       "      <td>200.000000</td>\n",
       "      <td>1611.217500</td>\n",
       "    </tr>\n",
       "    <tr>\n",
       "      <th>max</th>\n",
       "      <td>24768.680000</td>\n",
       "      <td>18805.000000</td>\n",
       "    </tr>\n",
       "  </tbody>\n",
       "</table>\n",
       "</div>"
      ],
      "text/plain": [
       "           FIIncome   GrossProfit\n",
       "count  10220.000000  10220.000000\n",
       "mean     168.398405    944.330480\n",
       "std      387.303131   1151.401907\n",
       "min        0.000000  -8923.310000\n",
       "25%        0.000000      0.000000\n",
       "50%        0.000000    723.620000\n",
       "75%      200.000000   1611.217500\n",
       "max    24768.680000  18805.000000"
      ]
     },
     "execution_count": 23,
     "metadata": {
      "tags": []
     },
     "output_type": "execute_result"
    }
   ],
   "source": [
    "#Summarizing the numerical values in the dataset\n",
    "data_df1=data_df.drop(['DealNo'],axis=1)\n",
    "data_df1.describe()"
   ]
  },
  {
   "cell_type": "markdown",
   "metadata": {
    "colab_type": "text",
    "id": "Is2n4RtrKgCc"
   },
   "source": [
    "The highest profit achieved is 18805 while the minimum is -8923.31. Gross profit mean lies near to 947. \n"
   ]
  },
  {
   "cell_type": "markdown",
   "metadata": {
    "colab_type": "text",
    "id": "DTjB2Fb7YAoc"
   },
   "source": [
    "## 5. Generate summary statistics about the categorical columns ."
   ]
  },
  {
   "cell_type": "code",
   "execution_count": 0,
   "metadata": {
    "colab": {
     "base_uri": "https://localhost:8080/",
     "height": 185
    },
    "colab_type": "code",
    "id": "G8FQyGcEVkWk",
    "outputId": "7fe064cf-949e-44d9-857c-e37a5292bfa1"
   },
   "outputs": [
    {
     "data": {
      "text/plain": [
       "DealType\n",
       "0                  18\n",
       "Demo               16\n",
       "Lease             915\n",
       "Misc              569\n",
       "New              4081\n",
       "Special Order       3\n",
       "Used             2641\n",
       "Wholesale        1977\n",
       "dtype: int64"
      ]
     },
     "execution_count": 24,
     "metadata": {
      "tags": []
     },
     "output_type": "execute_result"
    }
   ],
   "source": [
    "# Counting it by its category\n",
    "deals_type = data_df.groupby('DealType').size()\n",
    "deals_type"
   ]
  },
  {
   "cell_type": "markdown",
   "metadata": {
    "colab_type": "text",
    "id": "BftLroE-1bOV"
   },
   "source": [
    "***VISUAL EDA***"
   ]
  },
  {
   "cell_type": "code",
   "execution_count": 0,
   "metadata": {
    "colab": {
     "base_uri": "https://localhost:8080/",
     "height": 312
    },
    "colab_type": "code",
    "id": "GoQ8zOUbV50b",
    "outputId": "ef228e96-ea23-4591-d755-0333490d01b8"
   },
   "outputs": [
    {
     "data": {
      "text/plain": [
       "Text(0, 0.5, 'Number of vehicles dealed')"
      ]
     },
     "execution_count": 25,
     "metadata": {
      "tags": []
     },
     "output_type": "execute_result"
    },
    {
     "data": {
      "image/png": "[encoded data removed]",
      "text/plain": [
       "<Figure size 432x288 with 1 Axes>"
      ]
     },
     "metadata": {
      "needs_background": "light",
      "tags": []
     },
     "output_type": "display_data"
    }
   ],
   "source": [
    "deals_type.plot(title = 'Deal Type vs Count')\n",
    "plt.ylabel('Number of vehicles dealed')"
   ]
  },
  {
   "cell_type": "markdown",
   "metadata": {
    "colab_type": "text",
    "id": "VRxhSVdV1hWr"
   },
   "source": [
    "The largest amount of vehicles sold in the given duration was the New one's. While the second largest were the Used one's. Special category vehiles were dealed the minimum. This maybe due the affordibility or the maintenance charges."
   ]
  },
  {
   "cell_type": "code",
   "execution_count": 0,
   "metadata": {
    "colab": {
     "base_uri": "https://localhost:8080/",
     "height": 50
    },
    "colab_type": "code",
    "id": "jmC8WosQcZO0",
    "outputId": "a0788fe5-403f-470d-9893-f899346e7a27"
   },
   "outputs": [
    {
     "data": {
      "text/plain": [
       "array(['New', 'Used', 'Misc', 'Demo', 0, 'Special Order', 'Rental'],\n",
       "      dtype=object)"
      ]
     },
     "execution_count": 26,
     "metadata": {
      "tags": []
     },
     "output_type": "execute_result"
    }
   ],
   "source": [
    "data_df['FIDealType'].unique()"
   ]
  },
  {
   "cell_type": "code",
   "execution_count": 0,
   "metadata": {
    "colab": {
     "base_uri": "https://localhost:8080/",
     "height": 168
    },
    "colab_type": "code",
    "id": "tKNX5EcvdWdd",
    "outputId": "ecfd72d5-ff3c-4a40-b43e-564aa1dd7093"
   },
   "outputs": [
    {
     "data": {
      "text/plain": [
       "FIDealType\n",
       "0                  18\n",
       "Demo               16\n",
       "Misc             1569\n",
       "New              5397\n",
       "Rental              2\n",
       "Special Order       4\n",
       "Used             3214\n",
       "dtype: int64"
      ]
     },
     "execution_count": 27,
     "metadata": {
      "tags": []
     },
     "output_type": "execute_result"
    }
   ],
   "source": [
    "FIdeals_type = data_df.groupby('FIDealType').size()\n",
    "FIdeals_type"
   ]
  },
  {
   "cell_type": "code",
   "execution_count": 0,
   "metadata": {
    "colab": {
     "base_uri": "https://localhost:8080/",
     "height": 296
    },
    "colab_type": "code",
    "id": "DfIRAwnSdvoO",
    "outputId": "e4a6aefa-9c85-40df-c312-ecb89d35b560"
   },
   "outputs": [
    {
     "data": {
      "text/plain": [
       "<matplotlib.axes._subplots.AxesSubplot at 0x7f789e903780>"
      ]
     },
     "execution_count": 28,
     "metadata": {
      "tags": []
     },
     "output_type": "execute_result"
    },
    {
     "data": {
      "image/png": "[encoded data removed]",
      "text/plain": [
       "<Figure size 864x288 with 2 Axes>"
      ]
     },
     "metadata": {
      "needs_background": "light",
      "tags": []
     },
     "output_type": "display_data"
    }
   ],
   "source": [
    "#for comparision between dealtype and FIdeal type.\n",
    "_, axes = plt.subplots(nrows=1, ncols=2, figsize=(12, 4))\n",
    "\n",
    "sns.countplot(x='DealType', data=data_df, ax=axes[0]);\n",
    "sns.countplot(x='FIDealType', data=data_df, ax=axes[1])"
   ]
  },
  {
   "cell_type": "code",
   "execution_count": 0,
   "metadata": {
    "colab": {
     "base_uri": "https://localhost:8080/",
     "height": 34
    },
    "colab_type": "code",
    "id": "kH-PsmXtgHaj",
    "outputId": "c8d97dfb-39fc-45c4-c194-263e8935b821"
   },
   "outputs": [
    {
     "data": {
      "text/plain": [
       "array([nan, 'HOME', 'WORK', 'OTHER', 0], dtype=object)"
      ]
     },
     "execution_count": 29,
     "metadata": {
      "tags": []
     },
     "output_type": "execute_result"
    }
   ],
   "source": [
    "#considering other categorical values\n",
    "data_df['Email1Desc'].unique()"
   ]
  },
  {
   "cell_type": "code",
   "execution_count": 0,
   "metadata": {
    "colab": {
     "base_uri": "https://localhost:8080/",
     "height": 34
    },
    "colab_type": "code",
    "id": "M2_hAig1hUKa",
    "outputId": "1b45de6f-a165-4376-eea8-4118d2498ca9"
   },
   "outputs": [
    {
     "data": {
      "text/plain": [
       "6164"
      ]
     },
     "execution_count": 30,
     "metadata": {
      "tags": []
     },
     "output_type": "execute_result"
    }
   ],
   "source": [
    "data_df['Email1Desc'].isnull().sum()\n",
    "#This has a lot of null values but it wont help in prediction and so can be neglected"
   ]
  },
  {
   "cell_type": "code",
   "execution_count": 0,
   "metadata": {
    "colab": {},
    "colab_type": "code",
    "id": "rUwNk2Zjha_3"
   },
   "outputs": [],
   "source": [
    "#cat value can be replaced with frequently occuring value,i.e. mode\n",
    "data_df['Email1Desc'].fillna(data_df['Email1Desc'].mode()[0],inplace=True)"
   ]
  },
  {
   "cell_type": "code",
   "execution_count": 0,
   "metadata": {
    "colab": {
     "base_uri": "https://localhost:8080/",
     "height": 34
    },
    "colab_type": "code",
    "id": "-cqCo427jmOQ",
    "outputId": "50931c06-2045-4013-9fee-5a623d2549b1"
   },
   "outputs": [
    {
     "data": {
      "text/plain": [
       "0"
      ]
     },
     "execution_count": 32,
     "metadata": {
      "tags": []
     },
     "output_type": "execute_result"
    }
   ],
   "source": [
    "data_df['Email1Desc'].isnull().sum()"
   ]
  },
  {
   "cell_type": "code",
   "execution_count": 0,
   "metadata": {
    "colab": {
     "base_uri": "https://localhost:8080/",
     "height": 50
    },
    "colab_type": "code",
    "id": "hNbaVG_VgUPN",
    "outputId": "1666b51a-30ca-4f2c-d996-5c685836ba7d"
   },
   "outputs": [
    {
     "data": {
      "text/plain": [
       "array(['11/03/1941', '04/04/1953', '24/04/1948', ..., '09/04/1985',\n",
       "       '25/09/1962', '25/10/1965'], dtype=object)"
      ]
     },
     "execution_count": 33,
     "metadata": {
      "tags": []
     },
     "output_type": "execute_result"
    }
   ],
   "source": [
    "data_df['BirthDate'].unique()"
   ]
  },
  {
   "cell_type": "markdown",
   "metadata": {
    "colab_type": "text",
    "id": "M1NLaOmE28GR"
   },
   "source": [
    "## 6. Suggest ways to clean up this dataset (especially which duplicate data to drop, if any) "
   ]
  },
  {
   "cell_type": "code",
   "execution_count": 0,
   "metadata": {
    "colab": {
     "base_uri": "https://localhost:8080/",
     "height": 34
    },
    "colab_type": "code",
    "id": "5UFhEaVBedgy",
    "outputId": "aca54410-b565-43dd-895d-324874633d13"
   },
   "outputs": [
    {
     "data": {
      "text/plain": [
       "(10220, 9)"
      ]
     },
     "execution_count": 34,
     "metadata": {
      "tags": []
     },
     "output_type": "execute_result"
    }
   ],
   "source": [
    "# Drop duplicate \n",
    "data_df.drop_duplicates(keep ='last')\n",
    "data_df.shape\n"
   ]
  },
  {
   "cell_type": "code",
   "execution_count": 0,
   "metadata": {
    "colab": {
     "base_uri": "https://localhost:8080/",
     "height": 34
    },
    "colab_type": "code",
    "id": "kFE4OGligttE",
    "outputId": "84366a51-370c-4b4c-c11f-ea2bdf42bc4c"
   },
   "outputs": [
    {
     "data": {
      "text/plain": [
       "(10220, 9)"
      ]
     },
     "execution_count": 35,
     "metadata": {
      "tags": []
     },
     "output_type": "execute_result"
    }
   ],
   "source": [
    "# Drop duplicate \n",
    "data_df['AccountingDate'].drop_duplicates(keep ='last')\n",
    "data_df.shape\n"
   ]
  },
  {
   "cell_type": "markdown",
   "metadata": {
    "colab_type": "text",
    "id": "Gg8mTVBr3FKI"
   },
   "source": [
    "There are no duplicate values as the shape of the data space remains the same after dropping."
   ]
  },
  {
   "cell_type": "code",
   "execution_count": 0,
   "metadata": {
    "colab": {},
    "colab_type": "code",
    "id": "yfJPMZeifjSg"
   },
   "outputs": [],
   "source": [
    "#Cleaning the data.\n",
    "# Drop columns not used or not useful\n",
    "# DOB can be used if we want to find age group buying vehicles\n",
    "#Also some of the null values and outliers are to be taken care of which is done in the next section.\n",
    "\n",
    "data_df2=data_df.drop(['Email1Desc','FIIncome', 'FiWipStatusCode'],axis=1)"
   ]
  },
  {
   "cell_type": "markdown",
   "metadata": {
    "colab_type": "text",
    "id": "3yoxuDB0ma4J"
   },
   "source": [
    "## 7. Use the lookup_df to generate a new column in data_df called “SaleType_Clean” based on values in the DealType and FIDealType column "
   ]
  },
  {
   "cell_type": "code",
   "execution_count": 0,
   "metadata": {
    "colab": {
     "base_uri": "https://localhost:8080/",
     "height": 34
    },
    "colab_type": "code",
    "id": "n0CuLcLzo4hR",
    "outputId": "c5ae230c-1487-448e-c9aa-dcb4b3712617"
   },
   "outputs": [
    {
     "data": {
      "text/plain": [
       "Index(['DealType', 'FIDealType', 'Sale Type'], dtype='object')"
      ]
     },
     "execution_count": 37,
     "metadata": {
      "tags": []
     },
     "output_type": "execute_result"
    }
   ],
   "source": [
    "lookup_df.columns\n"
   ]
  },
  {
   "cell_type": "code",
   "execution_count": 0,
   "metadata": {
    "colab": {
     "base_uri": "https://localhost:8080/",
     "height": 402
    },
    "colab_type": "code",
    "id": "0hMGIN38vUKf",
    "outputId": "1ffc9bb5-e178-4263-d73f-d02b9a8ab8a7"
   },
   "outputs": [
    {
     "data": {
      "text/html": [
       "<div>\n",
       "<style scoped>\n",
       "    .dataframe tbody tr th:only-of-type {\n",
       "        vertical-align: middle;\n",
       "    }\n",
       "\n",
       "    .dataframe tbody tr th {\n",
       "        vertical-align: top;\n",
       "    }\n",
       "\n",
       "    .dataframe thead th {\n",
       "        text-align: right;\n",
       "    }\n",
       "</style>\n",
       "<table border=\"1\" class=\"dataframe\">\n",
       "  <thead>\n",
       "    <tr style=\"text-align: right;\">\n",
       "      <th></th>\n",
       "      <th>AccountingDate</th>\n",
       "      <th>BirthDate</th>\n",
       "      <th>DealNo</th>\n",
       "      <th>DealType</th>\n",
       "      <th>FIDealType</th>\n",
       "      <th>GrossProfit</th>\n",
       "      <th>SaleType_Clean</th>\n",
       "    </tr>\n",
       "  </thead>\n",
       "  <tbody>\n",
       "    <tr>\n",
       "      <th>0</th>\n",
       "      <td>17/03/2012</td>\n",
       "      <td>11/03/1941</td>\n",
       "      <td>64311</td>\n",
       "      <td>New</td>\n",
       "      <td>New</td>\n",
       "      <td>1314.73</td>\n",
       "      <td>New</td>\n",
       "    </tr>\n",
       "    <tr>\n",
       "      <th>1</th>\n",
       "      <td>30/10/2014</td>\n",
       "      <td>04/04/1953</td>\n",
       "      <td>87150</td>\n",
       "      <td>New</td>\n",
       "      <td>New</td>\n",
       "      <td>1641.55</td>\n",
       "      <td>New</td>\n",
       "    </tr>\n",
       "    <tr>\n",
       "      <th>2</th>\n",
       "      <td>07/06/2012</td>\n",
       "      <td>24/04/1948</td>\n",
       "      <td>66628</td>\n",
       "      <td>New</td>\n",
       "      <td>New</td>\n",
       "      <td>425.66</td>\n",
       "      <td>New</td>\n",
       "    </tr>\n",
       "    <tr>\n",
       "      <th>3</th>\n",
       "      <td>13/11/2009</td>\n",
       "      <td>24/05/1925</td>\n",
       "      <td>46106</td>\n",
       "      <td>New</td>\n",
       "      <td>New</td>\n",
       "      <td>4032.21</td>\n",
       "      <td>New</td>\n",
       "    </tr>\n",
       "    <tr>\n",
       "      <th>4</th>\n",
       "      <td>31/08/2006</td>\n",
       "      <td>12/06/1958</td>\n",
       "      <td>25584</td>\n",
       "      <td>Used</td>\n",
       "      <td>Used</td>\n",
       "      <td>-369.10</td>\n",
       "      <td>Used</td>\n",
       "    </tr>\n",
       "    <tr>\n",
       "      <th>...</th>\n",
       "      <td>...</td>\n",
       "      <td>...</td>\n",
       "      <td>...</td>\n",
       "      <td>...</td>\n",
       "      <td>...</td>\n",
       "      <td>...</td>\n",
       "      <td>...</td>\n",
       "    </tr>\n",
       "    <tr>\n",
       "      <th>10215</th>\n",
       "      <td>05/05/2014</td>\n",
       "      <td>NaN</td>\n",
       "      <td>82974</td>\n",
       "      <td>Wholesale</td>\n",
       "      <td>New</td>\n",
       "      <td>0.00</td>\n",
       "      <td>Wholesale</td>\n",
       "    </tr>\n",
       "    <tr>\n",
       "      <th>10216</th>\n",
       "      <td>26/12/2011</td>\n",
       "      <td>09/04/1985</td>\n",
       "      <td>62452</td>\n",
       "      <td>New</td>\n",
       "      <td>New</td>\n",
       "      <td>1158.69</td>\n",
       "      <td>New</td>\n",
       "    </tr>\n",
       "    <tr>\n",
       "      <th>10217</th>\n",
       "      <td>08/05/2017</td>\n",
       "      <td>25/09/1962</td>\n",
       "      <td>107300</td>\n",
       "      <td>Lease</td>\n",
       "      <td>New</td>\n",
       "      <td>296.69</td>\n",
       "      <td>New</td>\n",
       "    </tr>\n",
       "    <tr>\n",
       "      <th>10218</th>\n",
       "      <td>31/05/2006</td>\n",
       "      <td>09/10/1985</td>\n",
       "      <td>23725</td>\n",
       "      <td>Used</td>\n",
       "      <td>Used</td>\n",
       "      <td>2640.45</td>\n",
       "      <td>Used</td>\n",
       "    </tr>\n",
       "    <tr>\n",
       "      <th>10219</th>\n",
       "      <td>11/10/2006</td>\n",
       "      <td>25/10/1965</td>\n",
       "      <td>26042</td>\n",
       "      <td>New</td>\n",
       "      <td>New</td>\n",
       "      <td>2354.55</td>\n",
       "      <td>New</td>\n",
       "    </tr>\n",
       "  </tbody>\n",
       "</table>\n",
       "<p>10220 rows × 7 columns</p>\n",
       "</div>"
      ],
      "text/plain": [
       "      AccountingDate   BirthDate  DealNo  ... FIDealType GrossProfit  SaleType_Clean\n",
       "0         17/03/2012  11/03/1941   64311  ...        New     1314.73             New\n",
       "1         30/10/2014  04/04/1953   87150  ...        New     1641.55             New\n",
       "2         07/06/2012  24/04/1948   66628  ...        New      425.66             New\n",
       "3         13/11/2009  24/05/1925   46106  ...        New     4032.21             New\n",
       "4         31/08/2006  12/06/1958   25584  ...       Used     -369.10            Used\n",
       "...              ...         ...     ...  ...        ...         ...             ...\n",
       "10215     05/05/2014         NaN   82974  ...        New        0.00       Wholesale\n",
       "10216     26/12/2011  09/04/1985   62452  ...        New     1158.69             New\n",
       "10217     08/05/2017  25/09/1962  107300  ...        New      296.69             New\n",
       "10218     31/05/2006  09/10/1985   23725  ...       Used     2640.45            Used\n",
       "10219     11/10/2006  25/10/1965   26042  ...        New     2354.55             New\n",
       "\n",
       "[10220 rows x 7 columns]"
      ]
     },
     "execution_count": 38,
     "metadata": {
      "tags": []
     },
     "output_type": "execute_result"
    }
   ],
   "source": [
    "#Merging the new dataset with the existing one and renaming\n",
    "data_df2=data_df2.merge(lookup_df,how='left')\n",
    "data_df2 = data_df2.rename({'Sale Type': 'SaleType_Clean'}, axis=1)  \n",
    "data_df2"
   ]
  },
  {
   "cell_type": "markdown",
   "metadata": {
    "colab_type": "text",
    "id": "O626--ay33dH"
   },
   "source": [
    "## 8. Create a new column to get the age group of the buyer (to do a cohort analysis): \n",
    "* Use the date of birth column and use today’s date to calculate the Buyer age.\n",
    "* Bin the ages into the following age buckets: \n",
    "\n",
    "i. Below 25 \n",
    "\n",
    "ii. 25 – 34 \n",
    "\n",
    "iii. 34 – 50 \n",
    "\n",
    "iv. 50+ "
   ]
  },
  {
   "cell_type": "code",
   "execution_count": 0,
   "metadata": {
    "colab": {
     "base_uri": "https://localhost:8080/",
     "height": 402
    },
    "colab_type": "code",
    "id": "IEhPKWp7xZKO",
    "outputId": "76833641-ef4c-47a4-8fcf-f6c93bad057e"
   },
   "outputs": [
    {
     "data": {
      "text/html": [
       "<div>\n",
       "<style scoped>\n",
       "    .dataframe tbody tr th:only-of-type {\n",
       "        vertical-align: middle;\n",
       "    }\n",
       "\n",
       "    .dataframe tbody tr th {\n",
       "        vertical-align: top;\n",
       "    }\n",
       "\n",
       "    .dataframe thead th {\n",
       "        text-align: right;\n",
       "    }\n",
       "</style>\n",
       "<table border=\"1\" class=\"dataframe\">\n",
       "  <thead>\n",
       "    <tr style=\"text-align: right;\">\n",
       "      <th></th>\n",
       "      <th>AccountingDate</th>\n",
       "      <th>BirthDate</th>\n",
       "      <th>DealNo</th>\n",
       "      <th>DealType</th>\n",
       "      <th>FIDealType</th>\n",
       "      <th>GrossProfit</th>\n",
       "      <th>SaleType_Clean</th>\n",
       "      <th>Aging</th>\n",
       "    </tr>\n",
       "  </thead>\n",
       "  <tbody>\n",
       "    <tr>\n",
       "      <th>0</th>\n",
       "      <td>2012-03-17</td>\n",
       "      <td>1941-11-03</td>\n",
       "      <td>64311</td>\n",
       "      <td>New</td>\n",
       "      <td>New</td>\n",
       "      <td>1314.73</td>\n",
       "      <td>New</td>\n",
       "      <td>25702 days</td>\n",
       "    </tr>\n",
       "    <tr>\n",
       "      <th>1</th>\n",
       "      <td>2014-10-30</td>\n",
       "      <td>1953-04-04</td>\n",
       "      <td>87150</td>\n",
       "      <td>New</td>\n",
       "      <td>New</td>\n",
       "      <td>1641.55</td>\n",
       "      <td>New</td>\n",
       "      <td>22489 days</td>\n",
       "    </tr>\n",
       "    <tr>\n",
       "      <th>2</th>\n",
       "      <td>2012-07-06</td>\n",
       "      <td>1948-04-24</td>\n",
       "      <td>66628</td>\n",
       "      <td>New</td>\n",
       "      <td>New</td>\n",
       "      <td>425.66</td>\n",
       "      <td>New</td>\n",
       "      <td>23449 days</td>\n",
       "    </tr>\n",
       "    <tr>\n",
       "      <th>3</th>\n",
       "      <td>2009-11-13</td>\n",
       "      <td>1925-05-24</td>\n",
       "      <td>46106</td>\n",
       "      <td>New</td>\n",
       "      <td>New</td>\n",
       "      <td>4032.21</td>\n",
       "      <td>New</td>\n",
       "      <td>30854 days</td>\n",
       "    </tr>\n",
       "    <tr>\n",
       "      <th>4</th>\n",
       "      <td>2006-08-31</td>\n",
       "      <td>1958-12-06</td>\n",
       "      <td>25584</td>\n",
       "      <td>Used</td>\n",
       "      <td>Used</td>\n",
       "      <td>-369.10</td>\n",
       "      <td>Used</td>\n",
       "      <td>17435 days</td>\n",
       "    </tr>\n",
       "    <tr>\n",
       "      <th>...</th>\n",
       "      <td>...</td>\n",
       "      <td>...</td>\n",
       "      <td>...</td>\n",
       "      <td>...</td>\n",
       "      <td>...</td>\n",
       "      <td>...</td>\n",
       "      <td>...</td>\n",
       "      <td>...</td>\n",
       "    </tr>\n",
       "    <tr>\n",
       "      <th>10215</th>\n",
       "      <td>2014-05-05</td>\n",
       "      <td>NaT</td>\n",
       "      <td>82974</td>\n",
       "      <td>Wholesale</td>\n",
       "      <td>New</td>\n",
       "      <td>0.00</td>\n",
       "      <td>Wholesale</td>\n",
       "      <td>NaT</td>\n",
       "    </tr>\n",
       "    <tr>\n",
       "      <th>10216</th>\n",
       "      <td>2011-12-26</td>\n",
       "      <td>1985-09-04</td>\n",
       "      <td>62452</td>\n",
       "      <td>New</td>\n",
       "      <td>New</td>\n",
       "      <td>1158.69</td>\n",
       "      <td>New</td>\n",
       "      <td>9609 days</td>\n",
       "    </tr>\n",
       "    <tr>\n",
       "      <th>10217</th>\n",
       "      <td>2017-08-05</td>\n",
       "      <td>1962-09-25</td>\n",
       "      <td>107300</td>\n",
       "      <td>Lease</td>\n",
       "      <td>New</td>\n",
       "      <td>296.69</td>\n",
       "      <td>New</td>\n",
       "      <td>20038 days</td>\n",
       "    </tr>\n",
       "    <tr>\n",
       "      <th>10218</th>\n",
       "      <td>2006-05-31</td>\n",
       "      <td>1985-09-10</td>\n",
       "      <td>23725</td>\n",
       "      <td>Used</td>\n",
       "      <td>Used</td>\n",
       "      <td>2640.45</td>\n",
       "      <td>Used</td>\n",
       "      <td>7568 days</td>\n",
       "    </tr>\n",
       "    <tr>\n",
       "      <th>10219</th>\n",
       "      <td>2006-11-10</td>\n",
       "      <td>1965-10-25</td>\n",
       "      <td>26042</td>\n",
       "      <td>New</td>\n",
       "      <td>New</td>\n",
       "      <td>2354.55</td>\n",
       "      <td>New</td>\n",
       "      <td>14991 days</td>\n",
       "    </tr>\n",
       "  </tbody>\n",
       "</table>\n",
       "<p>10220 rows × 8 columns</p>\n",
       "</div>"
      ],
      "text/plain": [
       "      AccountingDate  BirthDate  DealNo  ... GrossProfit SaleType_Clean      Aging\n",
       "0         2012-03-17 1941-11-03   64311  ...     1314.73            New 25702 days\n",
       "1         2014-10-30 1953-04-04   87150  ...     1641.55            New 22489 days\n",
       "2         2012-07-06 1948-04-24   66628  ...      425.66            New 23449 days\n",
       "3         2009-11-13 1925-05-24   46106  ...     4032.21            New 30854 days\n",
       "4         2006-08-31 1958-12-06   25584  ...     -369.10           Used 17435 days\n",
       "...              ...        ...     ...  ...         ...            ...        ...\n",
       "10215     2014-05-05        NaT   82974  ...        0.00      Wholesale        NaT\n",
       "10216     2011-12-26 1985-09-04   62452  ...     1158.69            New  9609 days\n",
       "10217     2017-08-05 1962-09-25  107300  ...      296.69            New 20038 days\n",
       "10218     2006-05-31 1985-09-10   23725  ...     2640.45           Used  7568 days\n",
       "10219     2006-11-10 1965-10-25   26042  ...     2354.55            New 14991 days\n",
       "\n",
       "[10220 rows x 8 columns]"
      ]
     },
     "execution_count": 39,
     "metadata": {
      "tags": []
     },
     "output_type": "execute_result"
    }
   ],
   "source": [
    "#categorising by age by creating one more column.\n",
    "\n",
    "data_df2['BirthDate'] = pd.to_datetime(data_df2['BirthDate'])\n",
    "data_df2['AccountingDate'] = pd.to_datetime(data_df2['AccountingDate'])\n",
    "#data_df2['Aging'] = (data_df2['BirthDate'].rsub(today, axis=0).dt.days)\n",
    "data_df2['Aging'] =data_df2['AccountingDate']-data_df2['BirthDate']\n",
    "data_df2"
   ]
  },
  {
   "cell_type": "code",
   "execution_count": 0,
   "metadata": {
    "colab": {
     "base_uri": "https://localhost:8080/",
     "height": 218
    },
    "colab_type": "code",
    "id": "6XxJJxEE32Km",
    "outputId": "34b4689d-fbe7-4b07-9e18-6c5f54ad0d88"
   },
   "outputs": [
    {
     "data": {
      "text/plain": [
       "0       25702 days\n",
       "1       22489 days\n",
       "2       23449 days\n",
       "3       30854 days\n",
       "4       17435 days\n",
       "           ...    \n",
       "10215          NaT\n",
       "10216    9609 days\n",
       "10217   20038 days\n",
       "10218    7568 days\n",
       "10219   14991 days\n",
       "Name: Aging, Length: 10220, dtype: timedelta64[ns]"
      ]
     },
     "execution_count": 40,
     "metadata": {
      "tags": []
     },
     "output_type": "execute_result"
    }
   ],
   "source": [
    "#type(data_df2['Aging'])\n",
    "data_df2['Aging']"
   ]
  },
  {
   "cell_type": "code",
   "execution_count": 0,
   "metadata": {
    "colab": {},
    "colab_type": "code",
    "id": "q2z3O27yx0kQ"
   },
   "outputs": [],
   "source": [
    "#Converting the age to years\n",
    "data_df2['Aging']=data_df2['Aging']/ np.timedelta64(1, 'Y')"
   ]
  },
  {
   "cell_type": "code",
   "execution_count": 0,
   "metadata": {
    "colab": {
     "base_uri": "https://localhost:8080/",
     "height": 402
    },
    "colab_type": "code",
    "id": "LMzawKuwyyeG",
    "outputId": "0f902129-e3fd-4dcb-9c5e-0b5248c4d523"
   },
   "outputs": [
    {
     "data": {
      "text/html": [
       "<div>\n",
       "<style scoped>\n",
       "    .dataframe tbody tr th:only-of-type {\n",
       "        vertical-align: middle;\n",
       "    }\n",
       "\n",
       "    .dataframe tbody tr th {\n",
       "        vertical-align: top;\n",
       "    }\n",
       "\n",
       "    .dataframe thead th {\n",
       "        text-align: right;\n",
       "    }\n",
       "</style>\n",
       "<table border=\"1\" class=\"dataframe\">\n",
       "  <thead>\n",
       "    <tr style=\"text-align: right;\">\n",
       "      <th></th>\n",
       "      <th>AccountingDate</th>\n",
       "      <th>BirthDate</th>\n",
       "      <th>DealNo</th>\n",
       "      <th>DealType</th>\n",
       "      <th>FIDealType</th>\n",
       "      <th>GrossProfit</th>\n",
       "      <th>SaleType_Clean</th>\n",
       "      <th>Aging</th>\n",
       "    </tr>\n",
       "  </thead>\n",
       "  <tbody>\n",
       "    <tr>\n",
       "      <th>0</th>\n",
       "      <td>2012-03-17</td>\n",
       "      <td>1941-11-03</td>\n",
       "      <td>64311</td>\n",
       "      <td>New</td>\n",
       "      <td>New</td>\n",
       "      <td>1314.73</td>\n",
       "      <td>New</td>\n",
       "      <td>70.369686</td>\n",
       "    </tr>\n",
       "    <tr>\n",
       "      <th>1</th>\n",
       "      <td>2014-10-30</td>\n",
       "      <td>1953-04-04</td>\n",
       "      <td>87150</td>\n",
       "      <td>New</td>\n",
       "      <td>New</td>\n",
       "      <td>1641.55</td>\n",
       "      <td>New</td>\n",
       "      <td>61.572791</td>\n",
       "    </tr>\n",
       "    <tr>\n",
       "      <th>2</th>\n",
       "      <td>2012-07-06</td>\n",
       "      <td>1948-04-24</td>\n",
       "      <td>66628</td>\n",
       "      <td>New</td>\n",
       "      <td>New</td>\n",
       "      <td>425.66</td>\n",
       "      <td>New</td>\n",
       "      <td>64.201181</td>\n",
       "    </tr>\n",
       "    <tr>\n",
       "      <th>3</th>\n",
       "      <td>2009-11-13</td>\n",
       "      <td>1925-05-24</td>\n",
       "      <td>46106</td>\n",
       "      <td>New</td>\n",
       "      <td>New</td>\n",
       "      <td>4032.21</td>\n",
       "      <td>New</td>\n",
       "      <td>84.475383</td>\n",
       "    </tr>\n",
       "    <tr>\n",
       "      <th>4</th>\n",
       "      <td>2006-08-31</td>\n",
       "      <td>1958-12-06</td>\n",
       "      <td>25584</td>\n",
       "      <td>Used</td>\n",
       "      <td>Used</td>\n",
       "      <td>-369.10</td>\n",
       "      <td>Used</td>\n",
       "      <td>47.735409</td>\n",
       "    </tr>\n",
       "    <tr>\n",
       "      <th>...</th>\n",
       "      <td>...</td>\n",
       "      <td>...</td>\n",
       "      <td>...</td>\n",
       "      <td>...</td>\n",
       "      <td>...</td>\n",
       "      <td>...</td>\n",
       "      <td>...</td>\n",
       "      <td>...</td>\n",
       "    </tr>\n",
       "    <tr>\n",
       "      <th>10215</th>\n",
       "      <td>2014-05-05</td>\n",
       "      <td>NaT</td>\n",
       "      <td>82974</td>\n",
       "      <td>Wholesale</td>\n",
       "      <td>New</td>\n",
       "      <td>0.00</td>\n",
       "      <td>Wholesale</td>\n",
       "      <td>NaN</td>\n",
       "    </tr>\n",
       "    <tr>\n",
       "      <th>10216</th>\n",
       "      <td>2011-12-26</td>\n",
       "      <td>1985-09-04</td>\n",
       "      <td>62452</td>\n",
       "      <td>New</td>\n",
       "      <td>New</td>\n",
       "      <td>1158.69</td>\n",
       "      <td>New</td>\n",
       "      <td>26.308548</td>\n",
       "    </tr>\n",
       "    <tr>\n",
       "      <th>10217</th>\n",
       "      <td>2017-08-05</td>\n",
       "      <td>1962-09-25</td>\n",
       "      <td>107300</td>\n",
       "      <td>Lease</td>\n",
       "      <td>New</td>\n",
       "      <td>296.69</td>\n",
       "      <td>New</td>\n",
       "      <td>54.862181</td>\n",
       "    </tr>\n",
       "    <tr>\n",
       "      <th>10218</th>\n",
       "      <td>2006-05-31</td>\n",
       "      <td>1985-09-10</td>\n",
       "      <td>23725</td>\n",
       "      <td>Used</td>\n",
       "      <td>Used</td>\n",
       "      <td>2640.45</td>\n",
       "      <td>Used</td>\n",
       "      <td>20.720480</td>\n",
       "    </tr>\n",
       "    <tr>\n",
       "      <th>10219</th>\n",
       "      <td>2006-11-10</td>\n",
       "      <td>1965-10-25</td>\n",
       "      <td>26042</td>\n",
       "      <td>New</td>\n",
       "      <td>New</td>\n",
       "      <td>2354.55</td>\n",
       "      <td>New</td>\n",
       "      <td>41.043964</td>\n",
       "    </tr>\n",
       "  </tbody>\n",
       "</table>\n",
       "<p>10220 rows × 8 columns</p>\n",
       "</div>"
      ],
      "text/plain": [
       "      AccountingDate  BirthDate  DealNo  ... GrossProfit SaleType_Clean      Aging\n",
       "0         2012-03-17 1941-11-03   64311  ...     1314.73            New  70.369686\n",
       "1         2014-10-30 1953-04-04   87150  ...     1641.55            New  61.572791\n",
       "2         2012-07-06 1948-04-24   66628  ...      425.66            New  64.201181\n",
       "3         2009-11-13 1925-05-24   46106  ...     4032.21            New  84.475383\n",
       "4         2006-08-31 1958-12-06   25584  ...     -369.10           Used  47.735409\n",
       "...              ...        ...     ...  ...         ...            ...        ...\n",
       "10215     2014-05-05        NaT   82974  ...        0.00      Wholesale        NaN\n",
       "10216     2011-12-26 1985-09-04   62452  ...     1158.69            New  26.308548\n",
       "10217     2017-08-05 1962-09-25  107300  ...      296.69            New  54.862181\n",
       "10218     2006-05-31 1985-09-10   23725  ...     2640.45           Used  20.720480\n",
       "10219     2006-11-10 1965-10-25   26042  ...     2354.55            New  41.043964\n",
       "\n",
       "[10220 rows x 8 columns]"
      ]
     },
     "execution_count": 42,
     "metadata": {
      "tags": []
     },
     "output_type": "execute_result"
    }
   ],
   "source": [
    "data_df2"
   ]
  },
  {
   "cell_type": "code",
   "execution_count": 0,
   "metadata": {
    "colab": {},
    "colab_type": "code",
    "id": "GN_N6zyI0ulw"
   },
   "outputs": [],
   "source": [
    "\n",
    "cat1= data_df2[data_df2['Aging']<25]\n",
    "cat2= data_df2[(data_df2['Aging']<34) & (data_df2['Aging']>25)]\n",
    "cat3= data_df2[(data_df2['Aging']<50) & (data_df2['Aging']>34)]\n",
    "cat4= data_df2[data_df2['Aging']>50]\n"
   ]
  },
  {
   "cell_type": "code",
   "execution_count": 0,
   "metadata": {
    "colab": {
     "base_uri": "https://localhost:8080/",
     "height": 343
    },
    "colab_type": "code",
    "id": "D-fDTpj73TKC",
    "outputId": "2af1c75d-4153-4c18-9390-38a38ea19a44"
   },
   "outputs": [
    {
     "data": {
      "text/html": [
       "<div>\n",
       "<style scoped>\n",
       "    .dataframe tbody tr th:only-of-type {\n",
       "        vertical-align: middle;\n",
       "    }\n",
       "\n",
       "    .dataframe tbody tr th {\n",
       "        vertical-align: top;\n",
       "    }\n",
       "\n",
       "    .dataframe thead th {\n",
       "        text-align: right;\n",
       "    }\n",
       "</style>\n",
       "<table border=\"1\" class=\"dataframe\">\n",
       "  <thead>\n",
       "    <tr style=\"text-align: right;\">\n",
       "      <th></th>\n",
       "      <th>AccountingDate</th>\n",
       "      <th>BirthDate</th>\n",
       "      <th>DealNo</th>\n",
       "      <th>DealType</th>\n",
       "      <th>FIDealType</th>\n",
       "      <th>GrossProfit</th>\n",
       "      <th>SaleType_Clean</th>\n",
       "      <th>Aging</th>\n",
       "    </tr>\n",
       "  </thead>\n",
       "  <tbody>\n",
       "    <tr>\n",
       "      <th>7058</th>\n",
       "      <td>2006-05-25</td>\n",
       "      <td>1981-05-25</td>\n",
       "      <td>23646</td>\n",
       "      <td>New</td>\n",
       "      <td>New</td>\n",
       "      <td>818.42</td>\n",
       "      <td>New</td>\n",
       "      <td>24.999829</td>\n",
       "    </tr>\n",
       "    <tr>\n",
       "      <th>4239</th>\n",
       "      <td>2016-04-04</td>\n",
       "      <td>1991-04-06</td>\n",
       "      <td>98432</td>\n",
       "      <td>Used</td>\n",
       "      <td>Used</td>\n",
       "      <td>-204.44</td>\n",
       "      <td>Used</td>\n",
       "      <td>24.997091</td>\n",
       "    </tr>\n",
       "    <tr>\n",
       "      <th>880</th>\n",
       "      <td>2016-09-27</td>\n",
       "      <td>1991-10-06</td>\n",
       "      <td>102545</td>\n",
       "      <td>New</td>\n",
       "      <td>New</td>\n",
       "      <td>893.90</td>\n",
       "      <td>New</td>\n",
       "      <td>24.977926</td>\n",
       "    </tr>\n",
       "    <tr>\n",
       "      <th>2246</th>\n",
       "      <td>2007-08-09</td>\n",
       "      <td>1982-08-20</td>\n",
       "      <td>33212</td>\n",
       "      <td>New</td>\n",
       "      <td>New</td>\n",
       "      <td>964.73</td>\n",
       "      <td>New</td>\n",
       "      <td>24.969712</td>\n",
       "    </tr>\n",
       "    <tr>\n",
       "      <th>638</th>\n",
       "      <td>2016-02-16</td>\n",
       "      <td>1991-02-28</td>\n",
       "      <td>97415</td>\n",
       "      <td>Lease</td>\n",
       "      <td>New</td>\n",
       "      <td>1329.20</td>\n",
       "      <td>New</td>\n",
       "      <td>24.966974</td>\n",
       "    </tr>\n",
       "    <tr>\n",
       "      <th>8481</th>\n",
       "      <td>2012-04-26</td>\n",
       "      <td>1987-05-16</td>\n",
       "      <td>65419</td>\n",
       "      <td>Used</td>\n",
       "      <td>Used</td>\n",
       "      <td>495.00</td>\n",
       "      <td>Used</td>\n",
       "      <td>24.947809</td>\n",
       "    </tr>\n",
       "    <tr>\n",
       "      <th>4497</th>\n",
       "      <td>2009-02-01</td>\n",
       "      <td>1984-02-26</td>\n",
       "      <td>40840</td>\n",
       "      <td>New</td>\n",
       "      <td>New</td>\n",
       "      <td>1071.26</td>\n",
       "      <td>New</td>\n",
       "      <td>24.934119</td>\n",
       "    </tr>\n",
       "    <tr>\n",
       "      <th>5482</th>\n",
       "      <td>2013-05-07</td>\n",
       "      <td>1988-05-31</td>\n",
       "      <td>76264</td>\n",
       "      <td>Lease</td>\n",
       "      <td>New</td>\n",
       "      <td>764.47</td>\n",
       "      <td>New</td>\n",
       "      <td>24.934119</td>\n",
       "    </tr>\n",
       "    <tr>\n",
       "      <th>6116</th>\n",
       "      <td>2007-05-10</td>\n",
       "      <td>1982-06-08</td>\n",
       "      <td>33569</td>\n",
       "      <td>Used</td>\n",
       "      <td>Used</td>\n",
       "      <td>611.35</td>\n",
       "      <td>Used</td>\n",
       "      <td>24.920430</td>\n",
       "    </tr>\n",
       "    <tr>\n",
       "      <th>7328</th>\n",
       "      <td>2005-12-30</td>\n",
       "      <td>1981-01-30</td>\n",
       "      <td>21000</td>\n",
       "      <td>Used</td>\n",
       "      <td>Used</td>\n",
       "      <td>1814.71</td>\n",
       "      <td>Used</td>\n",
       "      <td>24.914954</td>\n",
       "    </tr>\n",
       "  </tbody>\n",
       "</table>\n",
       "</div>"
      ],
      "text/plain": [
       "     AccountingDate  BirthDate  DealNo  ... GrossProfit SaleType_Clean      Aging\n",
       "7058     2006-05-25 1981-05-25   23646  ...      818.42            New  24.999829\n",
       "4239     2016-04-04 1991-04-06   98432  ...     -204.44           Used  24.997091\n",
       "880      2016-09-27 1991-10-06  102545  ...      893.90            New  24.977926\n",
       "2246     2007-08-09 1982-08-20   33212  ...      964.73            New  24.969712\n",
       "638      2016-02-16 1991-02-28   97415  ...     1329.20            New  24.966974\n",
       "8481     2012-04-26 1987-05-16   65419  ...      495.00           Used  24.947809\n",
       "4497     2009-02-01 1984-02-26   40840  ...     1071.26            New  24.934119\n",
       "5482     2013-05-07 1988-05-31   76264  ...      764.47            New  24.934119\n",
       "6116     2007-05-10 1982-06-08   33569  ...      611.35           Used  24.920430\n",
       "7328     2005-12-30 1981-01-30   21000  ...     1814.71           Used  24.914954\n",
       "\n",
       "[10 rows x 8 columns]"
      ]
     },
     "execution_count": 44,
     "metadata": {
      "tags": []
     },
     "output_type": "execute_result"
    }
   ],
   "source": [
    "data_df2[(data_df2['Aging'] < 25)].sort_values('Aging', ascending = False).head(10)"
   ]
  },
  {
   "cell_type": "code",
   "execution_count": 0,
   "metadata": {
    "colab": {
     "base_uri": "https://localhost:8080/",
     "height": 168
    },
    "colab_type": "code",
    "id": "gRHjpXyhzJLf",
    "outputId": "ec797e3e-a7a9-4ab9-b774-e97678e49143"
   },
   "outputs": [
    {
     "data": {
      "text/plain": [
       "AccountingDate    530\n",
       "BirthDate         530\n",
       "DealNo            530\n",
       "DealType          530\n",
       "FIDealType        530\n",
       "GrossProfit       530\n",
       "SaleType_Clean    512\n",
       "Aging             530\n",
       "dtype: int64"
      ]
     },
     "execution_count": 45,
     "metadata": {
      "tags": []
     },
     "output_type": "execute_result"
    }
   ],
   "source": [
    "data_df2[(data_df2['Aging'] < 25)].sort_values('Aging', ascending = False).count()"
   ]
  },
  {
   "cell_type": "code",
   "execution_count": 0,
   "metadata": {
    "colab": {
     "base_uri": "https://localhost:8080/",
     "height": 151
    },
    "colab_type": "code",
    "id": "7hKbi_eQ4rBn",
    "outputId": "6bae42e5-2892-4abd-db84-9efccdd1f00b"
   },
   "outputs": [
    {
     "data": {
      "text/plain": [
       "BirthDate         1169\n",
       "DealNo            1169\n",
       "DealType          1169\n",
       "FIDealType        1169\n",
       "GrossProfit       1169\n",
       "SaleType_Clean    1169\n",
       "Aging             1169\n",
       "dtype: int64"
      ]
     },
     "execution_count": 83,
     "metadata": {
      "tags": []
     },
     "output_type": "execute_result"
    }
   ],
   "source": [
    "data_df2[(data_df2['Aging']<34) & (data_df2['Aging']>25)].sort_values('Aging', ascending = False).count()"
   ]
  },
  {
   "cell_type": "code",
   "execution_count": 0,
   "metadata": {
    "colab": {
     "base_uri": "https://localhost:8080/",
     "height": 151
    },
    "colab_type": "code",
    "id": "v2lrQDxg45Z8",
    "outputId": "70a4806e-5ab6-4d94-e7a3-af1fb85d064a"
   },
   "outputs": [
    {
     "data": {
      "text/plain": [
       "BirthDate         2398\n",
       "DealNo            2398\n",
       "DealType          2398\n",
       "FIDealType        2398\n",
       "GrossProfit       2398\n",
       "SaleType_Clean    2398\n",
       "Aging             2398\n",
       "dtype: int64"
      ]
     },
     "execution_count": 84,
     "metadata": {
      "tags": []
     },
     "output_type": "execute_result"
    }
   ],
   "source": [
    "data_df2[(data_df2['Aging']<50) & (data_df2['Aging']>34)].sort_values('Aging', ascending = False).count()"
   ]
  },
  {
   "cell_type": "code",
   "execution_count": 0,
   "metadata": {
    "colab": {
     "base_uri": "https://localhost:8080/",
     "height": 151
    },
    "colab_type": "code",
    "id": "u9n3J6Wo5F25",
    "outputId": "16f33b38-51e9-49c2-88f3-2be35d268d5e"
   },
   "outputs": [
    {
     "data": {
      "text/plain": [
       "BirthDate         3342\n",
       "DealNo            3342\n",
       "DealType          3342\n",
       "FIDealType        3342\n",
       "GrossProfit       3342\n",
       "SaleType_Clean    3342\n",
       "Aging             3342\n",
       "dtype: int64"
      ]
     },
     "execution_count": 85,
     "metadata": {
      "tags": []
     },
     "output_type": "execute_result"
    }
   ],
   "source": [
    "data_df2[(data_df2['Aging'] >50)].sort_values('Aging', ascending = False).count()"
   ]
  },
  {
   "cell_type": "code",
   "execution_count": 0,
   "metadata": {
    "colab": {
     "base_uri": "https://localhost:8080/",
     "height": 450
    },
    "colab_type": "code",
    "id": "oGFqB66i5NAe",
    "outputId": "a6ab4afd-6be5-4ff6-d24e-72ec22c98797"
   },
   "outputs": [
    {
     "data": {
      "text/plain": [
       "([<matplotlib.patches.Wedge at 0x7f78a16af128>,\n",
       "  <matplotlib.patches.Wedge at 0x7f789d7446a0>,\n",
       "  <matplotlib.patches.Wedge at 0x7f789e899e10>,\n",
       "  <matplotlib.patches.Wedge at 0x7f789e9308d0>],\n",
       " [Text(-0.9785712042949336, 0.5023926732395323, 'less than 25 years'),\n",
       "  Text(-1.0676280396703393, -0.26489690241614533, '25 to 34 years'),\n",
       "  Text(0.19563696551669518, -1.082463014482906, '34 to 50 years'),\n",
       "  Text(0.5643303120300832, 0.9442093512161532, 'greater than 54 years')],\n",
       " [Text(-0.5337661114336001, 0.27403236722156304, '7.1%'),\n",
       "  Text(-0.5823425670929122, -0.1444892194997156, '15.7%'),\n",
       "  Text(0.10671107210001556, -0.5904343715361304, '32.2%'),\n",
       "  Text(0.30781653383459084, 0.5150232824815381, '44.9%')])"
      ]
     },
     "execution_count": 92,
     "metadata": {
      "tags": []
     },
     "output_type": "execute_result"
    },
    {
     "data": {
      "image/png": "[encoded data removed]",
      "text/plain": [
       "<Figure size 432x288 with 1 Axes>"
      ]
     },
     "metadata": {
      "tags": []
     },
     "output_type": "display_data"
    }
   ],
   "source": [
    "labels = ['less than 25 years', '25 to 34 years', '34 to 50 years', 'greater than 54 years']\n",
    "deals = [530,1169,2398,3342]\n",
    "plt.pie(deals, labels=labels,autopct='%1.1f%%', shadow=True, startangle=140 )"
   ]
  },
  {
   "cell_type": "markdown",
   "metadata": {
    "colab_type": "text",
    "id": "sukKDlS-7BY7"
   },
   "source": [
    "The major polpulation with age greater than 50 years buys more vehicles. The pie plot clearly depicts the percentage of deals made by people in different age groups."
   ]
  },
  {
   "cell_type": "markdown",
   "metadata": {
    "colab_type": "text",
    "id": "CQkf5G_t7h_1"
   },
   "source": [
    "## 9. Generate tables and/or charts using your favourite visualization library to summarize: \n",
    "* Number of deals made (also called volume) by month, for a six-month period \n",
    "* Profit made by month, for a six-month period \n",
    "* Repeat a. and b. by SaleType_Clean i.e. monthly breakdown of deals made by Sale Type \n",
    "* Repeat a. and b. by Age group of the buyer "
   ]
  },
  {
   "cell_type": "code",
   "execution_count": 0,
   "metadata": {
    "colab": {
     "base_uri": "https://localhost:8080/",
     "height": 225
    },
    "colab_type": "code",
    "id": "Z_u7369R7_GF",
    "outputId": "bd5b0a84-15f7-468b-a398-19efda45ce67"
   },
   "outputs": [
    {
     "data": {
      "text/html": [
       "<div>\n",
       "<style scoped>\n",
       "    .dataframe tbody tr th:only-of-type {\n",
       "        vertical-align: middle;\n",
       "    }\n",
       "\n",
       "    .dataframe tbody tr th {\n",
       "        vertical-align: top;\n",
       "    }\n",
       "\n",
       "    .dataframe thead th {\n",
       "        text-align: right;\n",
       "    }\n",
       "</style>\n",
       "<table border=\"1\" class=\"dataframe\">\n",
       "  <thead>\n",
       "    <tr style=\"text-align: right;\">\n",
       "      <th></th>\n",
       "      <th>BirthDate</th>\n",
       "      <th>DealNo</th>\n",
       "      <th>DealType</th>\n",
       "      <th>FIDealType</th>\n",
       "      <th>GrossProfit</th>\n",
       "      <th>SaleType_Clean</th>\n",
       "      <th>Aging</th>\n",
       "    </tr>\n",
       "    <tr>\n",
       "      <th>Date</th>\n",
       "      <th></th>\n",
       "      <th></th>\n",
       "      <th></th>\n",
       "      <th></th>\n",
       "      <th></th>\n",
       "      <th></th>\n",
       "      <th></th>\n",
       "    </tr>\n",
       "  </thead>\n",
       "  <tbody>\n",
       "    <tr>\n",
       "      <th>2012-03-17</th>\n",
       "      <td>1941-11-03</td>\n",
       "      <td>64311</td>\n",
       "      <td>New</td>\n",
       "      <td>New</td>\n",
       "      <td>1314.73</td>\n",
       "      <td>New</td>\n",
       "      <td>70.369686</td>\n",
       "    </tr>\n",
       "    <tr>\n",
       "      <th>2014-10-30</th>\n",
       "      <td>1953-04-04</td>\n",
       "      <td>87150</td>\n",
       "      <td>New</td>\n",
       "      <td>New</td>\n",
       "      <td>1641.55</td>\n",
       "      <td>New</td>\n",
       "      <td>61.572791</td>\n",
       "    </tr>\n",
       "    <tr>\n",
       "      <th>2012-07-06</th>\n",
       "      <td>1948-04-24</td>\n",
       "      <td>66628</td>\n",
       "      <td>New</td>\n",
       "      <td>New</td>\n",
       "      <td>425.66</td>\n",
       "      <td>New</td>\n",
       "      <td>64.201181</td>\n",
       "    </tr>\n",
       "    <tr>\n",
       "      <th>2009-11-13</th>\n",
       "      <td>1925-05-24</td>\n",
       "      <td>46106</td>\n",
       "      <td>New</td>\n",
       "      <td>New</td>\n",
       "      <td>4032.21</td>\n",
       "      <td>New</td>\n",
       "      <td>84.475383</td>\n",
       "    </tr>\n",
       "    <tr>\n",
       "      <th>2006-08-31</th>\n",
       "      <td>1958-12-06</td>\n",
       "      <td>25584</td>\n",
       "      <td>Used</td>\n",
       "      <td>Used</td>\n",
       "      <td>-369.10</td>\n",
       "      <td>Used</td>\n",
       "      <td>47.735409</td>\n",
       "    </tr>\n",
       "  </tbody>\n",
       "</table>\n",
       "</div>"
      ],
      "text/plain": [
       "            BirthDate  DealNo DealType  ... GrossProfit  SaleType_Clean      Aging\n",
       "Date                                    ...                                       \n",
       "2012-03-17 1941-11-03   64311      New  ...     1314.73             New  70.369686\n",
       "2014-10-30 1953-04-04   87150      New  ...     1641.55             New  61.572791\n",
       "2012-07-06 1948-04-24   66628      New  ...      425.66             New  64.201181\n",
       "2009-11-13 1925-05-24   46106      New  ...     4032.21             New  84.475383\n",
       "2006-08-31 1958-12-06   25584     Used  ...     -369.10            Used  47.735409\n",
       "\n",
       "[5 rows x 7 columns]"
      ]
     },
     "execution_count": 46,
     "metadata": {
      "tags": []
     },
     "output_type": "execute_result"
    }
   ],
   "source": [
    "data_df2['AccountingDate'] = pd.to_datetime(data_df2['AccountingDate'])\n",
    "#t1=today- relativedelta.relativedelta(months=6)\n",
    "\n",
    "data_df3=data_df2\n",
    "data_df3.index = pd.to_datetime(data_df3['AccountingDate'])\n",
    "data_df3.index.names = ['Date']\n",
    "\n",
    "data_df3.drop(['AccountingDate'], axis=1, inplace=True)\n",
    "data_df3.head()\n",
    "#data_df3['AccountingDate'].resample('M').mean()"
   ]
  },
  {
   "cell_type": "code",
   "execution_count": 0,
   "metadata": {
    "colab": {
     "base_uri": "https://localhost:8080/",
     "height": 282
    },
    "colab_type": "code",
    "id": "HuBgkDIzMHti",
    "outputId": "44d7d561-b3f3-40bf-9eb2-5defa48b80de"
   },
   "outputs": [
    {
     "data": {
      "text/plain": [
       "<matplotlib.axes._subplots.AxesSubplot at 0x7f789e846da0>"
      ]
     },
     "execution_count": 47,
     "metadata": {
      "tags": []
     },
     "output_type": "execute_result"
    },
    {
     "data": {
      "image/png": "[encoded data removed]",
      "text/plain": [
       "<Figure size 432x288 with 1 Axes>"
      ]
     },
     "metadata": {
      "needs_background": "light",
      "tags": []
     },
     "output_type": "display_data"
    }
   ],
   "source": [
    "#Analysing the distribution of deals made.\n",
    "data_df2['Aging'].plot(kind='hist')"
   ]
  },
  {
   "cell_type": "code",
   "execution_count": 0,
   "metadata": {
    "colab": {
     "base_uri": "https://localhost:8080/",
     "height": 294
    },
    "colab_type": "code",
    "id": "fVoQMioE5kvn",
    "outputId": "0c5f5f36-bbcd-41bb-e049-9dad2c1176e7"
   },
   "outputs": [
    {
     "data": {
      "text/plain": [
       "Text(0, 0.5, 'GrossProfit')"
      ]
     },
     "execution_count": 48,
     "metadata": {
      "tags": []
     },
     "output_type": "execute_result"
    },
    {
     "data": {
      "image/png": "[encoded data removed]",
      "text/plain": [
       "<Figure size 432x288 with 1 Axes>"
      ]
     },
     "metadata": {
      "needs_background": "light",
      "tags": []
     },
     "output_type": "display_data"
    }
   ],
   "source": [
    "#Analysing the distribution of deals made particularly in last fiscal year.\n",
    "ax = data_df3.loc['2017', 'GrossProfit'].plot()\n",
    "ax.set_ylabel('GrossProfit')"
   ]
  },
  {
   "cell_type": "code",
   "execution_count": 0,
   "metadata": {
    "colab": {
     "base_uri": "https://localhost:8080/",
     "height": 302
    },
    "colab_type": "code",
    "id": "KUbbv5DOBbg9",
    "outputId": "80ef58e6-db11-47e4-9c3c-0966ab11e4aa"
   },
   "outputs": [
    {
     "data": {
      "text/plain": [
       "Text(0, 0.5, 'GrossProfit')"
      ]
     },
     "execution_count": 49,
     "metadata": {
      "tags": []
     },
     "output_type": "execute_result"
    },
    {
     "data": {
      "image/png": "[encoded data removed]",
      "text/plain": [
       "<Figure size 432x288 with 1 Axes>"
      ]
     },
     "metadata": {
      "needs_background": "light",
      "tags": []
     },
     "output_type": "display_data"
    }
   ],
   "source": [
    "data_df3=data_df3[data_df3['DealNo']>0]\n",
    "ax = data_df3.loc['2017-01':'2017-02', 'GrossProfit'].plot()\n",
    "ax.set_ylabel('GrossProfit')"
   ]
  },
  {
   "cell_type": "code",
   "execution_count": 0,
   "metadata": {
    "colab": {
     "base_uri": "https://localhost:8080/",
     "height": 258
    },
    "colab_type": "code",
    "id": "0-MQu3ZnDtSi",
    "outputId": "4ccfd887-6241-444a-bce8-4ae6166bde45"
   },
   "outputs": [
    {
     "data": {
      "image/png": "[encoded data removed]",
      "text/plain": [
       "<Figure size 432x288 with 1 Axes>"
      ]
     },
     "metadata": {
      "needs_background": "light",
      "tags": []
     },
     "output_type": "display_data"
    }
   ],
   "source": [
    "ax = data_df3.loc[:, 'GrossProfit'].resample('M').plot()\n",
    "\n",
    "#ax.set_ylabel('GrossProfit')"
   ]
  },
  {
   "cell_type": "code",
   "execution_count": 0,
   "metadata": {
    "colab": {
     "base_uri": "https://localhost:8080/",
     "height": 265
    },
    "colab_type": "code",
    "id": "ltJRP3RKEWax",
    "outputId": "3fdf916c-1e40-4110-d849-a4fdb05dddac"
   },
   "outputs": [
    {
     "data": {
      "image/png": "[encoded data removed]",
      "text/plain": [
       "<Figure size 432x288 with 1 Axes>"
      ]
     },
     "metadata": {
      "needs_background": "light",
      "tags": []
     },
     "output_type": "display_data"
    }
   ],
   "source": [
    "ax = data_df3['GrossProfit'].resample('M').plot(kind='hist')\n",
    "plt.show()"
   ]
  },
  {
   "cell_type": "code",
   "execution_count": 0,
   "metadata": {
    "colab": {
     "base_uri": "https://localhost:8080/",
     "height": 296
    },
    "colab_type": "code",
    "id": "-1KZIN3OHsyn",
    "outputId": "7dfb718c-ad02-4e83-8b48-03c743fd8014"
   },
   "outputs": [
    {
     "data": {
      "text/plain": [
       "<matplotlib.axes._subplots.AxesSubplot at 0x7f78a16afb38>"
      ]
     },
     "execution_count": 52,
     "metadata": {
      "tags": []
     },
     "output_type": "execute_result"
    },
    {
     "data": {
      "image/png": "[encoded data removed]",
      "text/plain": [
       "<Figure size 1080x288 with 1 Axes>"
      ]
     },
     "metadata": {
      "needs_background": "light",
      "tags": []
     },
     "output_type": "display_data"
    }
   ],
   "source": [
    "#Analysing the number of deals on yearly basis.\n",
    "#The number of deals made dropped significantly from 2006 to 2016\n",
    "data_df3[[\"GrossProfit\"]].resample(\"1y\").median().plot(figsize=(15,4))"
   ]
  },
  {
   "cell_type": "code",
   "execution_count": 0,
   "metadata": {
    "colab": {
     "base_uri": "https://localhost:8080/",
     "height": 235
    },
    "colab_type": "code",
    "id": "m5vFkk-_SRwg",
    "outputId": "3aaa5908-b90f-4271-9c1e-d9d67bc1c4fa"
   },
   "outputs": [
    {
     "data": {
      "text/plain": [
       "Date\n",
       "2012-03-17    70.369686\n",
       "2014-10-30    61.572791\n",
       "2012-07-06    64.201181\n",
       "2009-11-13    84.475383\n",
       "2006-08-31    47.735409\n",
       "                ...    \n",
       "2014-05-05          NaN\n",
       "2011-12-26    26.308548\n",
       "2017-08-05    54.862181\n",
       "2006-05-31    20.720480\n",
       "2006-11-10    41.043964\n",
       "Name: Aging, Length: 10202, dtype: float64"
      ]
     },
     "execution_count": 53,
     "metadata": {
      "tags": []
     },
     "output_type": "execute_result"
    }
   ],
   "source": [
    "data_df3['Aging']"
   ]
  },
  {
   "cell_type": "code",
   "execution_count": 0,
   "metadata": {
    "colab": {
     "base_uri": "https://localhost:8080/",
     "height": 876
    },
    "colab_type": "code",
    "id": "vKl9YRMVKJHZ",
    "outputId": "d702ea7f-b0d0-4c85-a234-7020630cb483"
   },
   "outputs": [
    {
     "data": {
      "text/html": [
       "<div>\n",
       "<style scoped>\n",
       "    .dataframe tbody tr th:only-of-type {\n",
       "        vertical-align: middle;\n",
       "    }\n",
       "\n",
       "    .dataframe tbody tr th {\n",
       "        vertical-align: top;\n",
       "    }\n",
       "\n",
       "    .dataframe thead th {\n",
       "        text-align: right;\n",
       "    }\n",
       "</style>\n",
       "<table border=\"1\" class=\"dataframe\">\n",
       "  <thead>\n",
       "    <tr style=\"text-align: right;\">\n",
       "      <th></th>\n",
       "      <th>DealNo</th>\n",
       "      <th>GrossProfit</th>\n",
       "      <th>Aging</th>\n",
       "    </tr>\n",
       "    <tr>\n",
       "      <th>Date</th>\n",
       "      <th></th>\n",
       "      <th></th>\n",
       "      <th></th>\n",
       "    </tr>\n",
       "  </thead>\n",
       "  <tbody>\n",
       "    <tr>\n",
       "      <th>2005-01-31</th>\n",
       "      <td>19982.333333</td>\n",
       "      <td>879.453333</td>\n",
       "      <td>59.413495</td>\n",
       "    </tr>\n",
       "    <tr>\n",
       "      <th>2005-07-31</th>\n",
       "      <td>20555.320000</td>\n",
       "      <td>220.188400</td>\n",
       "      <td>47.869019</td>\n",
       "    </tr>\n",
       "    <tr>\n",
       "      <th>2006-01-31</th>\n",
       "      <td>20826.010989</td>\n",
       "      <td>1194.248901</td>\n",
       "      <td>44.026687</td>\n",
       "    </tr>\n",
       "    <tr>\n",
       "      <th>2006-07-31</th>\n",
       "      <td>23563.247283</td>\n",
       "      <td>935.885408</td>\n",
       "      <td>45.697527</td>\n",
       "    </tr>\n",
       "    <tr>\n",
       "      <th>2007-01-31</th>\n",
       "      <td>26364.395722</td>\n",
       "      <td>1082.055829</td>\n",
       "      <td>44.703417</td>\n",
       "    </tr>\n",
       "    <tr>\n",
       "      <th>2007-07-31</th>\n",
       "      <td>30950.190349</td>\n",
       "      <td>814.335335</td>\n",
       "      <td>43.571447</td>\n",
       "    </tr>\n",
       "    <tr>\n",
       "      <th>2008-01-31</th>\n",
       "      <td>33035.268041</td>\n",
       "      <td>688.386289</td>\n",
       "      <td>47.655047</td>\n",
       "    </tr>\n",
       "    <tr>\n",
       "      <th>2008-07-31</th>\n",
       "      <td>37649.565217</td>\n",
       "      <td>949.215386</td>\n",
       "      <td>46.351876</td>\n",
       "    </tr>\n",
       "    <tr>\n",
       "      <th>2009-01-31</th>\n",
       "      <td>39553.225455</td>\n",
       "      <td>850.077927</td>\n",
       "      <td>47.539079</td>\n",
       "    </tr>\n",
       "    <tr>\n",
       "      <th>2009-07-31</th>\n",
       "      <td>43194.445312</td>\n",
       "      <td>916.718906</td>\n",
       "      <td>48.589461</td>\n",
       "    </tr>\n",
       "    <tr>\n",
       "      <th>2010-01-31</th>\n",
       "      <td>45571.782816</td>\n",
       "      <td>986.290095</td>\n",
       "      <td>47.703389</td>\n",
       "    </tr>\n",
       "    <tr>\n",
       "      <th>2010-07-31</th>\n",
       "      <td>50211.812500</td>\n",
       "      <td>880.280599</td>\n",
       "      <td>48.601678</td>\n",
       "    </tr>\n",
       "    <tr>\n",
       "      <th>2011-01-31</th>\n",
       "      <td>53075.650246</td>\n",
       "      <td>796.075394</td>\n",
       "      <td>45.564298</td>\n",
       "    </tr>\n",
       "    <tr>\n",
       "      <th>2011-07-31</th>\n",
       "      <td>57964.958869</td>\n",
       "      <td>1154.659563</td>\n",
       "      <td>48.139821</td>\n",
       "    </tr>\n",
       "    <tr>\n",
       "      <th>2012-01-31</th>\n",
       "      <td>61080.401786</td>\n",
       "      <td>1317.231429</td>\n",
       "      <td>48.737782</td>\n",
       "    </tr>\n",
       "    <tr>\n",
       "      <th>2012-07-31</th>\n",
       "      <td>65708.860814</td>\n",
       "      <td>932.963169</td>\n",
       "      <td>47.443504</td>\n",
       "    </tr>\n",
       "    <tr>\n",
       "      <th>2013-01-31</th>\n",
       "      <td>69571.463736</td>\n",
       "      <td>765.976615</td>\n",
       "      <td>49.127924</td>\n",
       "    </tr>\n",
       "    <tr>\n",
       "      <th>2013-07-31</th>\n",
       "      <td>75268.431298</td>\n",
       "      <td>756.253302</td>\n",
       "      <td>50.056488</td>\n",
       "    </tr>\n",
       "    <tr>\n",
       "      <th>2014-01-31</th>\n",
       "      <td>78295.707031</td>\n",
       "      <td>857.218047</td>\n",
       "      <td>48.330343</td>\n",
       "    </tr>\n",
       "    <tr>\n",
       "      <th>2014-07-31</th>\n",
       "      <td>83269.817181</td>\n",
       "      <td>953.920485</td>\n",
       "      <td>47.661886</td>\n",
       "    </tr>\n",
       "    <tr>\n",
       "      <th>2015-01-31</th>\n",
       "      <td>86031.897751</td>\n",
       "      <td>1061.314826</td>\n",
       "      <td>48.784844</td>\n",
       "    </tr>\n",
       "    <tr>\n",
       "      <th>2015-07-31</th>\n",
       "      <td>91741.297297</td>\n",
       "      <td>1008.927410</td>\n",
       "      <td>48.831791</td>\n",
       "    </tr>\n",
       "    <tr>\n",
       "      <th>2016-01-31</th>\n",
       "      <td>94319.127430</td>\n",
       "      <td>1101.688531</td>\n",
       "      <td>47.769296</td>\n",
       "    </tr>\n",
       "    <tr>\n",
       "      <th>2016-07-31</th>\n",
       "      <td>99403.516779</td>\n",
       "      <td>845.062461</td>\n",
       "      <td>49.162538</td>\n",
       "    </tr>\n",
       "    <tr>\n",
       "      <th>2017-01-31</th>\n",
       "      <td>102627.378479</td>\n",
       "      <td>999.213599</td>\n",
       "      <td>49.586943</td>\n",
       "    </tr>\n",
       "    <tr>\n",
       "      <th>2017-07-31</th>\n",
       "      <td>107383.848684</td>\n",
       "      <td>1115.041031</td>\n",
       "      <td>49.754772</td>\n",
       "    </tr>\n",
       "    <tr>\n",
       "      <th>2018-01-31</th>\n",
       "      <td>109105.534483</td>\n",
       "      <td>889.417543</td>\n",
       "      <td>47.422786</td>\n",
       "    </tr>\n",
       "  </tbody>\n",
       "</table>\n",
       "</div>"
      ],
      "text/plain": [
       "                   DealNo  GrossProfit      Aging\n",
       "Date                                             \n",
       "2005-01-31   19982.333333   879.453333  59.413495\n",
       "2005-07-31   20555.320000   220.188400  47.869019\n",
       "2006-01-31   20826.010989  1194.248901  44.026687\n",
       "2006-07-31   23563.247283   935.885408  45.697527\n",
       "2007-01-31   26364.395722  1082.055829  44.703417\n",
       "2007-07-31   30950.190349   814.335335  43.571447\n",
       "2008-01-31   33035.268041   688.386289  47.655047\n",
       "2008-07-31   37649.565217   949.215386  46.351876\n",
       "2009-01-31   39553.225455   850.077927  47.539079\n",
       "2009-07-31   43194.445312   916.718906  48.589461\n",
       "2010-01-31   45571.782816   986.290095  47.703389\n",
       "2010-07-31   50211.812500   880.280599  48.601678\n",
       "2011-01-31   53075.650246   796.075394  45.564298\n",
       "2011-07-31   57964.958869  1154.659563  48.139821\n",
       "2012-01-31   61080.401786  1317.231429  48.737782\n",
       "2012-07-31   65708.860814   932.963169  47.443504\n",
       "2013-01-31   69571.463736   765.976615  49.127924\n",
       "2013-07-31   75268.431298   756.253302  50.056488\n",
       "2014-01-31   78295.707031   857.218047  48.330343\n",
       "2014-07-31   83269.817181   953.920485  47.661886\n",
       "2015-01-31   86031.897751  1061.314826  48.784844\n",
       "2015-07-31   91741.297297  1008.927410  48.831791\n",
       "2016-01-31   94319.127430  1101.688531  47.769296\n",
       "2016-07-31   99403.516779   845.062461  49.162538\n",
       "2017-01-31  102627.378479   999.213599  49.586943\n",
       "2017-07-31  107383.848684  1115.041031  49.754772\n",
       "2018-01-31  109105.534483   889.417543  47.422786"
      ]
     },
     "execution_count": 54,
     "metadata": {
      "tags": []
     },
     "output_type": "execute_result"
    }
   ],
   "source": [
    "data_df3_6m = data_df3.resample('6M').mean()\n",
    "data_df3_6m[data_df3_6m['DealNo']>0]"
   ]
  },
  {
   "cell_type": "code",
   "execution_count": 0,
   "metadata": {
    "colab": {
     "base_uri": "https://localhost:8080/",
     "height": 504
    },
    "colab_type": "code",
    "id": "YUq3T480Tvzk",
    "outputId": "8941c371-f2f4-4d2a-940d-00e9cd1c8051"
   },
   "outputs": [
    {
     "data": {
      "text/plain": [
       "Date\n",
       "2005-01-31      3\n",
       "2005-07-31     25\n",
       "2006-01-31    182\n",
       "2006-07-31    368\n",
       "2007-01-31    374\n",
       "2007-07-31    373\n",
       "2008-01-31    388\n",
       "2008-07-31    414\n",
       "2009-01-31    275\n",
       "2009-07-31    384\n",
       "2010-01-31    419\n",
       "2010-07-31    384\n",
       "2011-01-31    406\n",
       "2011-07-31    389\n",
       "2012-01-31    336\n",
       "2012-07-31    467\n",
       "2013-01-31    455\n",
       "2013-07-31    524\n",
       "2014-01-31    512\n",
       "2014-07-31    454\n",
       "2015-01-31    489\n",
       "2015-07-31    444\n",
       "2016-01-31    463\n",
       "2016-07-31    447\n",
       "2017-01-31    539\n",
       "2017-07-31    456\n",
       "2018-01-31    232\n",
       "Freq: 6M, Name: DealNo, dtype: int64"
      ]
     },
     "execution_count": 55,
     "metadata": {
      "tags": []
     },
     "output_type": "execute_result"
    }
   ],
   "source": [
    "#Number of deals made resampled to every 6 month.\n",
    "data_df3['DealNo'].resample('6M').count()"
   ]
  },
  {
   "cell_type": "code",
   "execution_count": 0,
   "metadata": {
    "colab": {},
    "colab_type": "code",
    "id": "Pai3c9AMT_oc"
   },
   "outputs": [],
   "source": [
    "data_df3_6m_deal_count= data_df3['DealNo'].resample('6M').count()"
   ]
  },
  {
   "cell_type": "code",
   "execution_count": 0,
   "metadata": {
    "colab": {
     "base_uri": "https://localhost:8080/",
     "height": 621
    },
    "colab_type": "code",
    "id": "qG0Lk2opKwJr",
    "outputId": "5686a110-1df0-4cfe-dd3e-9ebace91b8c0"
   },
   "outputs": [
    {
     "data": {
      "image/png": "[encoded data removed]",
      "text/plain": [
       "<Figure size 720x720 with 1 Axes>"
      ]
     },
     "metadata": {
      "needs_background": "light",
      "tags": []
     },
     "output_type": "display_data"
    }
   ],
   "source": [
    "data_df3_6m=data_df3_6m[data_df3_6m['DealNo']>0]\n",
    "# Create figure and plot space\n",
    "fig, ax = plt.subplots(figsize=(10, 10))\n",
    "\n",
    "# Add x-axis and y-axis\n",
    "ax.scatter(data_df3_6m.index.values,\n",
    "           data_df3_6m['GrossProfit'],\n",
    "           color='purple')\n",
    "\n",
    "# Set title and labels for axes\n",
    "ax.set(xlabel=\"Date\",\n",
    "       ylabel=\"Profit\",\n",
    "       title=\"Profit\")\n",
    "\n",
    "plt.show()"
   ]
  },
  {
   "cell_type": "code",
   "execution_count": 0,
   "metadata": {
    "colab": {
     "base_uri": "https://localhost:8080/",
     "height": 621
    },
    "colab_type": "code",
    "id": "L-hCwChIWs3J",
    "outputId": "be9c0014-681d-4774-c1c0-60289a673fd4"
   },
   "outputs": [
    {
     "data": {
      "image/png": "[encoded data removed]",
      "text/plain": [
       "<Figure size 720x720 with 1 Axes>"
      ]
     },
     "metadata": {
      "needs_background": "light",
      "tags": []
     },
     "output_type": "display_data"
    }
   ],
   "source": [
    "data_df3_6m=data_df3_6m[data_df3_6m['DealNo']>0]\n",
    "# Create figure and plot space\n",
    "fig, ax = plt.subplots(figsize=(10, 10))\n",
    "\n",
    "# Add x-axis and y-axis\n",
    "ax.scatter(data_df3_6m_deal_count.index.values,\n",
    "           data_df3_6m_deal_count,\n",
    "           color='purple')\n",
    "\n",
    "# Set title and labels for axes\n",
    "ax.set(xlabel=\"Date\",\n",
    "       ylabel=\"Deals\",\n",
    "       title=\"Count\")\n",
    "\n",
    "plt.show()"
   ]
  },
  {
   "cell_type": "code",
   "execution_count": 0,
   "metadata": {
    "colab": {
     "base_uri": "https://localhost:8080/",
     "height": 431
    },
    "colab_type": "code",
    "id": "1vLOXlSLL6uq",
    "outputId": "f486832c-e6f4-493a-c0f3-24abb7c95cbd"
   },
   "outputs": [
    {
     "data": {
      "text/html": [
       "<div>\n",
       "<style scoped>\n",
       "    .dataframe tbody tr th:only-of-type {\n",
       "        vertical-align: middle;\n",
       "    }\n",
       "\n",
       "    .dataframe tbody tr th {\n",
       "        vertical-align: top;\n",
       "    }\n",
       "\n",
       "    .dataframe thead th {\n",
       "        text-align: right;\n",
       "    }\n",
       "</style>\n",
       "<table border=\"1\" class=\"dataframe\">\n",
       "  <thead>\n",
       "    <tr style=\"text-align: right;\">\n",
       "      <th></th>\n",
       "      <th>DealNo</th>\n",
       "      <th>GrossProfit</th>\n",
       "      <th>Aging</th>\n",
       "    </tr>\n",
       "    <tr>\n",
       "      <th>Date</th>\n",
       "      <th></th>\n",
       "      <th></th>\n",
       "      <th></th>\n",
       "    </tr>\n",
       "  </thead>\n",
       "  <tbody>\n",
       "    <tr>\n",
       "      <th>2005-01-31</th>\n",
       "      <td>19982.333333</td>\n",
       "      <td>879.453333</td>\n",
       "      <td>59.413495</td>\n",
       "    </tr>\n",
       "    <tr>\n",
       "      <th>2005-02-28</th>\n",
       "      <td>19996.000000</td>\n",
       "      <td>1390.270000</td>\n",
       "      <td>39.045292</td>\n",
       "    </tr>\n",
       "    <tr>\n",
       "      <th>2005-03-31</th>\n",
       "      <td>19638.000000</td>\n",
       "      <td>1325.270000</td>\n",
       "      <td>61.364710</td>\n",
       "    </tr>\n",
       "    <tr>\n",
       "      <th>2005-05-31</th>\n",
       "      <td>20350.000000</td>\n",
       "      <td>1715.780000</td>\n",
       "      <td>40.015880</td>\n",
       "    </tr>\n",
       "    <tr>\n",
       "      <th>2005-06-30</th>\n",
       "      <td>20652.473684</td>\n",
       "      <td>-146.087895</td>\n",
       "      <td>NaN</td>\n",
       "    </tr>\n",
       "    <tr>\n",
       "      <th>...</th>\n",
       "      <td>...</td>\n",
       "      <td>...</td>\n",
       "      <td>...</td>\n",
       "    </tr>\n",
       "    <tr>\n",
       "      <th>2017-08-31</th>\n",
       "      <td>109530.567308</td>\n",
       "      <td>920.721058</td>\n",
       "      <td>47.372180</td>\n",
       "    </tr>\n",
       "    <tr>\n",
       "      <th>2017-09-30</th>\n",
       "      <td>109868.716981</td>\n",
       "      <td>848.736415</td>\n",
       "      <td>46.175954</td>\n",
       "    </tr>\n",
       "    <tr>\n",
       "      <th>2017-10-31</th>\n",
       "      <td>107323.142857</td>\n",
       "      <td>687.194286</td>\n",
       "      <td>42.037140</td>\n",
       "    </tr>\n",
       "    <tr>\n",
       "      <th>2017-11-30</th>\n",
       "      <td>108246.391304</td>\n",
       "      <td>916.738261</td>\n",
       "      <td>46.430600</td>\n",
       "    </tr>\n",
       "    <tr>\n",
       "      <th>2017-12-31</th>\n",
       "      <td>108219.677419</td>\n",
       "      <td>970.670645</td>\n",
       "      <td>53.640430</td>\n",
       "    </tr>\n",
       "  </tbody>\n",
       "</table>\n",
       "<p>155 rows × 3 columns</p>\n",
       "</div>"
      ],
      "text/plain": [
       "                   DealNo  GrossProfit      Aging\n",
       "Date                                             \n",
       "2005-01-31   19982.333333   879.453333  59.413495\n",
       "2005-02-28   19996.000000  1390.270000  39.045292\n",
       "2005-03-31   19638.000000  1325.270000  61.364710\n",
       "2005-05-31   20350.000000  1715.780000  40.015880\n",
       "2005-06-30   20652.473684  -146.087895        NaN\n",
       "...                   ...          ...        ...\n",
       "2017-08-31  109530.567308   920.721058  47.372180\n",
       "2017-09-30  109868.716981   848.736415  46.175954\n",
       "2017-10-31  107323.142857   687.194286  42.037140\n",
       "2017-11-30  108246.391304   916.738261  46.430600\n",
       "2017-12-31  108219.677419   970.670645  53.640430\n",
       "\n",
       "[155 rows x 3 columns]"
      ]
     },
     "execution_count": 59,
     "metadata": {
      "tags": []
     },
     "output_type": "execute_result"
    }
   ],
   "source": [
    "data_df3_m = data_df3.resample('M').mean()\n",
    "data_df3_m[data_df3_m['DealNo']>0]"
   ]
  },
  {
   "cell_type": "code",
   "execution_count": 0,
   "metadata": {
    "colab": {
     "base_uri": "https://localhost:8080/",
     "height": 254
    },
    "colab_type": "code",
    "id": "d1cgjGAyMUQW",
    "outputId": "4cf5859f-ebda-43c5-b299-4cb342f77303"
   },
   "outputs": [
    {
     "data": {
      "text/html": [
       "<div>\n",
       "<style scoped>\n",
       "    .dataframe tbody tr th:only-of-type {\n",
       "        vertical-align: middle;\n",
       "    }\n",
       "\n",
       "    .dataframe tbody tr th {\n",
       "        vertical-align: top;\n",
       "    }\n",
       "\n",
       "    .dataframe thead th {\n",
       "        text-align: right;\n",
       "    }\n",
       "</style>\n",
       "<table border=\"1\" class=\"dataframe\">\n",
       "  <thead>\n",
       "    <tr style=\"text-align: right;\">\n",
       "      <th></th>\n",
       "      <th>DealNo</th>\n",
       "      <th>GrossProfit</th>\n",
       "      <th>Aging</th>\n",
       "    </tr>\n",
       "    <tr>\n",
       "      <th>Date</th>\n",
       "      <th></th>\n",
       "      <th></th>\n",
       "      <th></th>\n",
       "    </tr>\n",
       "  </thead>\n",
       "  <tbody>\n",
       "    <tr>\n",
       "      <th>2017-07-31</th>\n",
       "      <td>108242.650000</td>\n",
       "      <td>1082.045700</td>\n",
       "      <td>49.398089</td>\n",
       "    </tr>\n",
       "    <tr>\n",
       "      <th>2017-08-31</th>\n",
       "      <td>109530.567308</td>\n",
       "      <td>920.721058</td>\n",
       "      <td>47.372180</td>\n",
       "    </tr>\n",
       "    <tr>\n",
       "      <th>2017-09-30</th>\n",
       "      <td>109868.716981</td>\n",
       "      <td>848.736415</td>\n",
       "      <td>46.175954</td>\n",
       "    </tr>\n",
       "    <tr>\n",
       "      <th>2017-10-31</th>\n",
       "      <td>107323.142857</td>\n",
       "      <td>687.194286</td>\n",
       "      <td>42.037140</td>\n",
       "    </tr>\n",
       "    <tr>\n",
       "      <th>2017-11-30</th>\n",
       "      <td>108246.391304</td>\n",
       "      <td>916.738261</td>\n",
       "      <td>46.430600</td>\n",
       "    </tr>\n",
       "    <tr>\n",
       "      <th>2017-12-31</th>\n",
       "      <td>108219.677419</td>\n",
       "      <td>970.670645</td>\n",
       "      <td>53.640430</td>\n",
       "    </tr>\n",
       "  </tbody>\n",
       "</table>\n",
       "</div>"
      ],
      "text/plain": [
       "                   DealNo  GrossProfit      Aging\n",
       "Date                                             \n",
       "2017-07-31  108242.650000  1082.045700  49.398089\n",
       "2017-08-31  109530.567308   920.721058  47.372180\n",
       "2017-09-30  109868.716981   848.736415  46.175954\n",
       "2017-10-31  107323.142857   687.194286  42.037140\n",
       "2017-11-30  108246.391304   916.738261  46.430600\n",
       "2017-12-31  108219.677419   970.670645  53.640430"
      ]
     },
     "execution_count": 60,
     "metadata": {
      "tags": []
     },
     "output_type": "execute_result"
    }
   ],
   "source": [
    "data_6m_profit= data_df3_m.sort_values(by='Date',ascending=True, inplace=False).tail(6)\n",
    "data_6m_profit"
   ]
  },
  {
   "cell_type": "code",
   "execution_count": 0,
   "metadata": {
    "colab": {
     "base_uri": "https://localhost:8080/",
     "height": 391
    },
    "colab_type": "code",
    "id": "jXqnzWR-gK-X",
    "outputId": "b5bb8e9a-44c9-4ef4-b4bd-20aab3ce076f"
   },
   "outputs": [
    {
     "data": {
      "text/plain": [
       "<matplotlib.axes._subplots.AxesSubplot at 0x7f789d4d7048>"
      ]
     },
     "execution_count": 61,
     "metadata": {
      "tags": []
     },
     "output_type": "execute_result"
    },
    {
     "data": {
      "image/png": "[encoded data removed]",
      "text/plain": [
       "<Figure size 432x288 with 1 Axes>"
      ]
     },
     "metadata": {
      "needs_background": "light",
      "tags": []
     },
     "output_type": "display_data"
    }
   ],
   "source": [
    "data_df3.loc['2017-07-31':'2017-12-31', 'GrossProfit'].resample('M').mean().plot(kind='bar')\n",
    "#ax.set_ylabel('GrossProfit')"
   ]
  },
  {
   "cell_type": "markdown",
   "metadata": {
    "colab_type": "text",
    "id": "fE0WGYFp8jnG"
   },
   "source": [
    "This gives the gross profit for the last 6 months which was the highest in the december 2017"
   ]
  },
  {
   "cell_type": "code",
   "execution_count": 0,
   "metadata": {
    "colab": {
     "base_uri": "https://localhost:8080/",
     "height": 391
    },
    "colab_type": "code",
    "id": "JMovRh7QjkKE",
    "outputId": "abae2212-57e8-4d17-9778-551495141b8a"
   },
   "outputs": [
    {
     "data": {
      "text/plain": [
       "<matplotlib.axes._subplots.AxesSubplot at 0x7f789d49d438>"
      ]
     },
     "execution_count": 62,
     "metadata": {
      "tags": []
     },
     "output_type": "execute_result"
    },
    {
     "data": {
      "image/png": "[encoded data removed]",
      "text/plain": [
       "<Figure size 432x288 with 1 Axes>"
      ]
     },
     "metadata": {
      "needs_background": "light",
      "tags": []
     },
     "output_type": "display_data"
    }
   ],
   "source": [
    "data_df3.loc['2017-07-31':'2017-12-31', 'Aging'].resample('M').mean().plot(kind='bar')\n",
    "#ax.set_ylabel('GrossProfit')"
   ]
  },
  {
   "cell_type": "markdown",
   "metadata": {
    "colab_type": "text",
    "id": "6kVW-oJj8yN6"
   },
   "source": [
    "Overall the deals were made between the age group of 40 to 50 years old in the last 6 months."
   ]
  },
  {
   "cell_type": "code",
   "execution_count": 0,
   "metadata": {
    "colab": {
     "base_uri": "https://localhost:8080/",
     "height": 151
    },
    "colab_type": "code",
    "id": "rhiparUNhi-h",
    "outputId": "005c8981-a212-483a-b702-45e0962d371a"
   },
   "outputs": [
    {
     "data": {
      "text/plain": [
       "Date\n",
       "2017-07-31    42.259595\n",
       "2017-08-31    47.372180\n",
       "2017-09-30    46.175954\n",
       "2017-10-31    42.037140\n",
       "2017-11-30    46.430600\n",
       "2017-12-31    53.640430\n",
       "Freq: M, Name: Aging, dtype: float64"
      ]
     },
     "execution_count": 63,
     "metadata": {
      "tags": []
     },
     "output_type": "execute_result"
    }
   ],
   "source": [
    "data_df3.loc['2017-07-31':'2017-12-31', 'Aging'].resample('M').mean()"
   ]
  },
  {
   "cell_type": "code",
   "execution_count": 0,
   "metadata": {
    "colab": {
     "base_uri": "https://localhost:8080/",
     "height": 342
    },
    "colab_type": "code",
    "id": "SYr4f-e0jwKq",
    "outputId": "a5b43927-00f1-4bc6-b95a-066fa9c58100"
   },
   "outputs": [
    {
     "data": {
      "text/plain": [
       "<matplotlib.axes._subplots.AxesSubplot at 0x7f789d45e940>"
      ]
     },
     "execution_count": 64,
     "metadata": {
      "tags": []
     },
     "output_type": "execute_result"
    },
    {
     "data": {
      "image/png": "[encoded data removed]",
      "text/plain": [
       "<Figure size 432x288 with 1 Axes>"
      ]
     },
     "metadata": {
      "needs_background": "light",
      "tags": []
     },
     "output_type": "display_data"
    }
   ],
   "source": [
    "data_df3_sales_6m=data_df3.loc['2017-06-30':'2017-12-31']\n",
    "data_df3_sales_6m.groupby('DealType')['GrossProfit'].median().plot(kind='bar', label =\"popularity\")"
   ]
  },
  {
   "cell_type": "markdown",
   "metadata": {
    "colab_type": "text",
    "id": "QRz9aPTO9BER"
   },
   "source": [
    "Mostly, the used cars were dealed in last 6 months rather then the new vehicles as compared to the overall trends in the dataset."
   ]
  },
  {
   "cell_type": "code",
   "execution_count": 0,
   "metadata": {
    "colab": {
     "base_uri": "https://localhost:8080/",
     "height": 235
    },
    "colab_type": "code",
    "id": "031GfaQAUUco",
    "outputId": "eec6bd0e-5e1c-4e81-df33-fcb0345156a0"
   },
   "outputs": [
    {
     "data": {
      "text/plain": [
       "Date\n",
       "2005-01-31    1\n",
       "2005-02-28    1\n",
       "2005-03-31    1\n",
       "2005-04-30    0\n",
       "2005-05-31    1\n",
       "             ..\n",
       "2017-08-31    1\n",
       "2017-09-30    1\n",
       "2017-10-31    1\n",
       "2017-11-30    1\n",
       "2017-12-31    1\n",
       "Freq: M, Name: DealNo, Length: 156, dtype: int64"
      ]
     },
     "execution_count": 65,
     "metadata": {
      "tags": []
     },
     "output_type": "execute_result"
    }
   ],
   "source": [
    "data_df3_m_deal_count=data_df3_m['DealNo'].resample('M').count()\n",
    "data_df3_m_deal_count"
   ]
  },
  {
   "cell_type": "code",
   "execution_count": 0,
   "metadata": {
    "colab": {
     "base_uri": "https://localhost:8080/",
     "height": 621
    },
    "colab_type": "code",
    "id": "Lnn69xKGOzJw",
    "outputId": "eff49ea0-51b1-4516-f05f-713365c6551f"
   },
   "outputs": [
    {
     "data": {
      "image/png": "[encoded data removed]",
      "text/plain": [
       "<Figure size 720x720 with 1 Axes>"
      ]
     },
     "metadata": {
      "needs_background": "light",
      "tags": []
     },
     "output_type": "display_data"
    }
   ],
   "source": [
    "data_df3_m_deal_count=data_df3_m_deal_count.tail(6)\n",
    "# Create figure and plot space\n",
    "fig, ax = plt.subplots(figsize=(10, 10))\n",
    "\n",
    "# Add x-axis and y-axis\n",
    "ax.scatter(data_df3_m_deal_count.index.values,\n",
    "           data_df3_m_deal_count,\n",
    "           color='purple')\n",
    "\n",
    "# Set title and labels for axes\n",
    "ax.set(xlabel=\"Date\",\n",
    "       ylabel=\"Deals\",\n",
    "       title=\"Count\")\n",
    "\n",
    "plt.show()"
   ]
  },
  {
   "cell_type": "code",
   "execution_count": 0,
   "metadata": {
    "colab": {
     "base_uri": "https://localhost:8080/",
     "height": 431
    },
    "colab_type": "code",
    "id": "kBybZRI3QG_g",
    "outputId": "5c03d025-7954-4ba2-fe29-f55d41cc7028"
   },
   "outputs": [
    {
     "data": {
      "text/html": [
       "<div>\n",
       "<style scoped>\n",
       "    .dataframe tbody tr th:only-of-type {\n",
       "        vertical-align: middle;\n",
       "    }\n",
       "\n",
       "    .dataframe tbody tr th {\n",
       "        vertical-align: top;\n",
       "    }\n",
       "\n",
       "    .dataframe thead th {\n",
       "        text-align: right;\n",
       "    }\n",
       "</style>\n",
       "<table border=\"1\" class=\"dataframe\">\n",
       "  <thead>\n",
       "    <tr style=\"text-align: right;\">\n",
       "      <th></th>\n",
       "      <th>BirthDate</th>\n",
       "      <th>DealNo</th>\n",
       "      <th>DealType</th>\n",
       "      <th>FIDealType</th>\n",
       "      <th>GrossProfit</th>\n",
       "      <th>SaleType_Clean</th>\n",
       "      <th>Aging</th>\n",
       "    </tr>\n",
       "    <tr>\n",
       "      <th>Date</th>\n",
       "      <th></th>\n",
       "      <th></th>\n",
       "      <th></th>\n",
       "      <th></th>\n",
       "      <th></th>\n",
       "      <th></th>\n",
       "      <th></th>\n",
       "    </tr>\n",
       "  </thead>\n",
       "  <tbody>\n",
       "    <tr>\n",
       "      <th>2005-01-11</th>\n",
       "      <td>1946-04-13</td>\n",
       "      <td>19980</td>\n",
       "      <td>New</td>\n",
       "      <td>New</td>\n",
       "      <td>1211.32</td>\n",
       "      <td>New</td>\n",
       "      <td>58.750009</td>\n",
       "    </tr>\n",
       "    <tr>\n",
       "      <th>2005-01-11</th>\n",
       "      <td>1930-08-07</td>\n",
       "      <td>19978</td>\n",
       "      <td>New</td>\n",
       "      <td>New</td>\n",
       "      <td>255.04</td>\n",
       "      <td>New</td>\n",
       "      <td>74.432740</td>\n",
       "    </tr>\n",
       "    <tr>\n",
       "      <th>2005-01-11</th>\n",
       "      <td>1959-12-22</td>\n",
       "      <td>19989</td>\n",
       "      <td>New</td>\n",
       "      <td>New</td>\n",
       "      <td>1172.00</td>\n",
       "      <td>New</td>\n",
       "      <td>45.057736</td>\n",
       "    </tr>\n",
       "    <tr>\n",
       "      <th>2005-02-12</th>\n",
       "      <td>1966-01-27</td>\n",
       "      <td>19996</td>\n",
       "      <td>New</td>\n",
       "      <td>New</td>\n",
       "      <td>1390.27</td>\n",
       "      <td>New</td>\n",
       "      <td>39.045292</td>\n",
       "    </tr>\n",
       "    <tr>\n",
       "      <th>2005-03-11</th>\n",
       "      <td>1943-10-30</td>\n",
       "      <td>19638</td>\n",
       "      <td>New</td>\n",
       "      <td>New</td>\n",
       "      <td>1325.27</td>\n",
       "      <td>New</td>\n",
       "      <td>61.364710</td>\n",
       "    </tr>\n",
       "    <tr>\n",
       "      <th>...</th>\n",
       "      <td>...</td>\n",
       "      <td>...</td>\n",
       "      <td>...</td>\n",
       "      <td>...</td>\n",
       "      <td>...</td>\n",
       "      <td>...</td>\n",
       "      <td>...</td>\n",
       "    </tr>\n",
       "    <tr>\n",
       "      <th>2017-12-07</th>\n",
       "      <td>NaT</td>\n",
       "      <td>108871</td>\n",
       "      <td>Wholesale</td>\n",
       "      <td>Used</td>\n",
       "      <td>200.00</td>\n",
       "      <td>Wholesale</td>\n",
       "      <td>NaN</td>\n",
       "    </tr>\n",
       "    <tr>\n",
       "      <th>2017-12-07</th>\n",
       "      <td>NaT</td>\n",
       "      <td>108879</td>\n",
       "      <td>Wholesale</td>\n",
       "      <td>Used</td>\n",
       "      <td>100.00</td>\n",
       "      <td>Wholesale</td>\n",
       "      <td>NaN</td>\n",
       "    </tr>\n",
       "    <tr>\n",
       "      <th>2017-12-07</th>\n",
       "      <td>NaT</td>\n",
       "      <td>108869</td>\n",
       "      <td>Wholesale</td>\n",
       "      <td>Used</td>\n",
       "      <td>150.00</td>\n",
       "      <td>Wholesale</td>\n",
       "      <td>NaN</td>\n",
       "    </tr>\n",
       "    <tr>\n",
       "      <th>2017-12-09</th>\n",
       "      <td>NaT</td>\n",
       "      <td>110495</td>\n",
       "      <td>Wholesale</td>\n",
       "      <td>Misc</td>\n",
       "      <td>0.00</td>\n",
       "      <td>Wholesale</td>\n",
       "      <td>NaN</td>\n",
       "    </tr>\n",
       "    <tr>\n",
       "      <th>2017-12-10</th>\n",
       "      <td>NaT</td>\n",
       "      <td>111172</td>\n",
       "      <td>Wholesale</td>\n",
       "      <td>Misc</td>\n",
       "      <td>-80.00</td>\n",
       "      <td>Wholesale</td>\n",
       "      <td>NaN</td>\n",
       "    </tr>\n",
       "  </tbody>\n",
       "</table>\n",
       "<p>10202 rows × 7 columns</p>\n",
       "</div>"
      ],
      "text/plain": [
       "            BirthDate  DealNo   DealType  ... GrossProfit  SaleType_Clean      Aging\n",
       "Date                                      ...                                       \n",
       "2005-01-11 1946-04-13   19980        New  ...     1211.32             New  58.750009\n",
       "2005-01-11 1930-08-07   19978        New  ...      255.04             New  74.432740\n",
       "2005-01-11 1959-12-22   19989        New  ...     1172.00             New  45.057736\n",
       "2005-02-12 1966-01-27   19996        New  ...     1390.27             New  39.045292\n",
       "2005-03-11 1943-10-30   19638        New  ...     1325.27             New  61.364710\n",
       "...               ...     ...        ...  ...         ...             ...        ...\n",
       "2017-12-07        NaT  108871  Wholesale  ...      200.00       Wholesale        NaN\n",
       "2017-12-07        NaT  108879  Wholesale  ...      100.00       Wholesale        NaN\n",
       "2017-12-07        NaT  108869  Wholesale  ...      150.00       Wholesale        NaN\n",
       "2017-12-09        NaT  110495  Wholesale  ...        0.00       Wholesale        NaN\n",
       "2017-12-10        NaT  111172  Wholesale  ...      -80.00       Wholesale        NaN\n",
       "\n",
       "[10202 rows x 7 columns]"
      ]
     },
     "execution_count": 67,
     "metadata": {
      "tags": []
     },
     "output_type": "execute_result"
    }
   ],
   "source": [
    "\n",
    "data_df3=data_df3.sort_values(by='Date',ascending=True, inplace=False)\n",
    "data_df3=data_df3[data_df3['DealNo']>0]\n",
    "data_df3"
   ]
  },
  {
   "cell_type": "code",
   "execution_count": 0,
   "metadata": {
    "colab": {
     "base_uri": "https://localhost:8080/",
     "height": 354
    },
    "colab_type": "code",
    "id": "420IGmHbU88z",
    "outputId": "317d57c7-4bb4-496d-965b-2bd601519eac"
   },
   "outputs": [
    {
     "data": {
      "text/plain": [
       "<matplotlib.axes._subplots.AxesSubplot at 0x7f789d505f28>"
      ]
     },
     "execution_count": 68,
     "metadata": {
      "tags": []
     },
     "output_type": "execute_result"
    },
    {
     "data": {
      "image/png": "[encoded data removed]",
      "text/plain": [
       "<Figure size 432x288 with 1 Axes>"
      ]
     },
     "metadata": {
      "needs_background": "light",
      "tags": []
     },
     "output_type": "display_data"
    }
   ],
   "source": [
    "data_df3.groupby('DealType')['GrossProfit'].median().plot(kind='bar', label =\"popularity\")"
   ]
  },
  {
   "cell_type": "code",
   "execution_count": 0,
   "metadata": {
    "colab": {
     "base_uri": "https://localhost:8080/",
     "height": 225
    },
    "colab_type": "code",
    "id": "0FRhw0TDlrmY",
    "outputId": "295c1027-92f8-41ca-aa92-79a4dc5f31ec"
   },
   "outputs": [
    {
     "data": {
      "text/html": [
       "<div>\n",
       "<style scoped>\n",
       "    .dataframe tbody tr th:only-of-type {\n",
       "        vertical-align: middle;\n",
       "    }\n",
       "\n",
       "    .dataframe tbody tr th {\n",
       "        vertical-align: top;\n",
       "    }\n",
       "\n",
       "    .dataframe thead th {\n",
       "        text-align: right;\n",
       "    }\n",
       "</style>\n",
       "<table border=\"1\" class=\"dataframe\">\n",
       "  <thead>\n",
       "    <tr style=\"text-align: right;\">\n",
       "      <th></th>\n",
       "      <th>BirthDate</th>\n",
       "      <th>DealNo</th>\n",
       "      <th>DealType</th>\n",
       "      <th>FIDealType</th>\n",
       "      <th>GrossProfit</th>\n",
       "      <th>SaleType_Clean</th>\n",
       "      <th>Aging</th>\n",
       "    </tr>\n",
       "    <tr>\n",
       "      <th>Date</th>\n",
       "      <th></th>\n",
       "      <th></th>\n",
       "      <th></th>\n",
       "      <th></th>\n",
       "      <th></th>\n",
       "      <th></th>\n",
       "      <th></th>\n",
       "    </tr>\n",
       "  </thead>\n",
       "  <tbody>\n",
       "    <tr>\n",
       "      <th>2005-01-11</th>\n",
       "      <td>1946-04-13</td>\n",
       "      <td>19980</td>\n",
       "      <td>New</td>\n",
       "      <td>New</td>\n",
       "      <td>1211.32</td>\n",
       "      <td>New</td>\n",
       "      <td>58.750009</td>\n",
       "    </tr>\n",
       "    <tr>\n",
       "      <th>2005-01-11</th>\n",
       "      <td>1930-08-07</td>\n",
       "      <td>19978</td>\n",
       "      <td>New</td>\n",
       "      <td>New</td>\n",
       "      <td>255.04</td>\n",
       "      <td>New</td>\n",
       "      <td>74.432740</td>\n",
       "    </tr>\n",
       "    <tr>\n",
       "      <th>2005-01-11</th>\n",
       "      <td>1959-12-22</td>\n",
       "      <td>19989</td>\n",
       "      <td>New</td>\n",
       "      <td>New</td>\n",
       "      <td>1172.00</td>\n",
       "      <td>New</td>\n",
       "      <td>45.057736</td>\n",
       "    </tr>\n",
       "    <tr>\n",
       "      <th>2005-02-12</th>\n",
       "      <td>1966-01-27</td>\n",
       "      <td>19996</td>\n",
       "      <td>New</td>\n",
       "      <td>New</td>\n",
       "      <td>1390.27</td>\n",
       "      <td>New</td>\n",
       "      <td>39.045292</td>\n",
       "    </tr>\n",
       "    <tr>\n",
       "      <th>2005-03-11</th>\n",
       "      <td>1943-10-30</td>\n",
       "      <td>19638</td>\n",
       "      <td>New</td>\n",
       "      <td>New</td>\n",
       "      <td>1325.27</td>\n",
       "      <td>New</td>\n",
       "      <td>61.364710</td>\n",
       "    </tr>\n",
       "  </tbody>\n",
       "</table>\n",
       "</div>"
      ],
      "text/plain": [
       "            BirthDate  DealNo DealType  ... GrossProfit  SaleType_Clean      Aging\n",
       "Date                                    ...                                       \n",
       "2005-01-11 1946-04-13   19980      New  ...     1211.32             New  58.750009\n",
       "2005-01-11 1930-08-07   19978      New  ...      255.04             New  74.432740\n",
       "2005-01-11 1959-12-22   19989      New  ...     1172.00             New  45.057736\n",
       "2005-02-12 1966-01-27   19996      New  ...     1390.27             New  39.045292\n",
       "2005-03-11 1943-10-30   19638      New  ...     1325.27             New  61.364710\n",
       "\n",
       "[5 rows x 7 columns]"
      ]
     },
     "execution_count": 69,
     "metadata": {
      "tags": []
     },
     "output_type": "execute_result"
    }
   ],
   "source": [
    "data_df3.head()"
   ]
  },
  {
   "cell_type": "code",
   "execution_count": 0,
   "metadata": {
    "colab": {
     "base_uri": "https://localhost:8080/",
     "height": 50
    },
    "colab_type": "code",
    "id": "MhJjoLLcoX8G",
    "outputId": "df341e13-d8b8-49fe-9261-5c5b06ae8825"
   },
   "outputs": [
    {
     "data": {
      "text/plain": [
       "array(['New', 'Misc', 'Used', 'Demo', 'Special Order', 'Lease',\n",
       "       'Wholesale'], dtype=object)"
      ]
     },
     "execution_count": 70,
     "metadata": {
      "tags": []
     },
     "output_type": "execute_result"
    }
   ],
   "source": [
    "data_df3['DealType'].unique()"
   ]
  },
  {
   "cell_type": "code",
   "execution_count": 0,
   "metadata": {
    "colab": {
     "base_uri": "https://localhost:8080/",
     "height": 151
    },
    "colab_type": "code",
    "id": "Zs6a7z20pF4a",
    "outputId": "24e66acb-135d-4d1a-f321-8114890e589e"
   },
   "outputs": [
    {
     "data": {
      "text/plain": [
       "New              4081\n",
       "Used             2641\n",
       "Wholesale        1977\n",
       "Lease             915\n",
       "Misc              569\n",
       "Demo               16\n",
       "Special Order       3\n",
       "Name: DealType, dtype: int64"
      ]
     },
     "execution_count": 71,
     "metadata": {
      "tags": []
     },
     "output_type": "execute_result"
    }
   ],
   "source": [
    "data_df3['DealType'].value_counts()"
   ]
  },
  {
   "cell_type": "code",
   "execution_count": 0,
   "metadata": {
    "colab": {},
    "colab_type": "code",
    "id": "VyxSoZHvpPeU"
   },
   "outputs": [],
   "source": [
    "encode={'DealType':{'Used':1, 'New':2, 'Wholesale':3, 'Lease':4, 'Demo':5, 'Misc':6,\n",
    "       'Special Order':7}}\n",
    "data_df3.replace(encode, inplace=True)\n",
    "encode={'SaleType_Clean':{'Used':1, 'New':2, 'Wholesale':3, 'Lease':4, 'Demo':5, 'Misc':6,\n",
    "       'Special Order':7}}\n",
    "data_df3.replace(encode, inplace=True)"
   ]
  },
  {
   "cell_type": "markdown",
   "metadata": {
    "colab_type": "text",
    "id": "zdgGpNkG9usN"
   },
   "source": [
    "## 10. [BONUS] Based on your analyses, what kind of recommendations would you make to this dealership to improve sales? \n",
    "\n",
    "Based on the EDA, the population aged between 40 to 50 years buys more vehicles as compared to other age groups. And mostly the vehicles sold are the new or old. More fucus should be given to other categories dealing like lease or special categoried vehicles which could boost the Gross Profit significantly. One of the measures could be advertising about the other deal types available in the company. Also the sales has dropped drastically in just 10 years duration. This maybe due to some technical or manufacturing issues or less improvements in the upcomin models."
   ]
  },
  {
   "cell_type": "markdown",
   "metadata": {
    "colab_type": "text",
    "id": "4yBtWZTz9nxA"
   },
   "source": [
    "## 11. [BONUS] Use your favourite forecasting algorithm (or create your own!) to forecast sales for the next month."
   ]
  },
  {
   "cell_type": "code",
   "execution_count": 0,
   "metadata": {
    "colab": {
     "base_uri": "https://localhost:8080/",
     "height": 136
    },
    "colab_type": "code",
    "id": "YSx7fHW3lvTl",
    "outputId": "ac567abc-f840-49d4-aad5-b04742042cf1"
   },
   "outputs": [
    {
     "data": {
      "text/html": [
       "<div>\n",
       "<style scoped>\n",
       "    .dataframe tbody tr th:only-of-type {\n",
       "        vertical-align: middle;\n",
       "    }\n",
       "\n",
       "    .dataframe tbody tr th {\n",
       "        vertical-align: top;\n",
       "    }\n",
       "\n",
       "    .dataframe thead th {\n",
       "        text-align: right;\n",
       "    }\n",
       "</style>\n",
       "<table border=\"1\" class=\"dataframe\">\n",
       "  <thead>\n",
       "    <tr style=\"text-align: right;\">\n",
       "      <th></th>\n",
       "      <th>DealType</th>\n",
       "      <th>GrossProfit</th>\n",
       "      <th>Aging</th>\n",
       "    </tr>\n",
       "  </thead>\n",
       "  <tbody>\n",
       "    <tr>\n",
       "      <th>DealType</th>\n",
       "      <td>1.000000</td>\n",
       "      <td>-0.375634</td>\n",
       "      <td>0.108384</td>\n",
       "    </tr>\n",
       "    <tr>\n",
       "      <th>GrossProfit</th>\n",
       "      <td>-0.375634</td>\n",
       "      <td>1.000000</td>\n",
       "      <td>0.019133</td>\n",
       "    </tr>\n",
       "    <tr>\n",
       "      <th>Aging</th>\n",
       "      <td>0.108384</td>\n",
       "      <td>0.019133</td>\n",
       "      <td>1.000000</td>\n",
       "    </tr>\n",
       "  </tbody>\n",
       "</table>\n",
       "</div>"
      ],
      "text/plain": [
       "             DealType  GrossProfit     Aging\n",
       "DealType     1.000000    -0.375634  0.108384\n",
       "GrossProfit -0.375634     1.000000  0.019133\n",
       "Aging        0.108384     0.019133  1.000000"
      ]
     },
     "execution_count": 73,
     "metadata": {
      "tags": []
     },
     "output_type": "execute_result"
    }
   ],
   "source": [
    "from sklearn.utils import shuffle\n",
    "data_df3=shuffle(data_df3)\n",
    "data_class=data_df3.loc[:,'SaleType_Clean']\n",
    "data=data_df3.loc[:,['DealType',\t'GrossProfit','Aging']]\n",
    "feature = ['DealType',\t'GrossProfit','Aging']\n",
    "mean_corr=data_df3[feature].corr()\n",
    "mean_corr"
   ]
  },
  {
   "cell_type": "code",
   "execution_count": 0,
   "metadata": {
    "colab": {
     "base_uri": "https://localhost:8080/",
     "height": 333
    },
    "colab_type": "code",
    "id": "H0ehvv0gnWIC",
    "outputId": "8060527e-ed38-4f86-9667-b0f1086192ee"
   },
   "outputs": [
    {
     "data": {
      "text/plain": [
       "Text(0.5, 1.0, 'Correlation Plot')"
      ]
     },
     "execution_count": 74,
     "metadata": {
      "tags": []
     },
     "output_type": "execute_result"
    },
    {
     "data": {
      "image/png": "[encoded data removed]",
      "text/plain": [
       "<Figure size 432x288 with 2 Axes>"
      ]
     },
     "metadata": {
      "needs_background": "light",
      "tags": []
     },
     "output_type": "display_data"
    }
   ],
   "source": [
    "g1 = sns.heatmap(mean_corr, cmap='coolwarm', vmin=0, vmax=1)\n",
    "g1.set_xticklabels(g1.get_xticklabels(), rotation=70, fontsize=8)\n",
    "g1.set_yticklabels(g1.get_yticklabels(), rotation=15, fontsize=8)\n",
    "plt.title(\"Correlation Plot\")"
   ]
  },
  {
   "cell_type": "code",
   "execution_count": 0,
   "metadata": {
    "colab": {},
    "colab_type": "code",
    "id": "MZt5AXToqRMW"
   },
   "outputs": [],
   "source": [
    "from sklearn.model_selection import train_test_split\n",
    "from sklearn.svm import SVC\n",
    "from sklearn import metrics\n",
    "from sklearn.metrics import classification_report, confusion_matrix\n",
    "from sklearn.model_selection import train_test_split\n",
    "from sklearn.preprocessing import StandardScaler\n",
    "from sklearn.decomposition import PCA\n",
    "from sklearn.svm import SVC\n",
    "from sklearn.neighbors import KNeighborsClassifier\n",
    "from sklearn.tree import DecisionTreeClassifier\n",
    "from sklearn.naive_bayes import GaussianNB\n",
    "from sklearn.discriminant_analysis import LinearDiscriminantAnalysis\n",
    "\n",
    "\n",
    "#X_train, X_test, Y_train, Y_test = train_test_split(data, data_class, test_size=0.2, stratify=data_class, random_state=30)\n",
    "#scaler1 = StandardScaler()\n",
    "#scaler1.fit(data)\n",
    "#feature_scaled = scaler1.transform(data)"
   ]
  },
  {
   "cell_type": "code",
   "execution_count": 0,
   "metadata": {
    "colab": {},
    "colab_type": "code",
    "id": "reeWTJ13uPVV"
   },
   "outputs": [],
   "source": [
    "#data_df['Email1Desc'].fillna(data_df['Email1Desc'].mode()[0],inplace=True)\n",
    "#'DealType',\t'GrossProfit','Aging'\n",
    "data['DealType'].fillna(data['DealType'].mode()[0],inplace=True)\n",
    "data['GrossProfit'].fillna(data['GrossProfit'].median(),inplace=True)\n",
    "data['Aging'].fillna(data['Aging'].mean(),inplace=True)\n",
    "\n",
    "X_train, X_test, Y_train, Y_test = train_test_split(data, data_class, test_size=0.2, stratify=data_class, random_state=30)\n",
    "scaler1 = StandardScaler()\n",
    "scaler1.fit(data)\n",
    "feature_scaled = scaler1.transform(data)"
   ]
  },
  {
   "cell_type": "code",
   "execution_count": 0,
   "metadata": {
    "colab": {
     "base_uri": "https://localhost:8080/",
     "height": 470
    },
    "colab_type": "code",
    "id": "f-1bm_akrupZ",
    "outputId": "6a5b2ad3-7831-4f8d-e4d1-5e381cc77714"
   },
   "outputs": [
    {
     "name": "stderr",
     "output_type": "stream",
     "text": [
      "/usr/local/lib/python3.6/dist-packages/sklearn/linear_model/_logistic.py:939: ConvergenceWarning: lbfgs failed to converge (status=1):\n",
      "STOP: TOTAL NO. of ITERATIONS REACHED LIMIT.\n",
      "\n",
      "Increase the number of iterations (max_iter) or scale the data as shown in:\n",
      "    https://scikit-learn.org/stable/modules/preprocessing.html.\n",
      "Please also refer to the documentation for alternative solver options:\n",
      "    https://scikit-learn.org/stable/modules/linear_model.html#logistic-regression\n",
      "  extra_warning_msg=_LOGISTIC_SOLVER_CONVERGENCE_MSG)\n"
     ]
    },
    {
     "name": "stdout",
     "output_type": "stream",
     "text": [
      "0.7084762371386575\n",
      "0.6050955414012739\n",
      "0.7295443410093092\n",
      "[[ 401   31    0]\n",
      " [ 105 1013  364]\n",
      " [  23   72   32]]\n",
      "[[134  97   0]\n",
      " [322 769  64]\n",
      " [ 73 250 332]]\n",
      "              precision    recall  f1-score   support\n",
      "\n",
      "           1       0.46      0.56      0.50       429\n",
      "           2       0.80      0.74      0.77      1204\n",
      "           3       0.90      0.87      0.89       408\n",
      "\n",
      "    accuracy                           0.73      2041\n",
      "   macro avg       0.72      0.73      0.72      2041\n",
      "weighted avg       0.75      0.73      0.74      2041\n",
      "\n"
     ]
    }
   ],
   "source": [
    "logreg_clf = LogisticRegression()\n",
    "SVC_model = svm.SVC()\n",
    "KNN_model = KNeighborsClassifier(n_neighbors=5)\n",
    "\n",
    "logreg_clf.fit(X_train, Y_train)\n",
    "SVC_model.fit(X_train, Y_train)\n",
    "KNN_model.fit(X_train, Y_train)\n",
    "\n",
    "logreg_prediction= logreg_clf.predict(X_test)\n",
    "SVC_prediction = SVC_model.predict(X_test)\n",
    "KNN_prediction = KNN_model.predict(X_test)\n",
    "\n",
    "# Accuracy score is the simplest way to evaluate\n",
    "print(accuracy_score(logreg_prediction, Y_test))\n",
    "print(accuracy_score(SVC_prediction, Y_test))\n",
    "print(accuracy_score(KNN_prediction, Y_test))\n",
    "\n",
    "# But Confusion Matrix and Classification Report give more details about performance\n",
    "print(confusion_matrix(logreg_prediction, Y_test))\n",
    "print(confusion_matrix(SVC_prediction, Y_test))\n",
    "print(classification_report(KNN_prediction, Y_test))"
   ]
  },
  {
   "cell_type": "code",
   "execution_count": 93,
   "metadata": {
    "colab": {
     "base_uri": "https://localhost:8080/",
     "height": 34
    },
    "colab_type": "code",
    "id": "XGUYvvr2GeRN",
    "outputId": "4603abfe-b302-42f4-8c4b-128dd34950df"
   },
   "outputs": [
    {
     "name": "stdout",
     "output_type": "stream",
     "text": [
      "0.7295443410093092\n"
     ]
    }
   ],
   "source": [
    "Knn_model = KNeighborsClassifier(n_neighbors=5)\n",
    "Knn_model.fit(X_train, Y_train)\n",
    "Knn_model_prediction=Knn_model.predict(X_test)\n",
    "print(accuracy_score(Knn_model_prediction, Y_test))"
   ]
  },
  {
   "cell_type": "code",
   "execution_count": 94,
   "metadata": {
    "colab": {
     "base_uri": "https://localhost:8080/",
     "height": 34
    },
    "colab_type": "code",
    "id": "LeyHZpnEHvKM",
    "outputId": "4112f7b3-7332-4982-b3b7-c9327a0f339e"
   },
   "outputs": [
    {
     "name": "stdout",
     "output_type": "stream",
     "text": [
      "0.9980401763841255\n"
     ]
    }
   ],
   "source": [
    "gnb = GaussianNB()\n",
    "gnb.fit(X_train, Y_train)\n",
    "gnb_prediction=gnb.predict(X_test)\n",
    "print(accuracy_score(gnb_prediction, Y_test))"
   ]
  },
  {
   "cell_type": "code",
   "execution_count": 95,
   "metadata": {
    "colab": {
     "base_uri": "https://localhost:8080/",
     "height": 34
    },
    "colab_type": "code",
    "id": "seaHsdB3IUJ1",
    "outputId": "cabe7b07-7b54-4d07-f3d9-8dc86233a94f"
   },
   "outputs": [
    {
     "name": "stdout",
     "output_type": "stream",
     "text": [
      "0.9995100440960314\n"
     ]
    }
   ],
   "source": [
    "dt = DecisionTreeClassifier()\n",
    "dt.fit(X_train, Y_train)\n",
    "dt_prediction=dt.predict(X_test)\n",
    "print(accuracy_score(dt_prediction, Y_test))"
   ]
  },
  {
   "cell_type": "code",
   "execution_count": 97,
   "metadata": {
    "colab": {
     "base_uri": "https://localhost:8080/",
     "height": 34
    },
    "colab_type": "code",
    "id": "n1L3_umXIhqR",
    "outputId": "3e87b50b-a218-4737-ba80-1c44d563be41"
   },
   "outputs": [
    {
     "name": "stdout",
     "output_type": "stream",
     "text": [
      "0.8054875061244487\n"
     ]
    }
   ],
   "source": [
    "from sklearn.ensemble import AdaBoostClassifier\n",
    "clf = AdaBoostClassifier(n_estimators=100)\n",
    "clf.fit(X_train, Y_train)\n",
    "clf_prediction=clf.predict(X_test)\n",
    "print(accuracy_score(clf_prediction, Y_test))"
   ]
  },
  {
   "cell_type": "code",
   "execution_count": 105,
   "metadata": {
    "colab": {
     "base_uri": "https://localhost:8080/",
     "height": 265
    },
    "colab_type": "code",
    "id": "h9vFxe-ZJWDW",
    "outputId": "46590cbd-2e67-4c7f-b597-ee46ddad001f"
   },
   "outputs": [
    {
     "data": {
      "image/png": "[encoded data removed]",
      "text/plain": [
       "<Figure size 432x288 with 1 Axes>"
      ]
     },
     "metadata": {
      "needs_background": "light",
      "tags": []
     },
     "output_type": "display_data"
    }
   ],
   "source": [
    "algo = ['Logistic Regression','SVM', 'KNN', 'Naive Bias', 'Decision Tree', 'Ada Boost']\n",
    "accuracy = [70.84,60.50,72.954,99.80,99.95,80.548]\n",
    "y_pos = np.arange(len(algo))\n",
    "\n",
    "plt.bar(y_pos,accuracy)\n",
    "plt.xticks(y_pos,algo)\n",
    "plt.show()"
   ]
  },
  {
   "cell_type": "markdown",
   "metadata": {
    "colab_type": "text",
    "id": "-Czu0kfAL2Mh"
   },
   "source": [
    "Naive Bias and Decision tree classifiers gives the highest accuracy in prediction."
   ]
  }
 ],
 "metadata": {
  "colab": {
   "collapsed_sections": [],
   "name": "Analysis.ipynb",
   "provenance": []
  },
  "kernelspec": {
   "display_name": "Python 3",
   "language": "python",
   "name": "python3"
  },
  "language_info": {
   "codemirror_mode": {
    "name": "ipython",
    "version": 3
   },
   "file_extension": ".py",
   "mimetype": "text/x-python",
   "name": "python",
   "nbconvert_exporter": "python",
   "pygments_lexer": "ipython3",
   "version": "3.7.3"
  }
 },
 "nbformat": 4,
 "nbformat_minor": 1
}
